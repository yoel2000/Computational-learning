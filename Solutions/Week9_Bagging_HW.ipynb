{
  "nbformat": 4,
  "nbformat_minor": 0,
  "metadata": {
    "kernelspec": {
      "display_name": "Python 3",
      "language": "python",
      "name": "python3"
    },
    "language_info": {
      "codemirror_mode": {
        "name": "ipython",
        "version": 3
      },
      "file_extension": ".py",
      "mimetype": "text/x-python",
      "name": "python",
      "nbconvert_exporter": "python",
      "pygments_lexer": "ipython3",
      "version": "3.6.2"
    },
    "colab": {
      "name": "Week9_Bagging_HW.ipynb",
      "provenance": [],
      "collapsed_sections": [
        "IhYR1vMXhnAw",
        "_rJnaIEHhnAx",
        "YLwcPWbohnAy",
        "7f5KGjhxhnAz",
        "huFfXn6BhnAz",
        "_fKbOE0WhnA0",
        "FVWNzdb1hnA0",
        "tyoSnn3hhnA0",
        "Jb3nYQDvhnA0",
        "7qc80P1QhnA1",
        "xDeDG7gjhnA1"
      ]
    }
  },
  "cells": [
    {
      "cell_type": "markdown",
      "metadata": {
        "id": "tJGZ_MRphnAn"
      },
      "source": [
        "# Bagging Exercises"
      ]
    },
    {
      "cell_type": "markdown",
      "metadata": {
        "id": "JQnup7LMhnAp"
      },
      "source": [
        "## Introduction\n",
        "\n",
        "We will be using the customer churn data from the telecom industry that we used in week 1 for this week's exercises. The data file is called `Orange_Telecom_Churn_Data.csv`. "
      ]
    },
    {
      "cell_type": "markdown",
      "metadata": {
        "id": "fZ0RVkwthnAq"
      },
      "source": [
        "### Prerequisites\n",
        "Install imblearn and upgrade sklearn to 0.19.0"
      ]
    },
    {
      "cell_type": "code",
      "metadata": {
        "collapsed": true,
        "id": "iqs4q-muhnAq",
        "colab": {
          "base_uri": "https://localhost:8080/"
        },
        "outputId": "697a1da8-7c3a-4954-df87-ece0c38b3af3"
      },
      "source": [
        "!pip install imblearn\n",
        "!pip install --upgrade sklearn"
      ],
      "execution_count": 2,
      "outputs": [
        {
          "output_type": "stream",
          "name": "stdout",
          "text": [
            "Requirement already satisfied: imblearn in /usr/local/lib/python3.7/dist-packages (0.0)\n",
            "Requirement already satisfied: imbalanced-learn in /usr/local/lib/python3.7/dist-packages (from imblearn) (0.8.1)\n",
            "Requirement already satisfied: scikit-learn>=0.24 in /usr/local/lib/python3.7/dist-packages (from imbalanced-learn->imblearn) (1.0.1)\n",
            "Requirement already satisfied: numpy>=1.13.3 in /usr/local/lib/python3.7/dist-packages (from imbalanced-learn->imblearn) (1.19.5)\n",
            "Requirement already satisfied: scipy>=0.19.1 in /usr/local/lib/python3.7/dist-packages (from imbalanced-learn->imblearn) (1.4.1)\n",
            "Requirement already satisfied: joblib>=0.11 in /usr/local/lib/python3.7/dist-packages (from imbalanced-learn->imblearn) (1.1.0)\n",
            "Requirement already satisfied: threadpoolctl>=2.0.0 in /usr/local/lib/python3.7/dist-packages (from scikit-learn>=0.24->imbalanced-learn->imblearn) (3.0.0)\n",
            "Requirement already satisfied: sklearn in /usr/local/lib/python3.7/dist-packages (0.0)\n",
            "Requirement already satisfied: scikit-learn in /usr/local/lib/python3.7/dist-packages (from sklearn) (1.0.1)\n",
            "Requirement already satisfied: threadpoolctl>=2.0.0 in /usr/local/lib/python3.7/dist-packages (from scikit-learn->sklearn) (3.0.0)\n",
            "Requirement already satisfied: scipy>=1.1.0 in /usr/local/lib/python3.7/dist-packages (from scikit-learn->sklearn) (1.4.1)\n",
            "Requirement already satisfied: joblib>=0.11 in /usr/local/lib/python3.7/dist-packages (from scikit-learn->sklearn) (1.1.0)\n",
            "Requirement already satisfied: numpy>=1.14.6 in /usr/local/lib/python3.7/dist-packages (from scikit-learn->sklearn) (1.19.5)\n"
          ]
        }
      ]
    },
    {
      "cell_type": "code",
      "metadata": {
        "ExecuteTime": {
          "end_time": "2017-04-09T22:20:27.179264Z",
          "start_time": "2017-04-09T18:20:27.170100-04:00"
        },
        "collapsed": true,
        "colab": {
          "base_uri": "https://localhost:8080/"
        },
        "id": "FT-4ubsXhnAr",
        "outputId": "21c7ac0c-5b90-4fea-9cdc-c9e0f8e6f4a1"
      },
      "source": [
        "from google.colab import drive\n",
        "drive.mount('/content/gdrive')"
      ],
      "execution_count": null,
      "outputs": [
        {
          "output_type": "stream",
          "name": "stdout",
          "text": [
            "Mounted at /content/gdrive\n"
          ]
        }
      ]
    },
    {
      "cell_type": "markdown",
      "metadata": {
        "id": "TkH71n8HhnAs"
      },
      "source": [
        "## Question 1\n",
        "\n",
        "* Import the customer churn data, which is found in the file `Orange_Telecom_Churn_Data.csv`. \n",
        "* Remove any columns that are likely not to be used for prediction.\n",
        "* Encode data types as appropriate."
      ]
    },
    {
      "cell_type": "code",
      "metadata": {
        "ExecuteTime": {
          "end_time": "2017-04-09T22:20:28.243815Z",
          "start_time": "2017-04-09T18:20:27.572024-04:00"
        },
        "collapsed": true,
        "id": "IYcUR26ZhnAs"
      },
      "source": [
        "import pandas as pd\n",
        "import numpy as np\n",
        "\n",
        "filepath = 'https://raw.githubusercontent.com/yoel2000/Computational-learning/main/Data/Orange_Telecom_Churn_Data.csv'\n",
        "data = pd.read_csv(filepath, sep=',')"
      ],
      "execution_count": 3,
      "outputs": []
    },
    {
      "cell_type": "code",
      "metadata": {
        "ExecuteTime": {
          "end_time": "2017-04-09T22:20:28.265947Z",
          "start_time": "2017-04-09T18:20:28.245694-04:00"
        },
        "colab": {
          "base_uri": "https://localhost:8080/",
          "height": 708
        },
        "id": "1HifUfJ_hnAs",
        "outputId": "4f2fa88c-f604-4c91-fe1f-b28fd365d8ab"
      },
      "source": [
        "data.head().T"
      ],
      "execution_count": 4,
      "outputs": [
        {
          "output_type": "execute_result",
          "data": {
            "text/html": [
              "<div>\n",
              "<style scoped>\n",
              "    .dataframe tbody tr th:only-of-type {\n",
              "        vertical-align: middle;\n",
              "    }\n",
              "\n",
              "    .dataframe tbody tr th {\n",
              "        vertical-align: top;\n",
              "    }\n",
              "\n",
              "    .dataframe thead th {\n",
              "        text-align: right;\n",
              "    }\n",
              "</style>\n",
              "<table border=\"1\" class=\"dataframe\">\n",
              "  <thead>\n",
              "    <tr style=\"text-align: right;\">\n",
              "      <th></th>\n",
              "      <th>0</th>\n",
              "      <th>1</th>\n",
              "      <th>2</th>\n",
              "      <th>3</th>\n",
              "      <th>4</th>\n",
              "    </tr>\n",
              "  </thead>\n",
              "  <tbody>\n",
              "    <tr>\n",
              "      <th>state</th>\n",
              "      <td>KS</td>\n",
              "      <td>OH</td>\n",
              "      <td>NJ</td>\n",
              "      <td>OH</td>\n",
              "      <td>OK</td>\n",
              "    </tr>\n",
              "    <tr>\n",
              "      <th>account_length</th>\n",
              "      <td>128</td>\n",
              "      <td>107</td>\n",
              "      <td>137</td>\n",
              "      <td>84</td>\n",
              "      <td>75</td>\n",
              "    </tr>\n",
              "    <tr>\n",
              "      <th>area_code</th>\n",
              "      <td>415</td>\n",
              "      <td>415</td>\n",
              "      <td>415</td>\n",
              "      <td>408</td>\n",
              "      <td>415</td>\n",
              "    </tr>\n",
              "    <tr>\n",
              "      <th>phone_number</th>\n",
              "      <td>382-4657</td>\n",
              "      <td>371-7191</td>\n",
              "      <td>358-1921</td>\n",
              "      <td>375-9999</td>\n",
              "      <td>330-6626</td>\n",
              "    </tr>\n",
              "    <tr>\n",
              "      <th>intl_plan</th>\n",
              "      <td>no</td>\n",
              "      <td>no</td>\n",
              "      <td>no</td>\n",
              "      <td>yes</td>\n",
              "      <td>yes</td>\n",
              "    </tr>\n",
              "    <tr>\n",
              "      <th>voice_mail_plan</th>\n",
              "      <td>yes</td>\n",
              "      <td>yes</td>\n",
              "      <td>no</td>\n",
              "      <td>no</td>\n",
              "      <td>no</td>\n",
              "    </tr>\n",
              "    <tr>\n",
              "      <th>number_vmail_messages</th>\n",
              "      <td>25</td>\n",
              "      <td>26</td>\n",
              "      <td>0</td>\n",
              "      <td>0</td>\n",
              "      <td>0</td>\n",
              "    </tr>\n",
              "    <tr>\n",
              "      <th>total_day_minutes</th>\n",
              "      <td>265.1</td>\n",
              "      <td>161.6</td>\n",
              "      <td>243.4</td>\n",
              "      <td>299.4</td>\n",
              "      <td>166.7</td>\n",
              "    </tr>\n",
              "    <tr>\n",
              "      <th>total_day_calls</th>\n",
              "      <td>110</td>\n",
              "      <td>123</td>\n",
              "      <td>114</td>\n",
              "      <td>71</td>\n",
              "      <td>113</td>\n",
              "    </tr>\n",
              "    <tr>\n",
              "      <th>total_day_charge</th>\n",
              "      <td>45.07</td>\n",
              "      <td>27.47</td>\n",
              "      <td>41.38</td>\n",
              "      <td>50.9</td>\n",
              "      <td>28.34</td>\n",
              "    </tr>\n",
              "    <tr>\n",
              "      <th>total_eve_minutes</th>\n",
              "      <td>197.4</td>\n",
              "      <td>195.5</td>\n",
              "      <td>121.2</td>\n",
              "      <td>61.9</td>\n",
              "      <td>148.3</td>\n",
              "    </tr>\n",
              "    <tr>\n",
              "      <th>total_eve_calls</th>\n",
              "      <td>99</td>\n",
              "      <td>103</td>\n",
              "      <td>110</td>\n",
              "      <td>88</td>\n",
              "      <td>122</td>\n",
              "    </tr>\n",
              "    <tr>\n",
              "      <th>total_eve_charge</th>\n",
              "      <td>16.78</td>\n",
              "      <td>16.62</td>\n",
              "      <td>10.3</td>\n",
              "      <td>5.26</td>\n",
              "      <td>12.61</td>\n",
              "    </tr>\n",
              "    <tr>\n",
              "      <th>total_night_minutes</th>\n",
              "      <td>244.7</td>\n",
              "      <td>254.4</td>\n",
              "      <td>162.6</td>\n",
              "      <td>196.9</td>\n",
              "      <td>186.9</td>\n",
              "    </tr>\n",
              "    <tr>\n",
              "      <th>total_night_calls</th>\n",
              "      <td>91</td>\n",
              "      <td>103</td>\n",
              "      <td>104</td>\n",
              "      <td>89</td>\n",
              "      <td>121</td>\n",
              "    </tr>\n",
              "    <tr>\n",
              "      <th>total_night_charge</th>\n",
              "      <td>11.01</td>\n",
              "      <td>11.45</td>\n",
              "      <td>7.32</td>\n",
              "      <td>8.86</td>\n",
              "      <td>8.41</td>\n",
              "    </tr>\n",
              "    <tr>\n",
              "      <th>total_intl_minutes</th>\n",
              "      <td>10</td>\n",
              "      <td>13.7</td>\n",
              "      <td>12.2</td>\n",
              "      <td>6.6</td>\n",
              "      <td>10.1</td>\n",
              "    </tr>\n",
              "    <tr>\n",
              "      <th>total_intl_calls</th>\n",
              "      <td>3</td>\n",
              "      <td>3</td>\n",
              "      <td>5</td>\n",
              "      <td>7</td>\n",
              "      <td>3</td>\n",
              "    </tr>\n",
              "    <tr>\n",
              "      <th>total_intl_charge</th>\n",
              "      <td>2.7</td>\n",
              "      <td>3.7</td>\n",
              "      <td>3.29</td>\n",
              "      <td>1.78</td>\n",
              "      <td>2.73</td>\n",
              "    </tr>\n",
              "    <tr>\n",
              "      <th>number_customer_service_calls</th>\n",
              "      <td>1</td>\n",
              "      <td>1</td>\n",
              "      <td>0</td>\n",
              "      <td>2</td>\n",
              "      <td>3</td>\n",
              "    </tr>\n",
              "    <tr>\n",
              "      <th>churned</th>\n",
              "      <td>False</td>\n",
              "      <td>False</td>\n",
              "      <td>False</td>\n",
              "      <td>False</td>\n",
              "      <td>False</td>\n",
              "    </tr>\n",
              "  </tbody>\n",
              "</table>\n",
              "</div>"
            ],
            "text/plain": [
              "                                      0         1         2         3         4\n",
              "state                                KS        OH        NJ        OH        OK\n",
              "account_length                      128       107       137        84        75\n",
              "area_code                           415       415       415       408       415\n",
              "phone_number                   382-4657  371-7191  358-1921  375-9999  330-6626\n",
              "intl_plan                            no        no        no       yes       yes\n",
              "voice_mail_plan                     yes       yes        no        no        no\n",
              "number_vmail_messages                25        26         0         0         0\n",
              "total_day_minutes                 265.1     161.6     243.4     299.4     166.7\n",
              "total_day_calls                     110       123       114        71       113\n",
              "total_day_charge                  45.07     27.47     41.38      50.9     28.34\n",
              "total_eve_minutes                 197.4     195.5     121.2      61.9     148.3\n",
              "total_eve_calls                      99       103       110        88       122\n",
              "total_eve_charge                  16.78     16.62      10.3      5.26     12.61\n",
              "total_night_minutes               244.7     254.4     162.6     196.9     186.9\n",
              "total_night_calls                    91       103       104        89       121\n",
              "total_night_charge                11.01     11.45      7.32      8.86      8.41\n",
              "total_intl_minutes                   10      13.7      12.2       6.6      10.1\n",
              "total_intl_calls                      3         3         5         7         3\n",
              "total_intl_charge                   2.7       3.7      3.29      1.78      2.73\n",
              "number_customer_service_calls         1         1         0         2         3\n",
              "churned                           False     False     False     False     False"
            ]
          },
          "metadata": {},
          "execution_count": 4
        }
      ]
    },
    {
      "cell_type": "markdown",
      "source": [
        "\n",
        "\n",
        "> The \".T\" is just the transpose of the matrix.\n",
        "\n"
      ],
      "metadata": {
        "id": "02VN3EnEoh36"
      }
    },
    {
      "cell_type": "markdown",
      "metadata": {
        "id": "vI06K5oPhnAt"
      },
      "source": [
        "The prediction should definitely not include phone number. And it is unlikely that area code or state would be desired, unless there is some reason to assume the model has a very specific geographic factor."
      ]
    },
    {
      "cell_type": "code",
      "metadata": {
        "ExecuteTime": {
          "end_time": "2017-04-09T22:20:28.468823Z",
          "start_time": "2017-04-09T18:20:28.458898-04:00"
        },
        "collapsed": true,
        "id": "idS308Q4hnAt"
      },
      "source": [
        "data.drop(['state', 'phone_number', 'area_code'], axis=1, inplace=True)"
      ],
      "execution_count": 5,
      "outputs": []
    },
    {
      "cell_type": "code",
      "source": [
        "data.head().T"
      ],
      "metadata": {
        "colab": {
          "base_uri": "https://localhost:8080/",
          "height": 614
        },
        "id": "c4ZbJO5WpyCM",
        "outputId": "27196fcd-2c2a-4daa-968f-0acfb5c4d05b"
      },
      "execution_count": 6,
      "outputs": [
        {
          "output_type": "execute_result",
          "data": {
            "text/html": [
              "<div>\n",
              "<style scoped>\n",
              "    .dataframe tbody tr th:only-of-type {\n",
              "        vertical-align: middle;\n",
              "    }\n",
              "\n",
              "    .dataframe tbody tr th {\n",
              "        vertical-align: top;\n",
              "    }\n",
              "\n",
              "    .dataframe thead th {\n",
              "        text-align: right;\n",
              "    }\n",
              "</style>\n",
              "<table border=\"1\" class=\"dataframe\">\n",
              "  <thead>\n",
              "    <tr style=\"text-align: right;\">\n",
              "      <th></th>\n",
              "      <th>0</th>\n",
              "      <th>1</th>\n",
              "      <th>2</th>\n",
              "      <th>3</th>\n",
              "      <th>4</th>\n",
              "    </tr>\n",
              "  </thead>\n",
              "  <tbody>\n",
              "    <tr>\n",
              "      <th>account_length</th>\n",
              "      <td>128</td>\n",
              "      <td>107</td>\n",
              "      <td>137</td>\n",
              "      <td>84</td>\n",
              "      <td>75</td>\n",
              "    </tr>\n",
              "    <tr>\n",
              "      <th>intl_plan</th>\n",
              "      <td>no</td>\n",
              "      <td>no</td>\n",
              "      <td>no</td>\n",
              "      <td>yes</td>\n",
              "      <td>yes</td>\n",
              "    </tr>\n",
              "    <tr>\n",
              "      <th>voice_mail_plan</th>\n",
              "      <td>yes</td>\n",
              "      <td>yes</td>\n",
              "      <td>no</td>\n",
              "      <td>no</td>\n",
              "      <td>no</td>\n",
              "    </tr>\n",
              "    <tr>\n",
              "      <th>number_vmail_messages</th>\n",
              "      <td>25</td>\n",
              "      <td>26</td>\n",
              "      <td>0</td>\n",
              "      <td>0</td>\n",
              "      <td>0</td>\n",
              "    </tr>\n",
              "    <tr>\n",
              "      <th>total_day_minutes</th>\n",
              "      <td>265.1</td>\n",
              "      <td>161.6</td>\n",
              "      <td>243.4</td>\n",
              "      <td>299.4</td>\n",
              "      <td>166.7</td>\n",
              "    </tr>\n",
              "    <tr>\n",
              "      <th>total_day_calls</th>\n",
              "      <td>110</td>\n",
              "      <td>123</td>\n",
              "      <td>114</td>\n",
              "      <td>71</td>\n",
              "      <td>113</td>\n",
              "    </tr>\n",
              "    <tr>\n",
              "      <th>total_day_charge</th>\n",
              "      <td>45.07</td>\n",
              "      <td>27.47</td>\n",
              "      <td>41.38</td>\n",
              "      <td>50.9</td>\n",
              "      <td>28.34</td>\n",
              "    </tr>\n",
              "    <tr>\n",
              "      <th>total_eve_minutes</th>\n",
              "      <td>197.4</td>\n",
              "      <td>195.5</td>\n",
              "      <td>121.2</td>\n",
              "      <td>61.9</td>\n",
              "      <td>148.3</td>\n",
              "    </tr>\n",
              "    <tr>\n",
              "      <th>total_eve_calls</th>\n",
              "      <td>99</td>\n",
              "      <td>103</td>\n",
              "      <td>110</td>\n",
              "      <td>88</td>\n",
              "      <td>122</td>\n",
              "    </tr>\n",
              "    <tr>\n",
              "      <th>total_eve_charge</th>\n",
              "      <td>16.78</td>\n",
              "      <td>16.62</td>\n",
              "      <td>10.3</td>\n",
              "      <td>5.26</td>\n",
              "      <td>12.61</td>\n",
              "    </tr>\n",
              "    <tr>\n",
              "      <th>total_night_minutes</th>\n",
              "      <td>244.7</td>\n",
              "      <td>254.4</td>\n",
              "      <td>162.6</td>\n",
              "      <td>196.9</td>\n",
              "      <td>186.9</td>\n",
              "    </tr>\n",
              "    <tr>\n",
              "      <th>total_night_calls</th>\n",
              "      <td>91</td>\n",
              "      <td>103</td>\n",
              "      <td>104</td>\n",
              "      <td>89</td>\n",
              "      <td>121</td>\n",
              "    </tr>\n",
              "    <tr>\n",
              "      <th>total_night_charge</th>\n",
              "      <td>11.01</td>\n",
              "      <td>11.45</td>\n",
              "      <td>7.32</td>\n",
              "      <td>8.86</td>\n",
              "      <td>8.41</td>\n",
              "    </tr>\n",
              "    <tr>\n",
              "      <th>total_intl_minutes</th>\n",
              "      <td>10</td>\n",
              "      <td>13.7</td>\n",
              "      <td>12.2</td>\n",
              "      <td>6.6</td>\n",
              "      <td>10.1</td>\n",
              "    </tr>\n",
              "    <tr>\n",
              "      <th>total_intl_calls</th>\n",
              "      <td>3</td>\n",
              "      <td>3</td>\n",
              "      <td>5</td>\n",
              "      <td>7</td>\n",
              "      <td>3</td>\n",
              "    </tr>\n",
              "    <tr>\n",
              "      <th>total_intl_charge</th>\n",
              "      <td>2.7</td>\n",
              "      <td>3.7</td>\n",
              "      <td>3.29</td>\n",
              "      <td>1.78</td>\n",
              "      <td>2.73</td>\n",
              "    </tr>\n",
              "    <tr>\n",
              "      <th>number_customer_service_calls</th>\n",
              "      <td>1</td>\n",
              "      <td>1</td>\n",
              "      <td>0</td>\n",
              "      <td>2</td>\n",
              "      <td>3</td>\n",
              "    </tr>\n",
              "    <tr>\n",
              "      <th>churned</th>\n",
              "      <td>False</td>\n",
              "      <td>False</td>\n",
              "      <td>False</td>\n",
              "      <td>False</td>\n",
              "      <td>False</td>\n",
              "    </tr>\n",
              "  </tbody>\n",
              "</table>\n",
              "</div>"
            ],
            "text/plain": [
              "                                   0      1      2      3      4\n",
              "account_length                   128    107    137     84     75\n",
              "intl_plan                         no     no     no    yes    yes\n",
              "voice_mail_plan                  yes    yes     no     no     no\n",
              "number_vmail_messages             25     26      0      0      0\n",
              "total_day_minutes              265.1  161.6  243.4  299.4  166.7\n",
              "total_day_calls                  110    123    114     71    113\n",
              "total_day_charge               45.07  27.47  41.38   50.9  28.34\n",
              "total_eve_minutes              197.4  195.5  121.2   61.9  148.3\n",
              "total_eve_calls                   99    103    110     88    122\n",
              "total_eve_charge               16.78  16.62   10.3   5.26  12.61\n",
              "total_night_minutes            244.7  254.4  162.6  196.9  186.9\n",
              "total_night_calls                 91    103    104     89    121\n",
              "total_night_charge             11.01  11.45   7.32   8.86   8.41\n",
              "total_intl_minutes                10   13.7   12.2    6.6   10.1\n",
              "total_intl_calls                   3      3      5      7      3\n",
              "total_intl_charge                2.7    3.7   3.29   1.78   2.73\n",
              "number_customer_service_calls      1      1      0      2      3\n",
              "churned                        False  False  False  False  False"
            ]
          },
          "metadata": {},
          "execution_count": 6
        }
      ]
    },
    {
      "cell_type": "markdown",
      "source": [
        "\n",
        "\n",
        "> The columns 'state', 'phone_number', 'area_code' dropped.\n",
        "\n"
      ],
      "metadata": {
        "id": "xSWaHhkpp3wB"
      }
    },
    {
      "cell_type": "markdown",
      "metadata": {
        "id": "Mds8Z3ydhnAu"
      },
      "source": [
        "Examine the data types. Everything looks OK other than `int_plan` and `voice_mail_plan` need to be boolean encoded."
      ]
    },
    {
      "cell_type": "code",
      "metadata": {
        "ExecuteTime": {
          "end_time": "2017-04-09T22:20:29.428020Z",
          "start_time": "2017-04-09T18:20:29.370550-04:00"
        },
        "colab": {
          "base_uri": "https://localhost:8080/"
        },
        "id": "DonDqK0zhnAu",
        "outputId": "a8d212c5-83c7-4de8-a246-12a74b81e294"
      },
      "source": [
        "data.dtypes"
      ],
      "execution_count": 7,
      "outputs": [
        {
          "output_type": "execute_result",
          "data": {
            "text/plain": [
              "account_length                     int64\n",
              "intl_plan                         object\n",
              "voice_mail_plan                   object\n",
              "number_vmail_messages              int64\n",
              "total_day_minutes                float64\n",
              "total_day_calls                    int64\n",
              "total_day_charge                 float64\n",
              "total_eve_minutes                float64\n",
              "total_eve_calls                    int64\n",
              "total_eve_charge                 float64\n",
              "total_night_minutes              float64\n",
              "total_night_calls                  int64\n",
              "total_night_charge               float64\n",
              "total_intl_minutes               float64\n",
              "total_intl_calls                   int64\n",
              "total_intl_charge                float64\n",
              "number_customer_service_calls      int64\n",
              "churned                             bool\n",
              "dtype: object"
            ]
          },
          "metadata": {},
          "execution_count": 7
        }
      ]
    },
    {
      "cell_type": "code",
      "metadata": {
        "ExecuteTime": {
          "end_time": "2017-04-09T22:20:29.893662Z",
          "start_time": "2017-04-09T18:20:29.873438-04:00"
        },
        "colab": {
          "base_uri": "https://localhost:8080/"
        },
        "id": "tfa1h-2xhnAu",
        "outputId": "0f6163a8-0f8a-43b6-b48b-0f3bda36fb9d"
      },
      "source": [
        "for col in ['intl_plan', 'voice_mail_plan']:\n",
        "    data[col] = data[col].replace('yes','True').replace('no','False').astype(np.bool)\n",
        "    \n",
        "    \n",
        "data[['intl_plan', 'voice_mail_plan']].dtypes"
      ],
      "execution_count": 8,
      "outputs": [
        {
          "output_type": "execute_result",
          "data": {
            "text/plain": [
              "intl_plan          bool\n",
              "voice_mail_plan    bool\n",
              "dtype: object"
            ]
          },
          "metadata": {},
          "execution_count": 8
        }
      ]
    },
    {
      "cell_type": "markdown",
      "metadata": {
        "id": "z0NFZlJShnAu"
      },
      "source": [
        "## Question 2\n",
        "\n",
        "* Examine distribution of the predicted variable (`churned`).\n",
        "* Split the data into train and test sets. Decide if a stratified split should be used or not based on the distribution.\n",
        "* Examine the distribution of the predictor variable in the train and test data."
      ]
    },
    {
      "cell_type": "code",
      "metadata": {
        "ExecuteTime": {
          "end_time": "2017-04-09T22:20:30.831794Z",
          "start_time": "2017-04-09T18:20:30.816280-04:00"
        },
        "colab": {
          "base_uri": "https://localhost:8080/"
        },
        "id": "7BSyv9m4hnAv",
        "outputId": "c06b33b5-0733-4ce7-b2b6-42dc4e7abe57"
      },
      "source": [
        "# Data are skewed at ~85% towards non-churned customers\n",
        "# This will be important to remember when model building\n",
        "\n",
        "data.churned.value_counts()"
      ],
      "execution_count": 9,
      "outputs": [
        {
          "output_type": "execute_result",
          "data": {
            "text/plain": [
              "False    4293\n",
              "True      707\n",
              "Name: churned, dtype: int64"
            ]
          },
          "metadata": {},
          "execution_count": 9
        }
      ]
    },
    {
      "cell_type": "code",
      "metadata": {
        "ExecuteTime": {
          "end_time": "2017-04-09T22:20:32.019100Z",
          "start_time": "2017-04-09T18:20:32.008509-04:00"
        },
        "colab": {
          "base_uri": "https://localhost:8080/"
        },
        "id": "6cWF4bFJhnAv",
        "outputId": "e0e285d5-7e6d-4e4d-eab8-97fecbcf8845"
      },
      "source": [
        "data.churned.value_counts(normalize=True)"
      ],
      "execution_count": 10,
      "outputs": [
        {
          "output_type": "execute_result",
          "data": {
            "text/plain": [
              "False    0.8586\n",
              "True     0.1414\n",
              "Name: churned, dtype: float64"
            ]
          },
          "metadata": {},
          "execution_count": 10
        }
      ]
    },
    {
      "cell_type": "markdown",
      "metadata": {
        "id": "grWRolclhnAv"
      },
      "source": [
        "Given the skew in the predictor variable, let's split the data with the *churned* values being stratified."
      ]
    },
    {
      "cell_type": "code",
      "metadata": {
        "ExecuteTime": {
          "end_time": "2017-04-09T22:20:34.008973Z",
          "start_time": "2017-04-09T18:20:33.561995-04:00"
        },
        "collapsed": true,
        "id": "BOnJC1X2hnAv"
      },
      "source": [
        "from sklearn.model_selection import StratifiedShuffleSplit\n",
        "\n",
        "\n",
        "feature_cols = [x for x in data.columns if x != 'churned']\n",
        "\n",
        "\n",
        "# Split the data into two parts with 1500 points in the test data\n",
        "# This creates a generator\n",
        "strat_shuff_split = StratifiedShuffleSplit(n_splits=1, test_size=1500, random_state=42)\n",
        "\n",
        "# Get the index values from the generator\n",
        "train_idx, test_idx = next(strat_shuff_split.split(data[feature_cols], data['churned']))\n",
        "\n",
        "# Create the data sets\n",
        "X_train = data.loc[train_idx, feature_cols]\n",
        "y_train = data.loc[train_idx, 'churned']\n",
        "\n",
        "X_test = data.loc[test_idx, feature_cols]\n",
        "y_test = data.loc[test_idx, 'churned']"
      ],
      "execution_count": 11,
      "outputs": []
    },
    {
      "cell_type": "markdown",
      "source": [
        "\n",
        "\n",
        "> The data is very skewed. So we must use StratifiedShuffleSplit. He made by preserving the percentage of samples for each class.\n",
        "\n"
      ],
      "metadata": {
        "id": "sU5tDKDurIts"
      }
    },
    {
      "cell_type": "code",
      "metadata": {
        "ExecuteTime": {
          "end_time": "2017-04-09T22:20:34.042556Z",
          "start_time": "2017-04-09T18:20:34.035557-04:00"
        },
        "scrolled": true,
        "colab": {
          "base_uri": "https://localhost:8080/"
        },
        "id": "g5qzvk41hnAw",
        "outputId": "0da29f55-c3b5-4e77-e921-39a30930499a"
      },
      "source": [
        "y_train.value_counts(normalize=True)"
      ],
      "execution_count": 12,
      "outputs": [
        {
          "output_type": "execute_result",
          "data": {
            "text/plain": [
              "False    0.858571\n",
              "True     0.141429\n",
              "Name: churned, dtype: float64"
            ]
          },
          "metadata": {},
          "execution_count": 12
        }
      ]
    },
    {
      "cell_type": "code",
      "metadata": {
        "ExecuteTime": {
          "end_time": "2017-04-09T22:20:36.968198Z",
          "start_time": "2017-04-09T18:20:36.960274-04:00"
        },
        "colab": {
          "base_uri": "https://localhost:8080/"
        },
        "id": "ni-h6EBuhnAw",
        "outputId": "effd68f5-1e20-4659-e521-d379fdc2dd17"
      },
      "source": [
        "y_test.value_counts(normalize=True)"
      ],
      "execution_count": 13,
      "outputs": [
        {
          "output_type": "execute_result",
          "data": {
            "text/plain": [
              "False    0.858667\n",
              "True     0.141333\n",
              "Name: churned, dtype: float64"
            ]
          },
          "metadata": {},
          "execution_count": 13
        }
      ]
    },
    {
      "cell_type": "markdown",
      "metadata": {
        "id": "IhYR1vMXhnAw"
      },
      "source": [
        "## Question 3\n",
        "\n",
        "* Fit random forest models with a range of tree numbers and evaluate the out-of-bag error for each of these models.\n",
        "* Plot the resulting oob errors as a function of the number of trees.\n",
        "\n",
        "*Hint:* since the only thing changing is the number of trees, the `warm_start` flag can be used so that the model just adds more trees to the existing model each time. Use the `set_params` method to update the number of trees."
      ]
    },
    {
      "cell_type": "code",
      "metadata": {
        "ExecuteTime": {
          "end_time": "2017-04-09T22:22:27.940967Z",
          "start_time": "2017-04-09T18:22:27.934979-04:00"
        },
        "collapsed": true,
        "id": "RjDxRBgVhnAw"
      },
      "source": [
        "# Suppress warnings about too few trees from the early models\n",
        "\n",
        "import warnings\n",
        "warnings.filterwarnings(\"ignore\", category=UserWarning)\n",
        "warnings.filterwarnings(\"ignore\", category=RuntimeWarning)"
      ],
      "execution_count": 14,
      "outputs": []
    },
    {
      "cell_type": "code",
      "metadata": {
        "ExecuteTime": {
          "end_time": "2017-04-09T22:22:31.302067Z",
          "start_time": "2017-04-09T18:22:28.418581-04:00"
        },
        "colab": {
          "base_uri": "https://localhost:8080/",
          "height": 394
        },
        "id": "4X1HQ5sthnAw",
        "outputId": "8c415ecc-0758-435c-f5f7-6084ddaf9282"
      },
      "source": [
        "from sklearn.ensemble import RandomForestClassifier\n",
        "\n",
        "# Initialize the random forest estimator\n",
        "# Note that the number of trees is not setup here\n",
        "RF = RandomForestClassifier(oob_score=True, \n",
        "                            random_state=42, \n",
        "                            warm_start=True,\n",
        "                            n_jobs=-1)\n",
        "\n",
        "oob_list = list()\n",
        "\n",
        "# Iterate through all of the possibilities for \n",
        "# number of trees\n",
        "for n_trees in [15, 20, 30, 40, 50, 100, 150, 200, 300, 400]:\n",
        "    \n",
        "    # Use this to set the number of trees\n",
        "    RF.set_params(n_estimators=n_trees)\n",
        "\n",
        "    # Fit the model\n",
        "    RF.fit(X_train, y_train)\n",
        "\n",
        "    # Get the oob error\n",
        "    oob_error = 1 - RF.oob_score_\n",
        "    \n",
        "    # Store it\n",
        "    oob_list.append(pd.Series({'n_trees': n_trees, 'oob': oob_error}))\n",
        "\n",
        "rf_oob_df = pd.concat(oob_list, axis=1).T.set_index('n_trees')\n",
        "\n",
        "rf_oob_df"
      ],
      "execution_count": 15,
      "outputs": [
        {
          "output_type": "execute_result",
          "data": {
            "text/html": [
              "<div>\n",
              "<style scoped>\n",
              "    .dataframe tbody tr th:only-of-type {\n",
              "        vertical-align: middle;\n",
              "    }\n",
              "\n",
              "    .dataframe tbody tr th {\n",
              "        vertical-align: top;\n",
              "    }\n",
              "\n",
              "    .dataframe thead th {\n",
              "        text-align: right;\n",
              "    }\n",
              "</style>\n",
              "<table border=\"1\" class=\"dataframe\">\n",
              "  <thead>\n",
              "    <tr style=\"text-align: right;\">\n",
              "      <th></th>\n",
              "      <th>oob</th>\n",
              "    </tr>\n",
              "    <tr>\n",
              "      <th>n_trees</th>\n",
              "      <th></th>\n",
              "    </tr>\n",
              "  </thead>\n",
              "  <tbody>\n",
              "    <tr>\n",
              "      <th>15.0</th>\n",
              "      <td>0.092286</td>\n",
              "    </tr>\n",
              "    <tr>\n",
              "      <th>20.0</th>\n",
              "      <td>0.084857</td>\n",
              "    </tr>\n",
              "    <tr>\n",
              "      <th>30.0</th>\n",
              "      <td>0.080857</td>\n",
              "    </tr>\n",
              "    <tr>\n",
              "      <th>40.0</th>\n",
              "      <td>0.077429</td>\n",
              "    </tr>\n",
              "    <tr>\n",
              "      <th>50.0</th>\n",
              "      <td>0.077714</td>\n",
              "    </tr>\n",
              "    <tr>\n",
              "      <th>100.0</th>\n",
              "      <td>0.072857</td>\n",
              "    </tr>\n",
              "    <tr>\n",
              "      <th>150.0</th>\n",
              "      <td>0.072571</td>\n",
              "    </tr>\n",
              "    <tr>\n",
              "      <th>200.0</th>\n",
              "      <td>0.073143</td>\n",
              "    </tr>\n",
              "    <tr>\n",
              "      <th>300.0</th>\n",
              "      <td>0.072000</td>\n",
              "    </tr>\n",
              "    <tr>\n",
              "      <th>400.0</th>\n",
              "      <td>0.072857</td>\n",
              "    </tr>\n",
              "  </tbody>\n",
              "</table>\n",
              "</div>"
            ],
            "text/plain": [
              "              oob\n",
              "n_trees          \n",
              "15.0     0.092286\n",
              "20.0     0.084857\n",
              "30.0     0.080857\n",
              "40.0     0.077429\n",
              "50.0     0.077714\n",
              "100.0    0.072857\n",
              "150.0    0.072571\n",
              "200.0    0.073143\n",
              "300.0    0.072000\n",
              "400.0    0.072857"
            ]
          },
          "metadata": {},
          "execution_count": 15
        }
      ]
    },
    {
      "cell_type": "markdown",
      "source": [
        "\n",
        "\n",
        "> As we have seen in class, after 50 trees and here more precisely around 100, it stabilizes.\n",
        "\n",
        "\n",
        "\n"
      ],
      "metadata": {
        "id": "3RBY7pLH0eWy"
      }
    },
    {
      "cell_type": "markdown",
      "metadata": {
        "id": "dAdAlCahhnAx"
      },
      "source": [
        "The error looks like it has stabilized around 100-150 trees."
      ]
    },
    {
      "cell_type": "code",
      "metadata": {
        "ExecuteTime": {
          "end_time": "2017-04-09T22:22:37.666231Z",
          "start_time": "2017-04-09T18:22:37.268102-04:00"
        },
        "collapsed": true,
        "id": "RXTpeExOhnAx"
      },
      "source": [
        "import matplotlib.pyplot as plt\n",
        "import seaborn as sns\n",
        "\n",
        "%matplotlib inline"
      ],
      "execution_count": 16,
      "outputs": []
    },
    {
      "cell_type": "code",
      "metadata": {
        "ExecuteTime": {
          "end_time": "2017-04-09T22:22:38.644602Z",
          "start_time": "2017-04-09T18:22:38.293332-04:00"
        },
        "colab": {
          "base_uri": "https://localhost:8080/",
          "height": 301
        },
        "id": "o3arJSfZhnAx",
        "outputId": "47b1c192-8cc6-44c7-8ba5-e5297b779419"
      },
      "source": [
        "sns.set_context('talk')\n",
        "sns.set_palette('dark')\n",
        "sns.set_style('white')\n",
        "\n",
        "ax = rf_oob_df.plot(legend=False, marker='o')\n",
        "ax.set(ylabel='out-of-bag error');"
      ],
      "execution_count": 17,
      "outputs": [
        {
          "output_type": "display_data",
          "data": {
            "image/png": "[encoded data removed]",
            "text/plain": [
              "<Figure size 432x288 with 1 Axes>"
            ]
          },
          "metadata": {}
        }
      ]
    },
    {
      "cell_type": "markdown",
      "metadata": {
        "id": "_rJnaIEHhnAx"
      },
      "source": [
        "## Question 4\n",
        "\n",
        "* Repeat question 3 using extra randomized trees (`ExtraTreesClassifier`). Note that the `bootstrap` parameter will have to be set to `True` for this model.\n",
        "* Compare the out-of-bag errors for the two different types of models."
      ]
    },
    {
      "cell_type": "code",
      "metadata": {
        "ExecuteTime": {
          "end_time": "2017-04-09T22:23:17.412283Z",
          "start_time": "2017-04-09T18:23:15.457918-04:00"
        },
        "colab": {
          "base_uri": "https://localhost:8080/",
          "height": 394
        },
        "id": "HjbagJt9hnAx",
        "outputId": "f27f1a92-9ba2-4316-c11b-0d3bcfccf626"
      },
      "source": [
        "from sklearn.ensemble import ExtraTreesClassifier\n",
        "\n",
        "# Initialize the random forest estimator\n",
        "# Note that the number of trees is not setup here\n",
        "EF = ExtraTreesClassifier(oob_score=True, \n",
        "                          random_state=42, \n",
        "                          warm_start=True,\n",
        "                          bootstrap=True,\n",
        "                          n_jobs=-1)\n",
        "\n",
        "oob_list = list()\n",
        "\n",
        "# Iterate through all of the possibilities for \n",
        "# number of trees\n",
        "for n_trees in [15, 20, 30, 40, 50, 100, 150, 200, 300, 400]:\n",
        "    \n",
        "    # Use this to set the number of trees\n",
        "    EF.set_params(n_estimators=n_trees)\n",
        "    EF.fit(X_train, y_train)\n",
        "\n",
        "    # oob error\n",
        "    oob_error = 1 - EF.oob_score_\n",
        "    oob_list.append(pd.Series({'n_trees': n_trees, 'oob': oob_error}))\n",
        "\n",
        "et_oob_df = pd.concat(oob_list, axis=1).T.set_index('n_trees')\n",
        "\n",
        "et_oob_df"
      ],
      "execution_count": 18,
      "outputs": [
        {
          "output_type": "execute_result",
          "data": {
            "text/html": [
              "<div>\n",
              "<style scoped>\n",
              "    .dataframe tbody tr th:only-of-type {\n",
              "        vertical-align: middle;\n",
              "    }\n",
              "\n",
              "    .dataframe tbody tr th {\n",
              "        vertical-align: top;\n",
              "    }\n",
              "\n",
              "    .dataframe thead th {\n",
              "        text-align: right;\n",
              "    }\n",
              "</style>\n",
              "<table border=\"1\" class=\"dataframe\">\n",
              "  <thead>\n",
              "    <tr style=\"text-align: right;\">\n",
              "      <th></th>\n",
              "      <th>oob</th>\n",
              "    </tr>\n",
              "    <tr>\n",
              "      <th>n_trees</th>\n",
              "      <th></th>\n",
              "    </tr>\n",
              "  </thead>\n",
              "  <tbody>\n",
              "    <tr>\n",
              "      <th>15.0</th>\n",
              "      <td>0.099714</td>\n",
              "    </tr>\n",
              "    <tr>\n",
              "      <th>20.0</th>\n",
              "      <td>0.097143</td>\n",
              "    </tr>\n",
              "    <tr>\n",
              "      <th>30.0</th>\n",
              "      <td>0.090000</td>\n",
              "    </tr>\n",
              "    <tr>\n",
              "      <th>40.0</th>\n",
              "      <td>0.086571</td>\n",
              "    </tr>\n",
              "    <tr>\n",
              "      <th>50.0</th>\n",
              "      <td>0.082286</td>\n",
              "    </tr>\n",
              "    <tr>\n",
              "      <th>100.0</th>\n",
              "      <td>0.078000</td>\n",
              "    </tr>\n",
              "    <tr>\n",
              "      <th>150.0</th>\n",
              "      <td>0.082286</td>\n",
              "    </tr>\n",
              "    <tr>\n",
              "      <th>200.0</th>\n",
              "      <td>0.081143</td>\n",
              "    </tr>\n",
              "    <tr>\n",
              "      <th>300.0</th>\n",
              "      <td>0.080571</td>\n",
              "    </tr>\n",
              "    <tr>\n",
              "      <th>400.0</th>\n",
              "      <td>0.080571</td>\n",
              "    </tr>\n",
              "  </tbody>\n",
              "</table>\n",
              "</div>"
            ],
            "text/plain": [
              "              oob\n",
              "n_trees          \n",
              "15.0     0.099714\n",
              "20.0     0.097143\n",
              "30.0     0.090000\n",
              "40.0     0.086571\n",
              "50.0     0.082286\n",
              "100.0    0.078000\n",
              "150.0    0.082286\n",
              "200.0    0.081143\n",
              "300.0    0.080571\n",
              "400.0    0.080571"
            ]
          },
          "metadata": {},
          "execution_count": 18
        }
      ]
    },
    {
      "cell_type": "markdown",
      "metadata": {
        "id": "9vLJw_XUhnAy"
      },
      "source": [
        "Combine the two dataframes into a single one for easier plotting."
      ]
    },
    {
      "cell_type": "code",
      "metadata": {
        "ExecuteTime": {
          "end_time": "2017-04-09T22:23:19.000407Z",
          "start_time": "2017-04-09T18:23:18.985347-04:00"
        },
        "colab": {
          "base_uri": "https://localhost:8080/",
          "height": 394
        },
        "id": "_X98hyJLhnAy",
        "outputId": "b7b9e4e3-fa46-4c27-bbf8-165ad7c68303"
      },
      "source": [
        "oob_df = pd.concat([rf_oob_df.rename(columns={'oob':'RandomForest'}),\n",
        "                    et_oob_df.rename(columns={'oob':'ExtraTrees'})], axis=1)\n",
        "\n",
        "oob_df"
      ],
      "execution_count": 19,
      "outputs": [
        {
          "output_type": "execute_result",
          "data": {
            "text/html": [
              "<div>\n",
              "<style scoped>\n",
              "    .dataframe tbody tr th:only-of-type {\n",
              "        vertical-align: middle;\n",
              "    }\n",
              "\n",
              "    .dataframe tbody tr th {\n",
              "        vertical-align: top;\n",
              "    }\n",
              "\n",
              "    .dataframe thead th {\n",
              "        text-align: right;\n",
              "    }\n",
              "</style>\n",
              "<table border=\"1\" class=\"dataframe\">\n",
              "  <thead>\n",
              "    <tr style=\"text-align: right;\">\n",
              "      <th></th>\n",
              "      <th>RandomForest</th>\n",
              "      <th>ExtraTrees</th>\n",
              "    </tr>\n",
              "    <tr>\n",
              "      <th>n_trees</th>\n",
              "      <th></th>\n",
              "      <th></th>\n",
              "    </tr>\n",
              "  </thead>\n",
              "  <tbody>\n",
              "    <tr>\n",
              "      <th>15.0</th>\n",
              "      <td>0.092286</td>\n",
              "      <td>0.099714</td>\n",
              "    </tr>\n",
              "    <tr>\n",
              "      <th>20.0</th>\n",
              "      <td>0.084857</td>\n",
              "      <td>0.097143</td>\n",
              "    </tr>\n",
              "    <tr>\n",
              "      <th>30.0</th>\n",
              "      <td>0.080857</td>\n",
              "      <td>0.090000</td>\n",
              "    </tr>\n",
              "    <tr>\n",
              "      <th>40.0</th>\n",
              "      <td>0.077429</td>\n",
              "      <td>0.086571</td>\n",
              "    </tr>\n",
              "    <tr>\n",
              "      <th>50.0</th>\n",
              "      <td>0.077714</td>\n",
              "      <td>0.082286</td>\n",
              "    </tr>\n",
              "    <tr>\n",
              "      <th>100.0</th>\n",
              "      <td>0.072857</td>\n",
              "      <td>0.078000</td>\n",
              "    </tr>\n",
              "    <tr>\n",
              "      <th>150.0</th>\n",
              "      <td>0.072571</td>\n",
              "      <td>0.082286</td>\n",
              "    </tr>\n",
              "    <tr>\n",
              "      <th>200.0</th>\n",
              "      <td>0.073143</td>\n",
              "      <td>0.081143</td>\n",
              "    </tr>\n",
              "    <tr>\n",
              "      <th>300.0</th>\n",
              "      <td>0.072000</td>\n",
              "      <td>0.080571</td>\n",
              "    </tr>\n",
              "    <tr>\n",
              "      <th>400.0</th>\n",
              "      <td>0.072857</td>\n",
              "      <td>0.080571</td>\n",
              "    </tr>\n",
              "  </tbody>\n",
              "</table>\n",
              "</div>"
            ],
            "text/plain": [
              "         RandomForest  ExtraTrees\n",
              "n_trees                          \n",
              "15.0         0.092286    0.099714\n",
              "20.0         0.084857    0.097143\n",
              "30.0         0.080857    0.090000\n",
              "40.0         0.077429    0.086571\n",
              "50.0         0.077714    0.082286\n",
              "100.0        0.072857    0.078000\n",
              "150.0        0.072571    0.082286\n",
              "200.0        0.073143    0.081143\n",
              "300.0        0.072000    0.080571\n",
              "400.0        0.072857    0.080571"
            ]
          },
          "metadata": {},
          "execution_count": 19
        }
      ]
    },
    {
      "cell_type": "markdown",
      "metadata": {
        "id": "m5P3_SkihnAy"
      },
      "source": [
        "The random forest model performs consistently better than the extra randomized trees."
      ]
    },
    {
      "cell_type": "code",
      "metadata": {
        "ExecuteTime": {
          "end_time": "2017-04-09T22:23:20.424934Z",
          "start_time": "2017-04-09T18:23:20.180646-04:00"
        },
        "colab": {
          "base_uri": "https://localhost:8080/",
          "height": 301
        },
        "id": "wE6QVT8_hnAy",
        "outputId": "a92969f8-3ef0-41c5-ea34-3651d3207ce5"
      },
      "source": [
        "sns.set_context('talk')\n",
        "sns.set_palette('dark')\n",
        "sns.set_style('white')\n",
        "\n",
        "ax = oob_df.plot(marker='o')\n",
        "ax.set(ylabel='out-of-bag error');"
      ],
      "execution_count": 20,
      "outputs": [
        {
          "output_type": "display_data",
          "data": {
            "image/png": "[encoded data removed]",
            "text/plain": [
              "<Figure size 432x288 with 1 Axes>"
            ]
          },
          "metadata": {}
        }
      ]
    },
    {
      "cell_type": "markdown",
      "source": [
        "\n",
        "\n",
        "> We can see that the error is smaller for the RandomForest algorithm.\n",
        "\n"
      ],
      "metadata": {
        "id": "LsjwLSsN1qR7"
      }
    },
    {
      "cell_type": "markdown",
      "metadata": {
        "id": "YLwcPWbohnAy"
      },
      "source": [
        "## Question 5\n",
        "\n",
        "* Select one of the models that performs well and calculate error metrics and a confusion matrix on the test data set. \n",
        "* Given the distribution of the predicted class, which metric is most important? Which could be deceiving?"
      ]
    },
    {
      "cell_type": "code",
      "metadata": {
        "ExecuteTime": {
          "end_time": "2017-04-09T22:23:23.367818Z",
          "start_time": "2017-04-09T18:23:23.150988-04:00"
        },
        "collapsed": true,
        "id": "y2x8JGeihnAy"
      },
      "source": [
        "# Random forest with 100 estimators\n",
        "model = RF.set_params(n_estimators=100) # The n_estimators paramater is the number of trees in the forest.\n",
        "\n",
        "y_pred = model.predict(X_test)"
      ],
      "execution_count": 21,
      "outputs": []
    },
    {
      "cell_type": "code",
      "source": [
        "model_ef = EF.set_params(n_estimators=100)\n",
        "\n",
        "y_pred_ef = model_ef.predict(X_test)"
      ],
      "metadata": {
        "id": "oChZlXKt5kDf"
      },
      "execution_count": 22,
      "outputs": []
    },
    {
      "cell_type": "markdown",
      "metadata": {
        "id": "MRG5HynnhnAy"
      },
      "source": [
        "Unsurprisingly, recall (amount of relevant items retrieved = TP/(TP+FN)) is rather poor for the customers who churned (True) class since they are quite small. We are doing better than random guessing, though, as the accuracy is 0.932 (vs 0.85 for random guessing)."
      ]
    },
    {
      "cell_type": "code",
      "metadata": {
        "ExecuteTime": {
          "end_time": "2017-04-09T22:23:24.448193Z",
          "start_time": "2017-04-09T18:23:24.424414-04:00"
        },
        "colab": {
          "base_uri": "https://localhost:8080/"
        },
        "id": "ItPhXjZThnAy",
        "outputId": "230c550d-f2b6-433c-f467-98e6259ad1a5"
      },
      "source": [
        "from sklearn.metrics import classification_report, accuracy_score, precision_score, recall_score\n",
        "from sklearn.metrics import f1_score, roc_auc_score\n",
        "\n",
        "cr = classification_report(y_test, y_pred)\n",
        "print(cr)\n",
        "\n",
        "score_df = pd.DataFrame({'accuracy': accuracy_score(y_test, y_pred),\n",
        "                         'precision': precision_score(y_test, y_pred),\n",
        "                         'recall': recall_score(y_test, y_pred),\n",
        "                         'f1': f1_score(y_test, y_pred),\n",
        "                         'auc': roc_auc_score(y_test, y_pred)},\n",
        "                         index=pd.Index([0]))\n",
        "\n",
        "print(score_df)"
      ],
      "execution_count": 23,
      "outputs": [
        {
          "output_type": "stream",
          "name": "stdout",
          "text": [
            "              precision    recall  f1-score   support\n",
            "\n",
            "       False       0.93      0.99      0.96      1288\n",
            "        True       0.94      0.55      0.70       212\n",
            "\n",
            "    accuracy                           0.93      1500\n",
            "   macro avg       0.94      0.77      0.83      1500\n",
            "weighted avg       0.93      0.93      0.92      1500\n",
            "\n",
            "   accuracy  precision    recall        f1       auc\n",
            "0     0.932   0.943548  0.551887  0.696429  0.773226\n"
          ]
        }
      ]
    },
    {
      "cell_type": "code",
      "source": [
        ""
      ],
      "metadata": {
        "id": "aTEjZ4B-7Imv"
      },
      "execution_count": 23,
      "outputs": []
    },
    {
      "cell_type": "code",
      "source": [
        "cr_ef = classification_report(y_test, y_pred_ef)\n",
        "print(cr_ef)\n",
        "\n",
        "score_ef = pd.DataFrame({'accuracy': accuracy_score(y_test, y_pred_ef),\n",
        "                         'precision': precision_score(y_test, y_pred_ef),\n",
        "                         'recall': recall_score(y_test, y_pred_ef),\n",
        "                         'f1': f1_score(y_test, y_pred_ef),\n",
        "                         'auc': roc_auc_score(y_test, y_pred_ef)},\n",
        "                         index=pd.Index([0]))\n",
        "\n",
        "print(score_ef)"
      ],
      "metadata": {
        "colab": {
          "base_uri": "https://localhost:8080/"
        },
        "id": "oyf-4lNu6HFH",
        "outputId": "41d88175-5d23-405f-a4ba-b999425278fb"
      },
      "execution_count": 24,
      "outputs": [
        {
          "output_type": "stream",
          "name": "stdout",
          "text": [
            "              precision    recall  f1-score   support\n",
            "\n",
            "       False       0.92      1.00      0.96      1288\n",
            "        True       0.97      0.47      0.63       212\n",
            "\n",
            "    accuracy                           0.92      1500\n",
            "   macro avg       0.95      0.73      0.80      1500\n",
            "weighted avg       0.93      0.92      0.91      1500\n",
            "\n",
            "   accuracy  precision    recall        f1       auc\n",
            "0  0.923333   0.970874  0.471698  0.634921  0.734684\n"
          ]
        }
      ]
    },
    {
      "cell_type": "markdown",
      "metadata": {
        "id": "7f5KGjhxhnAz"
      },
      "source": [
        "## Question 6\n",
        "\n",
        "* Print or visualize the confusion matrix.\n",
        "* Plot the ROC-AUC and precision-recall curves.\n",
        "* Plot the feature importances."
      ]
    },
    {
      "cell_type": "markdown",
      "source": [
        "# ** Note the prediction label (True-False) in the figured should be flipped **"
      ],
      "metadata": {
        "id": "wv5BWvLnCB5k"
      }
    },
    {
      "cell_type": "code",
      "metadata": {
        "ExecuteTime": {
          "end_time": "2017-04-09T22:23:38.549628Z",
          "start_time": "2017-04-09T18:23:38.270924-04:00"
        },
        "colab": {
          "base_uri": "https://localhost:8080/",
          "height": 320
        },
        "id": "T8WH_JVshnAz",
        "outputId": "3dca1e94-b84b-40c2-d4c7-8308215e0e4e"
      },
      "source": [
        "from sklearn.metrics import roc_curve, precision_recall_curve, confusion_matrix\n",
        "\n",
        "sns.set_context('talk')\n",
        "cm = confusion_matrix(y_test, y_pred)\n",
        "ax = sns.heatmap(cm, annot=True, fmt='d')\n",
        "\n",
        "labels = ['False', 'True']\n",
        "ax.set_xticklabels(labels);\n",
        "ax.set_yticklabels(labels[::-1]);\n",
        "ax.set_ylabel('Prediction');\n",
        "ax.set_xlabel('Ground Truth')"
      ],
      "execution_count": 25,
      "outputs": [
        {
          "output_type": "execute_result",
          "data": {
            "text/plain": [
              "Text(0.5, 1.5, 'Ground Truth')"
            ]
          },
          "metadata": {},
          "execution_count": 25
        },
        {
          "output_type": "display_data",
          "data": {
            "image/png": "[encoded data removed]",
            "text/plain": [
              "<Figure size 432x288 with 2 Axes>"
            ]
          },
          "metadata": {}
        }
      ]
    },
    {
      "cell_type": "markdown",
      "metadata": {
        "id": "ZoJc7NVphnAz"
      },
      "source": [
        "## The ROC-AUC and precision-recall curves."
      ]
    },
    {
      "cell_type": "code",
      "metadata": {
        "ExecuteTime": {
          "end_time": "2017-04-09T22:23:40.968026Z",
          "start_time": "2017-04-09T18:23:40.497603-04:00"
        },
        "colab": {
          "base_uri": "https://localhost:8080/",
          "height": 352
        },
        "id": "oQGaSO9ghnAz",
        "outputId": "7442c2d9-1392-4302-ca96-a4e1c1c3594d"
      },
      "source": [
        "sns.set_context('talk')\n",
        "\n",
        "fig, axList = plt.subplots(ncols=2)\n",
        "fig.set_size_inches(11, 5)\n",
        "\n",
        "# Get the probabilities for each of the two categories\n",
        "y_prob = model.predict_proba(X_test)\n",
        "\n",
        "# Plot the ROC-AUC curve\n",
        "ax = axList[0]\n",
        "\n",
        "fpr, tpr, thresholds = roc_curve(y_test, y_prob[:,1])\n",
        "ax.plot(fpr, tpr)\n",
        "# It is customary to draw a diagonal dotted line in ROC plots.\n",
        "# This is to indicate completely random prediction. Deviation from this\n",
        "# dotted line towards the upper left corner signifies the power of the model.\n",
        "ax.plot([0, 1], [0, 1], ls='--', color='black', lw=.3)\n",
        "ax.set(xlabel='False Positive Rate',\n",
        "       ylabel='True Positive Rate',\n",
        "       xlim=[-.01, 1.01], ylim=[-.01, 1.01],\n",
        "       title='ROC curve')\n",
        "ax.grid(True)\n",
        "\n",
        "# Plot the precision-recall curve\n",
        "ax = axList[1]\n",
        "\n",
        "precision, recall, _ = precision_recall_curve(y_test, y_prob[:,1])\n",
        "ax.plot(recall, precision)\n",
        "ax.set(xlabel='Recall', ylabel='Precision',\n",
        "       xlim=[-.01, 1.01], ylim=[-.01, 1.01],\n",
        "       title='Precision-Recall curve')\n",
        "ax.grid(True)\n",
        "\n",
        "plt.tight_layout()"
      ],
      "execution_count": 26,
      "outputs": [
        {
          "output_type": "display_data",
          "data": {
            "image/png": "[encoded data removed]",
            "text/plain": [
              "<Figure size 792x360 with 2 Axes>"
            ]
          },
          "metadata": {}
        }
      ]
    },
    {
      "cell_type": "markdown",
      "metadata": {
        "id": "I7om0EVohnAz"
      },
      "source": [
        "The feature importances. Total daily cost is the biggest predictor of customer churn."
      ]
    },
    {
      "cell_type": "markdown",
      "source": [
        "\n",
        "\n",
        "> The relative scores can highlight which features may be most relevant to the target, and the converse, which features are the least relevant.\n",
        "\n"
      ],
      "metadata": {
        "id": "6IHTqDTM1Tq1"
      }
    },
    {
      "cell_type": "code",
      "metadata": {
        "ExecuteTime": {
          "end_time": "2017-04-09T22:23:43.645225Z",
          "start_time": "2017-04-09T18:23:43.209194-04:00"
        },
        "colab": {
          "base_uri": "https://localhost:8080/",
          "height": 524
        },
        "id": "pcHXH9IShnAz",
        "outputId": "08c1c0ea-6969-42ae-82c3-549c522d3d6f"
      },
      "source": [
        "feature_imp = pd.Series(model.feature_importances_, index=feature_cols).sort_values(ascending=False)\n",
        "\n",
        "ax = feature_imp.plot(kind='bar')\n",
        "ax.set(ylabel='Relative Importance');"
      ],
      "execution_count": 27,
      "outputs": [
        {
          "output_type": "display_data",
          "data": {
            "image/png": "[encoded data removed]",
            "text/plain": [
              "<Figure size 432x288 with 1 Axes>"
            ]
          },
          "metadata": {}
        }
      ]
    },
    {
      "cell_type": "markdown",
      "metadata": {
        "id": "huFfXn6BhnAz"
      },
      "source": [
        "### Churn data has lot of class imbalance. \n",
        "To fix it, use different sampling techniques like SMOTE, RamdomOverSampling .\n",
        "Refer http://contrib.scikit-learn.org/imbalanced-learn/stable/api.html\n",
        "\n",
        "After fixing class imablance, check the metrics for different techniques."
      ]
    },
    {
      "cell_type": "code",
      "metadata": {
        "collapsed": true,
        "id": "SSBb8fqphnA0"
      },
      "source": [
        "from sklearn.ensemble import RandomForestClassifier\n",
        "from sklearn.model_selection import train_test_split\n",
        "from sklearn.metrics import recall_score\n",
        "from imblearn.over_sampling import SMOTE\n",
        "from imblearn import over_sampling as os_smote\n",
        "from imblearn import under_sampling as us_smote\n",
        "from imblearn import combine as cs_smote\n",
        "from collections import Counter"
      ],
      "execution_count": 35,
      "outputs": []
    },
    {
      "cell_type": "markdown",
      "metadata": {
        "id": "_fKbOE0WhnA0"
      },
      "source": [
        "## Question 7 \n",
        "\n",
        "Create different objects using multiple smoting methods\n",
        "\n",
        "Ex: os_sm = os_smote.SMOTE(random_state=45, ratio = 0.6)"
      ]
    },
    {
      "cell_type": "markdown",
      "metadata": {
        "id": "FVWNzdb1hnA0"
      },
      "source": [
        "#### Re-generate X_train and y_train using SMOTE object\n",
        "\n",
        "Cross verify the value counts"
      ]
    },
    {
      "cell_type": "code",
      "metadata": {
        "collapsed": true,
        "id": "HVxy5hnphnA0",
        "colab": {
          "base_uri": "https://localhost:8080/"
        },
        "outputId": "2c6a085c-faeb-4f6c-8862-ebbaf5f27426"
      },
      "source": [
        "sm = SMOTE(random_state=42)\n",
        "X_smote, Y_smote = sm.fit_resample(X_train, y_train)\n",
        "Counter(Y_smote)"
      ],
      "execution_count": 36,
      "outputs": [
        {
          "output_type": "execute_result",
          "data": {
            "text/plain": [
              "Counter({False: 3005, True: 3005})"
            ]
          },
          "metadata": {},
          "execution_count": 36
        }
      ]
    },
    {
      "cell_type": "code",
      "source": [
        "us = us_smote.RandomUnderSampler(random_state=42)\n",
        "X_us_smote, Y_us_smote = us.fit_resample(X_train, y_train)\n",
        "Counter(Y_us_smote)"
      ],
      "metadata": {
        "colab": {
          "base_uri": "https://localhost:8080/"
        },
        "id": "AAk2w2MzEJId",
        "outputId": "3646e3f1-cdb4-42a1-8108-62c818be1763"
      },
      "execution_count": 38,
      "outputs": [
        {
          "output_type": "execute_result",
          "data": {
            "text/plain": [
              "Counter({False: 495, True: 495})"
            ]
          },
          "metadata": {},
          "execution_count": 38
        }
      ]
    },
    {
      "cell_type": "markdown",
      "metadata": {
        "id": "tyoSnn3hhnA0"
      },
      "source": [
        "## Question 8\n",
        "\n",
        "* Fit random forest models with a range of tree numbers and evaluate the out-of-bag error for each of these models.\n",
        "* Plot the resulting oob errors as a function of the number of trees.\n",
        "\n",
        "*Hint:* since the only thing changing is the number of trees, the `warm_start` flag can be used so that the model just adds more trees to the existing model each time. Use the `set_params` method to update the number of trees.\n",
        "\n",
        "*Note:* Use re-sampled data"
      ]
    },
    {
      "cell_type": "code",
      "metadata": {
        "ExecuteTime": {
          "end_time": "2017-04-09T22:22:31.302067Z",
          "start_time": "2017-04-09T18:22:28.418581-04:00"
        },
        "collapsed": true,
        "id": "BT6ZExvChnA0",
        "colab": {
          "base_uri": "https://localhost:8080/",
          "height": 394
        },
        "outputId": "ef442219-f7b1-48b2-b769-01491d2274b7"
      },
      "source": [
        "RF = RandomForestClassifier(oob_score=True, \n",
        "                            random_state=42, \n",
        "                            warm_start=True,\n",
        "                            n_jobs=-1)\n",
        "\n",
        "oob_list = list()\n",
        "\n",
        "# Iterate through all of the possibilities for \n",
        "# number of trees\n",
        "for n_trees in [15, 20, 30, 40, 50, 100, 150, 200, 300, 400]:\n",
        "    \n",
        "    # Use this to set the number of trees\n",
        "    RF.set_params(n_estimators=n_trees)\n",
        "\n",
        "    # Fit the model\n",
        "    RF.fit(X_smote, Y_smote)\n",
        "\n",
        "    # Get the oob error\n",
        "    oob_error = 1 - RF.oob_score_\n",
        "    \n",
        "    # Store it\n",
        "    oob_list.append(pd.Series({'n_trees': n_trees, 'oob': oob_error}))\n",
        "\n",
        "rf_oob_df = pd.concat(oob_list, axis=1).T.set_index('n_trees')\n",
        "\n",
        "rf_oob_df"
      ],
      "execution_count": 39,
      "outputs": [
        {
          "output_type": "execute_result",
          "data": {
            "text/html": [
              "<div>\n",
              "<style scoped>\n",
              "    .dataframe tbody tr th:only-of-type {\n",
              "        vertical-align: middle;\n",
              "    }\n",
              "\n",
              "    .dataframe tbody tr th {\n",
              "        vertical-align: top;\n",
              "    }\n",
              "\n",
              "    .dataframe thead th {\n",
              "        text-align: right;\n",
              "    }\n",
              "</style>\n",
              "<table border=\"1\" class=\"dataframe\">\n",
              "  <thead>\n",
              "    <tr style=\"text-align: right;\">\n",
              "      <th></th>\n",
              "      <th>oob</th>\n",
              "    </tr>\n",
              "    <tr>\n",
              "      <th>n_trees</th>\n",
              "      <th></th>\n",
              "    </tr>\n",
              "  </thead>\n",
              "  <tbody>\n",
              "    <tr>\n",
              "      <th>15.0</th>\n",
              "      <td>0.107155</td>\n",
              "    </tr>\n",
              "    <tr>\n",
              "      <th>20.0</th>\n",
              "      <td>0.096839</td>\n",
              "    </tr>\n",
              "    <tr>\n",
              "      <th>30.0</th>\n",
              "      <td>0.082862</td>\n",
              "    </tr>\n",
              "    <tr>\n",
              "      <th>40.0</th>\n",
              "      <td>0.078869</td>\n",
              "    </tr>\n",
              "    <tr>\n",
              "      <th>50.0</th>\n",
              "      <td>0.076040</td>\n",
              "    </tr>\n",
              "    <tr>\n",
              "      <th>100.0</th>\n",
              "      <td>0.064725</td>\n",
              "    </tr>\n",
              "    <tr>\n",
              "      <th>150.0</th>\n",
              "      <td>0.062562</td>\n",
              "    </tr>\n",
              "    <tr>\n",
              "      <th>200.0</th>\n",
              "      <td>0.061564</td>\n",
              "    </tr>\n",
              "    <tr>\n",
              "      <th>300.0</th>\n",
              "      <td>0.060399</td>\n",
              "    </tr>\n",
              "    <tr>\n",
              "      <th>400.0</th>\n",
              "      <td>0.058735</td>\n",
              "    </tr>\n",
              "  </tbody>\n",
              "</table>\n",
              "</div>"
            ],
            "text/plain": [
              "              oob\n",
              "n_trees          \n",
              "15.0     0.107155\n",
              "20.0     0.096839\n",
              "30.0     0.082862\n",
              "40.0     0.078869\n",
              "50.0     0.076040\n",
              "100.0    0.064725\n",
              "150.0    0.062562\n",
              "200.0    0.061564\n",
              "300.0    0.060399\n",
              "400.0    0.058735"
            ]
          },
          "metadata": {},
          "execution_count": 39
        }
      ]
    },
    {
      "cell_type": "markdown",
      "metadata": {
        "id": "K_EZrtc_hnA0"
      },
      "source": [
        "The error looks like it has stabilized around 100-150 trees."
      ]
    },
    {
      "cell_type": "code",
      "metadata": {
        "ExecuteTime": {
          "end_time": "2017-04-09T22:22:37.666231Z",
          "start_time": "2017-04-09T18:22:37.268102-04:00"
        },
        "collapsed": true,
        "id": "GR4J_up8hnA0"
      },
      "source": [
        "import matplotlib.pyplot as plt\n",
        "import seaborn as sns\n",
        "\n",
        "%matplotlib inline"
      ],
      "execution_count": 40,
      "outputs": []
    },
    {
      "cell_type": "code",
      "metadata": {
        "ExecuteTime": {
          "end_time": "2017-04-09T22:22:38.644602Z",
          "start_time": "2017-04-09T18:22:38.293332-04:00"
        },
        "collapsed": true,
        "id": "C16EOCRvhnA0",
        "colab": {
          "base_uri": "https://localhost:8080/",
          "height": 301
        },
        "outputId": "075da3c0-5170-4feb-9cac-bcf59c7fb984"
      },
      "source": [
        "sns.set_context('talk')\n",
        "sns.set_palette('dark')\n",
        "sns.set_style('white')\n",
        "\n",
        "ax = rf_oob_df.plot(legend=False, marker='o')\n",
        "ax.set(ylabel='out-of-bag error');"
      ],
      "execution_count": 41,
      "outputs": [
        {
          "output_type": "display_data",
          "data": {
            "image/png": "[encoded data removed]",
            "text/plain": [
              "<Figure size 432x288 with 1 Axes>"
            ]
          },
          "metadata": {}
        }
      ]
    },
    {
      "cell_type": "markdown",
      "metadata": {
        "id": "Jb3nYQDvhnA0"
      },
      "source": [
        "## Question 9\n",
        "\n",
        "* Repeat question 3 using extra randomized trees (`ExtraTreesClassifier`). Note that the `bootstrap` parameter will have to be set to `True` for this model.\n",
        "* Compare the out-of-bag errors for the two different types of models."
      ]
    },
    {
      "cell_type": "code",
      "metadata": {
        "ExecuteTime": {
          "end_time": "2017-04-09T22:23:17.412283Z",
          "start_time": "2017-04-09T18:23:15.457918-04:00"
        },
        "collapsed": true,
        "id": "snkXf9X6hnA1",
        "colab": {
          "base_uri": "https://localhost:8080/",
          "height": 394
        },
        "outputId": "829d3ab8-1d09-4986-a14e-d2bbe3a9d222"
      },
      "source": [
        "EF = ExtraTreesClassifier(oob_score=True, \n",
        "                          random_state=42, \n",
        "                          warm_start=True,\n",
        "                          bootstrap=True,\n",
        "                          n_jobs=-1)\n",
        "\n",
        "oob_list = list()\n",
        "\n",
        "# Iterate through all of the possibilities for \n",
        "# number of trees\n",
        "for n_trees in [15, 20, 30, 40, 50, 100, 150, 200, 300, 400]:\n",
        "    \n",
        "    # Use this to set the number of trees\n",
        "    EF.set_params(n_estimators=n_trees)\n",
        "    EF.fit(X_smote, Y_smote)\n",
        "\n",
        "    # oob error\n",
        "    oob_error = 1 - EF.oob_score_\n",
        "    oob_list.append(pd.Series({'n_trees': n_trees, 'oob': oob_error}))\n",
        "\n",
        "et_oob_df = pd.concat(oob_list, axis=1).T.set_index('n_trees')\n",
        "\n",
        "et_oob_df"
      ],
      "execution_count": 42,
      "outputs": [
        {
          "output_type": "execute_result",
          "data": {
            "text/html": [
              "<div>\n",
              "<style scoped>\n",
              "    .dataframe tbody tr th:only-of-type {\n",
              "        vertical-align: middle;\n",
              "    }\n",
              "\n",
              "    .dataframe tbody tr th {\n",
              "        vertical-align: top;\n",
              "    }\n",
              "\n",
              "    .dataframe thead th {\n",
              "        text-align: right;\n",
              "    }\n",
              "</style>\n",
              "<table border=\"1\" class=\"dataframe\">\n",
              "  <thead>\n",
              "    <tr style=\"text-align: right;\">\n",
              "      <th></th>\n",
              "      <th>oob</th>\n",
              "    </tr>\n",
              "    <tr>\n",
              "      <th>n_trees</th>\n",
              "      <th></th>\n",
              "    </tr>\n",
              "  </thead>\n",
              "  <tbody>\n",
              "    <tr>\n",
              "      <th>15.0</th>\n",
              "      <td>0.107155</td>\n",
              "    </tr>\n",
              "    <tr>\n",
              "      <th>20.0</th>\n",
              "      <td>0.097171</td>\n",
              "    </tr>\n",
              "    <tr>\n",
              "      <th>30.0</th>\n",
              "      <td>0.080366</td>\n",
              "    </tr>\n",
              "    <tr>\n",
              "      <th>40.0</th>\n",
              "      <td>0.069884</td>\n",
              "    </tr>\n",
              "    <tr>\n",
              "      <th>50.0</th>\n",
              "      <td>0.065225</td>\n",
              "    </tr>\n",
              "    <tr>\n",
              "      <th>100.0</th>\n",
              "      <td>0.053744</td>\n",
              "    </tr>\n",
              "    <tr>\n",
              "      <th>150.0</th>\n",
              "      <td>0.051082</td>\n",
              "    </tr>\n",
              "    <tr>\n",
              "      <th>200.0</th>\n",
              "      <td>0.050416</td>\n",
              "    </tr>\n",
              "    <tr>\n",
              "      <th>300.0</th>\n",
              "      <td>0.048253</td>\n",
              "    </tr>\n",
              "    <tr>\n",
              "      <th>400.0</th>\n",
              "      <td>0.047255</td>\n",
              "    </tr>\n",
              "  </tbody>\n",
              "</table>\n",
              "</div>"
            ],
            "text/plain": [
              "              oob\n",
              "n_trees          \n",
              "15.0     0.107155\n",
              "20.0     0.097171\n",
              "30.0     0.080366\n",
              "40.0     0.069884\n",
              "50.0     0.065225\n",
              "100.0    0.053744\n",
              "150.0    0.051082\n",
              "200.0    0.050416\n",
              "300.0    0.048253\n",
              "400.0    0.047255"
            ]
          },
          "metadata": {},
          "execution_count": 42
        }
      ]
    },
    {
      "cell_type": "markdown",
      "metadata": {
        "id": "EbFyqG2QhnA1"
      },
      "source": [
        "Combine the two dataframes into a single one for easier plotting."
      ]
    },
    {
      "cell_type": "code",
      "metadata": {
        "ExecuteTime": {
          "end_time": "2017-04-09T22:23:19.000407Z",
          "start_time": "2017-04-09T18:23:18.985347-04:00"
        },
        "collapsed": true,
        "id": "R8tLzbTzhnA1",
        "colab": {
          "base_uri": "https://localhost:8080/",
          "height": 394
        },
        "outputId": "850dd861-e838-455b-8ac6-705b91ab20b4"
      },
      "source": [
        "oob_df = pd.concat([rf_oob_df.rename(columns={'oob':'RandomForest'}),\n",
        "                    et_oob_df.rename(columns={'oob':'ExtraTrees'})], axis=1)\n",
        "\n",
        "oob_df"
      ],
      "execution_count": 43,
      "outputs": [
        {
          "output_type": "execute_result",
          "data": {
            "text/html": [
              "<div>\n",
              "<style scoped>\n",
              "    .dataframe tbody tr th:only-of-type {\n",
              "        vertical-align: middle;\n",
              "    }\n",
              "\n",
              "    .dataframe tbody tr th {\n",
              "        vertical-align: top;\n",
              "    }\n",
              "\n",
              "    .dataframe thead th {\n",
              "        text-align: right;\n",
              "    }\n",
              "</style>\n",
              "<table border=\"1\" class=\"dataframe\">\n",
              "  <thead>\n",
              "    <tr style=\"text-align: right;\">\n",
              "      <th></th>\n",
              "      <th>RandomForest</th>\n",
              "      <th>ExtraTrees</th>\n",
              "    </tr>\n",
              "    <tr>\n",
              "      <th>n_trees</th>\n",
              "      <th></th>\n",
              "      <th></th>\n",
              "    </tr>\n",
              "  </thead>\n",
              "  <tbody>\n",
              "    <tr>\n",
              "      <th>15.0</th>\n",
              "      <td>0.107155</td>\n",
              "      <td>0.107155</td>\n",
              "    </tr>\n",
              "    <tr>\n",
              "      <th>20.0</th>\n",
              "      <td>0.096839</td>\n",
              "      <td>0.097171</td>\n",
              "    </tr>\n",
              "    <tr>\n",
              "      <th>30.0</th>\n",
              "      <td>0.082862</td>\n",
              "      <td>0.080366</td>\n",
              "    </tr>\n",
              "    <tr>\n",
              "      <th>40.0</th>\n",
              "      <td>0.078869</td>\n",
              "      <td>0.069884</td>\n",
              "    </tr>\n",
              "    <tr>\n",
              "      <th>50.0</th>\n",
              "      <td>0.076040</td>\n",
              "      <td>0.065225</td>\n",
              "    </tr>\n",
              "    <tr>\n",
              "      <th>100.0</th>\n",
              "      <td>0.064725</td>\n",
              "      <td>0.053744</td>\n",
              "    </tr>\n",
              "    <tr>\n",
              "      <th>150.0</th>\n",
              "      <td>0.062562</td>\n",
              "      <td>0.051082</td>\n",
              "    </tr>\n",
              "    <tr>\n",
              "      <th>200.0</th>\n",
              "      <td>0.061564</td>\n",
              "      <td>0.050416</td>\n",
              "    </tr>\n",
              "    <tr>\n",
              "      <th>300.0</th>\n",
              "      <td>0.060399</td>\n",
              "      <td>0.048253</td>\n",
              "    </tr>\n",
              "    <tr>\n",
              "      <th>400.0</th>\n",
              "      <td>0.058735</td>\n",
              "      <td>0.047255</td>\n",
              "    </tr>\n",
              "  </tbody>\n",
              "</table>\n",
              "</div>"
            ],
            "text/plain": [
              "         RandomForest  ExtraTrees\n",
              "n_trees                          \n",
              "15.0         0.107155    0.107155\n",
              "20.0         0.096839    0.097171\n",
              "30.0         0.082862    0.080366\n",
              "40.0         0.078869    0.069884\n",
              "50.0         0.076040    0.065225\n",
              "100.0        0.064725    0.053744\n",
              "150.0        0.062562    0.051082\n",
              "200.0        0.061564    0.050416\n",
              "300.0        0.060399    0.048253\n",
              "400.0        0.058735    0.047255"
            ]
          },
          "metadata": {},
          "execution_count": 43
        }
      ]
    },
    {
      "cell_type": "markdown",
      "metadata": {
        "id": "guArJmpkhnA1"
      },
      "source": [
        "The random forest model performs consistently better than the extra randomized trees."
      ]
    },
    {
      "cell_type": "code",
      "metadata": {
        "ExecuteTime": {
          "end_time": "2017-04-09T22:23:20.424934Z",
          "start_time": "2017-04-09T18:23:20.180646-04:00"
        },
        "collapsed": true,
        "id": "BueEa2Q9hnA1",
        "colab": {
          "base_uri": "https://localhost:8080/",
          "height": 301
        },
        "outputId": "a9e74f69-de6c-4b60-c56e-b796168b3324"
      },
      "source": [
        "sns.set_context('talk')\n",
        "sns.set_palette('dark')\n",
        "sns.set_style('white')\n",
        "\n",
        "ax = oob_df.plot(marker='o')\n",
        "ax.set(ylabel='out-of-bag error');"
      ],
      "execution_count": 44,
      "outputs": [
        {
          "output_type": "display_data",
          "data": {
            "image/png": "[encoded data removed]",
            "text/plain": [
              "<Figure size 432x288 with 1 Axes>"
            ]
          },
          "metadata": {}
        }
      ]
    },
    {
      "cell_type": "markdown",
      "metadata": {
        "id": "7qc80P1QhnA1"
      },
      "source": [
        "## Question 10\n",
        "\n",
        "* Select one of the models that performs well and calculate error metrics and a confusion matrix on the test data set. \n",
        "* Given the distribution of the predicted class, which metric is most important? Which could be deceiving?"
      ]
    },
    {
      "cell_type": "code",
      "metadata": {
        "ExecuteTime": {
          "end_time": "2017-04-09T22:23:23.367818Z",
          "start_time": "2017-04-09T18:23:23.150988-04:00"
        },
        "collapsed": true,
        "id": "na5n_YsLhnA1"
      },
      "source": [
        "# Random forest with 100 estimators\n",
        "model_2 = RF.set_params(n_estimators=100) # The n_estimators paramater is the number of trees in the forest.\n",
        "\n",
        "y_pred = model.predict(X_test)"
      ],
      "execution_count": 50,
      "outputs": []
    },
    {
      "cell_type": "markdown",
      "metadata": {
        "id": "IcOJppEBhnA1"
      },
      "source": [
        "Unsurprisingly, recall is rather poor for the customers who churned (True) class since they are quite small. We are doing better than random guessing, though, as the accuracy is 0.932 (vs 0.85 for random guessing)."
      ]
    },
    {
      "cell_type": "code",
      "metadata": {
        "ExecuteTime": {
          "end_time": "2017-04-09T22:23:24.448193Z",
          "start_time": "2017-04-09T18:23:24.424414-04:00"
        },
        "collapsed": true,
        "id": "hWgIW-tuhnA1",
        "colab": {
          "base_uri": "https://localhost:8080/"
        },
        "outputId": "89d3ded8-f7d4-482f-e52c-7b9834225f99"
      },
      "source": [
        "cr = classification_report(y_test, y_pred)\n",
        "print(cr)\n",
        "\n",
        "score_df = pd.DataFrame({'accuracy': accuracy_score(y_test, y_pred),\n",
        "                         'precision': precision_score(y_test, y_pred),\n",
        "                         'recall': recall_score(y_test, y_pred),\n",
        "                         'f1': f1_score(y_test, y_pred),\n",
        "                         'auc': roc_auc_score(y_test, y_pred)},\n",
        "                         index=pd.Index([0]))\n",
        "\n",
        "print(score_df)"
      ],
      "execution_count": 51,
      "outputs": [
        {
          "output_type": "stream",
          "name": "stdout",
          "text": [
            "              precision    recall  f1-score   support\n",
            "\n",
            "       False       0.94      0.96      0.95      1288\n",
            "        True       0.70      0.62      0.65       212\n",
            "\n",
            "    accuracy                           0.91      1500\n",
            "   macro avg       0.82      0.79      0.80      1500\n",
            "weighted avg       0.90      0.91      0.91      1500\n",
            "\n",
            "   accuracy  precision    recall     f1       auc\n",
            "0     0.908   0.696809  0.617925  0.655  0.786835\n"
          ]
        }
      ]
    },
    {
      "cell_type": "markdown",
      "metadata": {
        "id": "xDeDG7gjhnA1"
      },
      "source": [
        "## Question 11\n",
        "\n",
        "* Print or visualize the confusion matrix.\n",
        "* Plot the ROC-AUC and precision-recall curves.\n",
        "* Plot the feature importances."
      ]
    },
    {
      "cell_type": "code",
      "metadata": {
        "ExecuteTime": {
          "end_time": "2017-04-09T22:23:38.549628Z",
          "start_time": "2017-04-09T18:23:38.270924-04:00"
        },
        "collapsed": true,
        "id": "yty5H-EphnA1",
        "colab": {
          "base_uri": "https://localhost:8080/",
          "height": 319
        },
        "outputId": "125f79df-41d2-4999-bde7-50da0426922a"
      },
      "source": [
        "sns.set_context('talk')\n",
        "cm = confusion_matrix(y_test, y_pred)\n",
        "ax = sns.heatmap(cm, annot=True, fmt='d')\n",
        "\n",
        "labels = ['False', 'True']\n",
        "ax.set_xticklabels(labels);\n",
        "ax.set_yticklabels(labels[::-1]);\n",
        "ax.set_ylabel('Prediction');\n",
        "ax.set_xlabel('Ground Truth')"
      ],
      "execution_count": 52,
      "outputs": [
        {
          "output_type": "execute_result",
          "data": {
            "text/plain": [
              "Text(0.5, 1.5, 'Ground Truth')"
            ]
          },
          "metadata": {},
          "execution_count": 52
        },
        {
          "output_type": "display_data",
          "data": {
            "image/png": "[encoded data removed]",
            "text/plain": [
              "<Figure size 432x288 with 2 Axes>"
            ]
          },
          "metadata": {}
        }
      ]
    },
    {
      "cell_type": "markdown",
      "metadata": {
        "id": "GUg4XR5shnA1"
      },
      "source": [
        "The ROC-AUC and precision-recall curves."
      ]
    },
    {
      "cell_type": "code",
      "metadata": {
        "ExecuteTime": {
          "end_time": "2017-04-09T22:23:40.968026Z",
          "start_time": "2017-04-09T18:23:40.497603-04:00"
        },
        "collapsed": true,
        "id": "fXFrP5jAhnA2",
        "colab": {
          "base_uri": "https://localhost:8080/",
          "height": 352
        },
        "outputId": "b9684a39-e8ef-42b6-eb0e-1b2d80ff0401"
      },
      "source": [
        "sns.set_context('talk')\n",
        "\n",
        "fig, axList = plt.subplots(ncols=2)\n",
        "fig.set_size_inches(11, 5)\n",
        "\n",
        "# Get the probabilities for each of the two categories\n",
        "y_prob = model_2.predict_proba(X_test)\n",
        "\n",
        "# Plot the ROC-AUC curve\n",
        "ax = axList[0]\n",
        "\n",
        "fpr, tpr, thresholds = roc_curve(y_test, y_prob[:,1])\n",
        "ax.plot(fpr, tpr)\n",
        "# It is customary to draw a diagonal dotted line in ROC plots.\n",
        "# This is to indicate completely random prediction. Deviation from this\n",
        "# dotted line towards the upper left corner signifies the power of the model.\n",
        "ax.plot([0, 1], [0, 1], ls='--', color='black', lw=.3)\n",
        "ax.set(xlabel='False Positive Rate',\n",
        "       ylabel='True Positive Rate',\n",
        "       xlim=[-.01, 1.01], ylim=[-.01, 1.01],\n",
        "       title='ROC curve')\n",
        "ax.grid(True)\n",
        "\n",
        "# Plot the precision-recall curve\n",
        "ax = axList[1]\n",
        "\n",
        "precision, recall, _ = precision_recall_curve(y_test, y_prob[:,1])\n",
        "ax.plot(recall, precision)\n",
        "ax.set(xlabel='Recall', ylabel='Precision',\n",
        "       xlim=[-.01, 1.01], ylim=[-.01, 1.01],\n",
        "       title='Precision-Recall curve')\n",
        "ax.grid(True)\n",
        "\n",
        "plt.tight_layout()"
      ],
      "execution_count": 53,
      "outputs": [
        {
          "output_type": "display_data",
          "data": {
            "image/png": "[encoded data removed]",
            "text/plain": [
              "<Figure size 792x360 with 2 Axes>"
            ]
          },
          "metadata": {}
        }
      ]
    },
    {
      "cell_type": "markdown",
      "metadata": {
        "id": "8rL0icekhnA2"
      },
      "source": [
        "The feature importances. Total daily cost is the biggest predictor of customer churn."
      ]
    },
    {
      "cell_type": "code",
      "metadata": {
        "ExecuteTime": {
          "end_time": "2017-04-09T22:23:43.645225Z",
          "start_time": "2017-04-09T18:23:43.209194-04:00"
        },
        "collapsed": true,
        "id": "s7UHpfRphnA2",
        "colab": {
          "base_uri": "https://localhost:8080/",
          "height": 524
        },
        "outputId": "d0bb16c4-fe4d-40ed-f9a7-317b45266761"
      },
      "source": [
        "feature_imp = pd.Series(model_2.feature_importances_, index=feature_cols).sort_values(ascending=False)\n",
        "\n",
        "ax = feature_imp.plot(kind='bar')\n",
        "ax.set(ylabel='Relative Importance');"
      ],
      "execution_count": 54,
      "outputs": [
        {
          "output_type": "display_data",
          "data": {
            "image/png": "[encoded data removed]",
            "text/plain": [
              "<Figure size 432x288 with 1 Axes>"
            ]
          },
          "metadata": {}
        }
      ]
    }
  ]
}