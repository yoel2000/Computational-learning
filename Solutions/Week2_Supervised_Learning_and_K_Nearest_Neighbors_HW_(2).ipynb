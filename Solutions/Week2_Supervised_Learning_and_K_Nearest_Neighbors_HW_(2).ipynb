{
  "nbformat": 4,
  "nbformat_minor": 0,
  "metadata": {
    "anaconda-cloud": {},
    "kernelspec": {
      "display_name": "Python 3",
      "language": "python",
      "name": "python3"
    },
    "language_info": {
      "codemirror_mode": {
        "name": "ipython",
        "version": 3
      },
      "file_extension": ".py",
      "mimetype": "text/x-python",
      "name": "python",
      "nbconvert_exporter": "python",
      "pygments_lexer": "ipython3",
      "version": "3.7.0"
    },
    "name": "Linear_Regression_and_K_Nearest_Neighbors_Exercises-ANSWERS",
    "notebookId": 2125319687183902,
    "colab": {
      "name": "Week2_Supervised_Learning_and_K_Nearest_Neighbors_HW (2).ipynb",
      "provenance": [],
      "collapsed_sections": []
    }
  },
  "cells": [
    {
      "cell_type": "markdown",
      "metadata": {
        "id": "7vq9BA0Eg4Nb"
      },
      "source": [
        "# Supervised Learning and K Nearest Neighbors Exercises"
      ]
    },
    {
      "cell_type": "markdown",
      "metadata": {
        "id": "RXZ_zbSsg4Ng"
      },
      "source": [
        "## Introduction\n",
        "\n",
        "We will be using customer churn data from the telecom industry for this week's exercises. The data file is called \n",
        "`Orange_Telecom_Churn_Data.csv`. We will load this data together, do some preprocessing, and use K-nearest neighbors to predict customer churn based on account characteristics."
      ]
    },
    {
      "cell_type": "code",
      "metadata": {
        "colab": {
          "base_uri": "https://localhost:8080/"
        },
        "id": "KGJ-LTzxhGy8",
        "outputId": "9e5a45c4-d511-4072-e74e-f89e9d21207f"
      },
      "source": [
        "from google.colab import drive\n",
        "drive.mount('/content/gdrive')"
      ],
      "execution_count": null,
      "outputs": [
        {
          "output_type": "stream",
          "name": "stdout",
          "text": [
            "Mounted at /content/gdrive\n"
          ]
        }
      ]
    },
    {
      "cell_type": "markdown",
      "metadata": {
        "id": "3M-jDNmBg4Ni"
      },
      "source": [
        "## Question 1\n",
        "\n",
        "* Begin by importing the data. Examine the columns and data.\n",
        "* Notice that the data contains a state, area code, and phone number. Do you think these are good features to use when building a machine learning model? Why or why not? \n",
        "\n",
        "We will not be using them, so they can be dropped from the data."
      ]
    },
    {
      "cell_type": "code",
      "metadata": {
        "ExecuteTime": {
          "end_time": "2017-03-09T17:11:00.913456Z",
          "start_time": "2017-03-09T12:11:00.883452-05:00"
        },
        "id": "XCMGgLjAg4Ni"
      },
      "source": [
        "import pandas as pd\n",
        "\n",
        "# Import the data using the file path\n",
        "#filepath = os.sep.join(data_path + ['Orange_Telecom_Churn_Data.csv'])\n",
        "filepath = '/content/gdrive/MyDrive/M.S.c - mahon lev/Computational learning/Class 2/data_2/Orange_Telecom_Churn_Data.csv'\n",
        "data = pd.read_csv(filepath)"
      ],
      "execution_count": null,
      "outputs": []
    },
    {
      "cell_type": "code",
      "metadata": {
        "ExecuteTime": {
          "end_time": "2017-03-09T17:11:01.087485Z",
          "start_time": "2017-03-09T12:11:01.075442-05:00"
        },
        "id": "fvf1n7YJg4Nj",
        "colab": {
          "base_uri": "https://localhost:8080/",
          "height": 696
        },
        "outputId": "43b1a57e-42c2-4c31-d75c-973f3dc3132b"
      },
      "source": [
        "data.head(1).T"
      ],
      "execution_count": null,
      "outputs": [
        {
          "output_type": "execute_result",
          "data": {
            "text/html": [
              "<div>\n",
              "<style scoped>\n",
              "    .dataframe tbody tr th:only-of-type {\n",
              "        vertical-align: middle;\n",
              "    }\n",
              "\n",
              "    .dataframe tbody tr th {\n",
              "        vertical-align: top;\n",
              "    }\n",
              "\n",
              "    .dataframe thead th {\n",
              "        text-align: right;\n",
              "    }\n",
              "</style>\n",
              "<table border=\"1\" class=\"dataframe\">\n",
              "  <thead>\n",
              "    <tr style=\"text-align: right;\">\n",
              "      <th></th>\n",
              "      <th>0</th>\n",
              "    </tr>\n",
              "  </thead>\n",
              "  <tbody>\n",
              "    <tr>\n",
              "      <th>state</th>\n",
              "      <td>KS</td>\n",
              "    </tr>\n",
              "    <tr>\n",
              "      <th>account_length</th>\n",
              "      <td>128</td>\n",
              "    </tr>\n",
              "    <tr>\n",
              "      <th>area_code</th>\n",
              "      <td>415</td>\n",
              "    </tr>\n",
              "    <tr>\n",
              "      <th>phone_number</th>\n",
              "      <td>382-4657</td>\n",
              "    </tr>\n",
              "    <tr>\n",
              "      <th>intl_plan</th>\n",
              "      <td>no</td>\n",
              "    </tr>\n",
              "    <tr>\n",
              "      <th>voice_mail_plan</th>\n",
              "      <td>yes</td>\n",
              "    </tr>\n",
              "    <tr>\n",
              "      <th>number_vmail_messages</th>\n",
              "      <td>25</td>\n",
              "    </tr>\n",
              "    <tr>\n",
              "      <th>total_day_minutes</th>\n",
              "      <td>265.1</td>\n",
              "    </tr>\n",
              "    <tr>\n",
              "      <th>total_day_calls</th>\n",
              "      <td>110</td>\n",
              "    </tr>\n",
              "    <tr>\n",
              "      <th>total_day_charge</th>\n",
              "      <td>45.07</td>\n",
              "    </tr>\n",
              "    <tr>\n",
              "      <th>total_eve_minutes</th>\n",
              "      <td>197.4</td>\n",
              "    </tr>\n",
              "    <tr>\n",
              "      <th>total_eve_calls</th>\n",
              "      <td>99</td>\n",
              "    </tr>\n",
              "    <tr>\n",
              "      <th>total_eve_charge</th>\n",
              "      <td>16.78</td>\n",
              "    </tr>\n",
              "    <tr>\n",
              "      <th>total_night_minutes</th>\n",
              "      <td>244.7</td>\n",
              "    </tr>\n",
              "    <tr>\n",
              "      <th>total_night_calls</th>\n",
              "      <td>91</td>\n",
              "    </tr>\n",
              "    <tr>\n",
              "      <th>total_night_charge</th>\n",
              "      <td>11.01</td>\n",
              "    </tr>\n",
              "    <tr>\n",
              "      <th>total_intl_minutes</th>\n",
              "      <td>10</td>\n",
              "    </tr>\n",
              "    <tr>\n",
              "      <th>total_intl_calls</th>\n",
              "      <td>3</td>\n",
              "    </tr>\n",
              "    <tr>\n",
              "      <th>total_intl_charge</th>\n",
              "      <td>2.7</td>\n",
              "    </tr>\n",
              "    <tr>\n",
              "      <th>number_customer_service_calls</th>\n",
              "      <td>1</td>\n",
              "    </tr>\n",
              "    <tr>\n",
              "      <th>churned</th>\n",
              "      <td>False</td>\n",
              "    </tr>\n",
              "  </tbody>\n",
              "</table>\n",
              "</div>"
            ],
            "text/plain": [
              "                                      0\n",
              "state                                KS\n",
              "account_length                      128\n",
              "area_code                           415\n",
              "phone_number                   382-4657\n",
              "intl_plan                            no\n",
              "voice_mail_plan                     yes\n",
              "number_vmail_messages                25\n",
              "total_day_minutes                 265.1\n",
              "total_day_calls                     110\n",
              "total_day_charge                  45.07\n",
              "total_eve_minutes                 197.4\n",
              "total_eve_calls                      99\n",
              "total_eve_charge                  16.78\n",
              "total_night_minutes               244.7\n",
              "total_night_calls                    91\n",
              "total_night_charge                11.01\n",
              "total_intl_minutes                   10\n",
              "total_intl_calls                      3\n",
              "total_intl_charge                   2.7\n",
              "number_customer_service_calls         1\n",
              "churned                           False"
            ]
          },
          "metadata": {},
          "execution_count": 7
        }
      ]
    },
    {
      "cell_type": "code",
      "metadata": {
        "colab": {
          "base_uri": "https://localhost:8080/",
          "height": 437
        },
        "id": "Ojdi7p2badU6",
        "outputId": "c62f3792-0d85-496e-e37d-99ba381437f6"
      },
      "source": [
        "data"
      ],
      "execution_count": null,
      "outputs": [
        {
          "output_type": "execute_result",
          "data": {
            "text/html": [
              "<div>\n",
              "<style scoped>\n",
              "    .dataframe tbody tr th:only-of-type {\n",
              "        vertical-align: middle;\n",
              "    }\n",
              "\n",
              "    .dataframe tbody tr th {\n",
              "        vertical-align: top;\n",
              "    }\n",
              "\n",
              "    .dataframe thead th {\n",
              "        text-align: right;\n",
              "    }\n",
              "</style>\n",
              "<table border=\"1\" class=\"dataframe\">\n",
              "  <thead>\n",
              "    <tr style=\"text-align: right;\">\n",
              "      <th></th>\n",
              "      <th>state</th>\n",
              "      <th>account_length</th>\n",
              "      <th>area_code</th>\n",
              "      <th>phone_number</th>\n",
              "      <th>intl_plan</th>\n",
              "      <th>voice_mail_plan</th>\n",
              "      <th>number_vmail_messages</th>\n",
              "      <th>total_day_minutes</th>\n",
              "      <th>total_day_calls</th>\n",
              "      <th>total_day_charge</th>\n",
              "      <th>total_eve_minutes</th>\n",
              "      <th>total_eve_calls</th>\n",
              "      <th>total_eve_charge</th>\n",
              "      <th>total_night_minutes</th>\n",
              "      <th>total_night_calls</th>\n",
              "      <th>total_night_charge</th>\n",
              "      <th>total_intl_minutes</th>\n",
              "      <th>total_intl_calls</th>\n",
              "      <th>total_intl_charge</th>\n",
              "      <th>number_customer_service_calls</th>\n",
              "      <th>churned</th>\n",
              "    </tr>\n",
              "  </thead>\n",
              "  <tbody>\n",
              "    <tr>\n",
              "      <th>0</th>\n",
              "      <td>KS</td>\n",
              "      <td>128</td>\n",
              "      <td>415</td>\n",
              "      <td>382-4657</td>\n",
              "      <td>no</td>\n",
              "      <td>yes</td>\n",
              "      <td>25</td>\n",
              "      <td>265.1</td>\n",
              "      <td>110</td>\n",
              "      <td>45.07</td>\n",
              "      <td>197.4</td>\n",
              "      <td>99</td>\n",
              "      <td>16.78</td>\n",
              "      <td>244.7</td>\n",
              "      <td>91</td>\n",
              "      <td>11.01</td>\n",
              "      <td>10.0</td>\n",
              "      <td>3</td>\n",
              "      <td>2.70</td>\n",
              "      <td>1</td>\n",
              "      <td>False</td>\n",
              "    </tr>\n",
              "    <tr>\n",
              "      <th>1</th>\n",
              "      <td>OH</td>\n",
              "      <td>107</td>\n",
              "      <td>415</td>\n",
              "      <td>371-7191</td>\n",
              "      <td>no</td>\n",
              "      <td>yes</td>\n",
              "      <td>26</td>\n",
              "      <td>161.6</td>\n",
              "      <td>123</td>\n",
              "      <td>27.47</td>\n",
              "      <td>195.5</td>\n",
              "      <td>103</td>\n",
              "      <td>16.62</td>\n",
              "      <td>254.4</td>\n",
              "      <td>103</td>\n",
              "      <td>11.45</td>\n",
              "      <td>13.7</td>\n",
              "      <td>3</td>\n",
              "      <td>3.70</td>\n",
              "      <td>1</td>\n",
              "      <td>False</td>\n",
              "    </tr>\n",
              "    <tr>\n",
              "      <th>2</th>\n",
              "      <td>NJ</td>\n",
              "      <td>137</td>\n",
              "      <td>415</td>\n",
              "      <td>358-1921</td>\n",
              "      <td>no</td>\n",
              "      <td>no</td>\n",
              "      <td>0</td>\n",
              "      <td>243.4</td>\n",
              "      <td>114</td>\n",
              "      <td>41.38</td>\n",
              "      <td>121.2</td>\n",
              "      <td>110</td>\n",
              "      <td>10.30</td>\n",
              "      <td>162.6</td>\n",
              "      <td>104</td>\n",
              "      <td>7.32</td>\n",
              "      <td>12.2</td>\n",
              "      <td>5</td>\n",
              "      <td>3.29</td>\n",
              "      <td>0</td>\n",
              "      <td>False</td>\n",
              "    </tr>\n",
              "    <tr>\n",
              "      <th>3</th>\n",
              "      <td>OH</td>\n",
              "      <td>84</td>\n",
              "      <td>408</td>\n",
              "      <td>375-9999</td>\n",
              "      <td>yes</td>\n",
              "      <td>no</td>\n",
              "      <td>0</td>\n",
              "      <td>299.4</td>\n",
              "      <td>71</td>\n",
              "      <td>50.90</td>\n",
              "      <td>61.9</td>\n",
              "      <td>88</td>\n",
              "      <td>5.26</td>\n",
              "      <td>196.9</td>\n",
              "      <td>89</td>\n",
              "      <td>8.86</td>\n",
              "      <td>6.6</td>\n",
              "      <td>7</td>\n",
              "      <td>1.78</td>\n",
              "      <td>2</td>\n",
              "      <td>False</td>\n",
              "    </tr>\n",
              "    <tr>\n",
              "      <th>4</th>\n",
              "      <td>OK</td>\n",
              "      <td>75</td>\n",
              "      <td>415</td>\n",
              "      <td>330-6626</td>\n",
              "      <td>yes</td>\n",
              "      <td>no</td>\n",
              "      <td>0</td>\n",
              "      <td>166.7</td>\n",
              "      <td>113</td>\n",
              "      <td>28.34</td>\n",
              "      <td>148.3</td>\n",
              "      <td>122</td>\n",
              "      <td>12.61</td>\n",
              "      <td>186.9</td>\n",
              "      <td>121</td>\n",
              "      <td>8.41</td>\n",
              "      <td>10.1</td>\n",
              "      <td>3</td>\n",
              "      <td>2.73</td>\n",
              "      <td>3</td>\n",
              "      <td>False</td>\n",
              "    </tr>\n",
              "    <tr>\n",
              "      <th>...</th>\n",
              "      <td>...</td>\n",
              "      <td>...</td>\n",
              "      <td>...</td>\n",
              "      <td>...</td>\n",
              "      <td>...</td>\n",
              "      <td>...</td>\n",
              "      <td>...</td>\n",
              "      <td>...</td>\n",
              "      <td>...</td>\n",
              "      <td>...</td>\n",
              "      <td>...</td>\n",
              "      <td>...</td>\n",
              "      <td>...</td>\n",
              "      <td>...</td>\n",
              "      <td>...</td>\n",
              "      <td>...</td>\n",
              "      <td>...</td>\n",
              "      <td>...</td>\n",
              "      <td>...</td>\n",
              "      <td>...</td>\n",
              "      <td>...</td>\n",
              "    </tr>\n",
              "    <tr>\n",
              "      <th>4995</th>\n",
              "      <td>HI</td>\n",
              "      <td>50</td>\n",
              "      <td>408</td>\n",
              "      <td>365-8751</td>\n",
              "      <td>no</td>\n",
              "      <td>yes</td>\n",
              "      <td>40</td>\n",
              "      <td>235.7</td>\n",
              "      <td>127</td>\n",
              "      <td>40.07</td>\n",
              "      <td>223.0</td>\n",
              "      <td>126</td>\n",
              "      <td>18.96</td>\n",
              "      <td>297.5</td>\n",
              "      <td>116</td>\n",
              "      <td>13.39</td>\n",
              "      <td>9.9</td>\n",
              "      <td>5</td>\n",
              "      <td>2.67</td>\n",
              "      <td>2</td>\n",
              "      <td>False</td>\n",
              "    </tr>\n",
              "    <tr>\n",
              "      <th>4996</th>\n",
              "      <td>WV</td>\n",
              "      <td>152</td>\n",
              "      <td>415</td>\n",
              "      <td>334-9736</td>\n",
              "      <td>no</td>\n",
              "      <td>no</td>\n",
              "      <td>0</td>\n",
              "      <td>184.2</td>\n",
              "      <td>90</td>\n",
              "      <td>31.31</td>\n",
              "      <td>256.8</td>\n",
              "      <td>73</td>\n",
              "      <td>21.83</td>\n",
              "      <td>213.6</td>\n",
              "      <td>113</td>\n",
              "      <td>9.61</td>\n",
              "      <td>14.7</td>\n",
              "      <td>2</td>\n",
              "      <td>3.97</td>\n",
              "      <td>3</td>\n",
              "      <td>True</td>\n",
              "    </tr>\n",
              "    <tr>\n",
              "      <th>4997</th>\n",
              "      <td>DC</td>\n",
              "      <td>61</td>\n",
              "      <td>415</td>\n",
              "      <td>333-6861</td>\n",
              "      <td>no</td>\n",
              "      <td>no</td>\n",
              "      <td>0</td>\n",
              "      <td>140.6</td>\n",
              "      <td>89</td>\n",
              "      <td>23.90</td>\n",
              "      <td>172.8</td>\n",
              "      <td>128</td>\n",
              "      <td>14.69</td>\n",
              "      <td>212.4</td>\n",
              "      <td>97</td>\n",
              "      <td>9.56</td>\n",
              "      <td>13.6</td>\n",
              "      <td>4</td>\n",
              "      <td>3.67</td>\n",
              "      <td>1</td>\n",
              "      <td>False</td>\n",
              "    </tr>\n",
              "    <tr>\n",
              "      <th>4998</th>\n",
              "      <td>DC</td>\n",
              "      <td>109</td>\n",
              "      <td>510</td>\n",
              "      <td>394-2206</td>\n",
              "      <td>no</td>\n",
              "      <td>no</td>\n",
              "      <td>0</td>\n",
              "      <td>188.8</td>\n",
              "      <td>67</td>\n",
              "      <td>32.10</td>\n",
              "      <td>171.7</td>\n",
              "      <td>92</td>\n",
              "      <td>14.59</td>\n",
              "      <td>224.4</td>\n",
              "      <td>89</td>\n",
              "      <td>10.10</td>\n",
              "      <td>8.5</td>\n",
              "      <td>6</td>\n",
              "      <td>2.30</td>\n",
              "      <td>0</td>\n",
              "      <td>False</td>\n",
              "    </tr>\n",
              "    <tr>\n",
              "      <th>4999</th>\n",
              "      <td>VT</td>\n",
              "      <td>86</td>\n",
              "      <td>415</td>\n",
              "      <td>373-8058</td>\n",
              "      <td>no</td>\n",
              "      <td>yes</td>\n",
              "      <td>34</td>\n",
              "      <td>129.4</td>\n",
              "      <td>102</td>\n",
              "      <td>22.00</td>\n",
              "      <td>267.1</td>\n",
              "      <td>104</td>\n",
              "      <td>22.70</td>\n",
              "      <td>154.8</td>\n",
              "      <td>100</td>\n",
              "      <td>6.97</td>\n",
              "      <td>9.3</td>\n",
              "      <td>16</td>\n",
              "      <td>2.51</td>\n",
              "      <td>0</td>\n",
              "      <td>False</td>\n",
              "    </tr>\n",
              "  </tbody>\n",
              "</table>\n",
              "<p>5000 rows × 21 columns</p>\n",
              "</div>"
            ],
            "text/plain": [
              "     state  account_length  ...  number_customer_service_calls churned\n",
              "0       KS             128  ...                              1   False\n",
              "1       OH             107  ...                              1   False\n",
              "2       NJ             137  ...                              0   False\n",
              "3       OH              84  ...                              2   False\n",
              "4       OK              75  ...                              3   False\n",
              "...    ...             ...  ...                            ...     ...\n",
              "4995    HI              50  ...                              2   False\n",
              "4996    WV             152  ...                              3    True\n",
              "4997    DC              61  ...                              1   False\n",
              "4998    DC             109  ...                              0   False\n",
              "4999    VT              86  ...                              0   False\n",
              "\n",
              "[5000 rows x 21 columns]"
            ]
          },
          "metadata": {},
          "execution_count": 6
        }
      ]
    },
    {
      "cell_type": "code",
      "metadata": {
        "ExecuteTime": {
          "end_time": "2017-03-09T17:11:01.564122Z",
          "start_time": "2017-03-09T12:11:01.557967-05:00"
        },
        "id": "tT71sAgQg4Nk"
      },
      "source": [
        "# Remove extraneous columns\n",
        "data.drop(['state', 'area_code', 'phone_number'], axis=1, inplace=True)"
      ],
      "execution_count": null,
      "outputs": []
    },
    {
      "cell_type": "code",
      "metadata": {
        "ExecuteTime": {
          "end_time": "2017-03-09T17:11:02.585712Z",
          "start_time": "2017-03-09T12:11:02.579981-05:00"
        },
        "colab": {
          "base_uri": "https://localhost:8080/"
        },
        "id": "7Pk_8Votg4Nl",
        "outputId": "4208a2ad-4dd3-479e-dfaa-a1042e128fa2"
      },
      "source": [
        "data.columns"
      ],
      "execution_count": null,
      "outputs": [
        {
          "output_type": "execute_result",
          "data": {
            "text/plain": [
              "Index(['account_length', 'intl_plan', 'voice_mail_plan',\n",
              "       'number_vmail_messages', 'total_day_minutes', 'total_day_calls',\n",
              "       'total_day_charge', 'total_eve_minutes', 'total_eve_calls',\n",
              "       'total_eve_charge', 'total_night_minutes', 'total_night_calls',\n",
              "       'total_night_charge', 'total_intl_minutes', 'total_intl_calls',\n",
              "       'total_intl_charge', 'number_customer_service_calls', 'churned'],\n",
              "      dtype='object')"
            ]
          },
          "metadata": {},
          "execution_count": 9
        }
      ]
    },
    {
      "cell_type": "markdown",
      "metadata": {
        "id": "6iHXZRRlg4Nl"
      },
      "source": [
        "## Question 2\n",
        "\n",
        "* Notice that some of the columns are categorical data and some are floats. These features will need to be numerically encoded using one of the methods from the lecture.\n",
        "* Finally, remember from the lecture that K-nearest neighbors requires scaled data. Scale the data using one of the scaling methods discussed in the lecture."
      ]
    },
    {
      "cell_type": "code",
      "metadata": {
        "ExecuteTime": {
          "end_time": "2017-03-09T17:11:04.545751Z",
          "start_time": "2017-03-09T12:11:04.509105-05:00"
        },
        "collapsed": true,
        "id": "FYJ5ePuyg4Nm"
      },
      "source": [
        "from sklearn.preprocessing import LabelBinarizer\n",
        "\n",
        "lb = LabelBinarizer()\n",
        "\n",
        "for col in ['intl_plan', 'voice_mail_plan', 'churned']:\n",
        "    data[col] = lb.fit_transform(data[col])"
      ],
      "execution_count": null,
      "outputs": []
    },
    {
      "cell_type": "code",
      "metadata": {
        "ExecuteTime": {
          "end_time": "2017-03-09T17:11:04.736451Z",
          "start_time": "2017-03-09T12:11:04.718049-05:00"
        },
        "collapsed": true,
        "id": "hwoaoiWWg4Nn"
      },
      "source": [
        "# Mute the sklearn warning\n",
        "import warnings\n",
        "warnings.filterwarnings('ignore', module='sklearn')\n",
        "\n",
        "from sklearn.preprocessing import MinMaxScaler\n",
        "\n",
        "msc = MinMaxScaler()\n",
        "\n",
        "data = pd.DataFrame(msc.fit_transform(data),  # this is an np.array, not a dataframe.\n",
        "                    columns=data.columns)"
      ],
      "execution_count": null,
      "outputs": []
    },
    {
      "cell_type": "code",
      "metadata": {
        "colab": {
          "base_uri": "https://localhost:8080/",
          "height": 437
        },
        "id": "N7kdBAp3Z55O",
        "outputId": "383e4a15-5eba-4291-878f-0d2d59bfaa67"
      },
      "source": [
        "data"
      ],
      "execution_count": null,
      "outputs": [
        {
          "output_type": "execute_result",
          "data": {
            "text/html": [
              "<div>\n",
              "<style scoped>\n",
              "    .dataframe tbody tr th:only-of-type {\n",
              "        vertical-align: middle;\n",
              "    }\n",
              "\n",
              "    .dataframe tbody tr th {\n",
              "        vertical-align: top;\n",
              "    }\n",
              "\n",
              "    .dataframe thead th {\n",
              "        text-align: right;\n",
              "    }\n",
              "</style>\n",
              "<table border=\"1\" class=\"dataframe\">\n",
              "  <thead>\n",
              "    <tr style=\"text-align: right;\">\n",
              "      <th></th>\n",
              "      <th>account_length</th>\n",
              "      <th>intl_plan</th>\n",
              "      <th>voice_mail_plan</th>\n",
              "      <th>number_vmail_messages</th>\n",
              "      <th>total_day_minutes</th>\n",
              "      <th>total_day_calls</th>\n",
              "      <th>total_day_charge</th>\n",
              "      <th>total_eve_minutes</th>\n",
              "      <th>total_eve_calls</th>\n",
              "      <th>total_eve_charge</th>\n",
              "      <th>total_night_minutes</th>\n",
              "      <th>total_night_calls</th>\n",
              "      <th>total_night_charge</th>\n",
              "      <th>total_intl_minutes</th>\n",
              "      <th>total_intl_calls</th>\n",
              "      <th>total_intl_charge</th>\n",
              "      <th>number_customer_service_calls</th>\n",
              "      <th>churned</th>\n",
              "    </tr>\n",
              "  </thead>\n",
              "  <tbody>\n",
              "    <tr>\n",
              "      <th>0</th>\n",
              "      <td>0.524793</td>\n",
              "      <td>0.0</td>\n",
              "      <td>1.0</td>\n",
              "      <td>0.480769</td>\n",
              "      <td>0.754196</td>\n",
              "      <td>0.666667</td>\n",
              "      <td>0.754183</td>\n",
              "      <td>0.542755</td>\n",
              "      <td>0.582353</td>\n",
              "      <td>0.542866</td>\n",
              "      <td>0.619494</td>\n",
              "      <td>0.520000</td>\n",
              "      <td>0.619584</td>\n",
              "      <td>0.500</td>\n",
              "      <td>0.15</td>\n",
              "      <td>0.500000</td>\n",
              "      <td>0.111111</td>\n",
              "      <td>0.0</td>\n",
              "    </tr>\n",
              "    <tr>\n",
              "      <th>1</th>\n",
              "      <td>0.438017</td>\n",
              "      <td>0.0</td>\n",
              "      <td>1.0</td>\n",
              "      <td>0.500000</td>\n",
              "      <td>0.459744</td>\n",
              "      <td>0.745455</td>\n",
              "      <td>0.459672</td>\n",
              "      <td>0.537531</td>\n",
              "      <td>0.605882</td>\n",
              "      <td>0.537690</td>\n",
              "      <td>0.644051</td>\n",
              "      <td>0.588571</td>\n",
              "      <td>0.644344</td>\n",
              "      <td>0.685</td>\n",
              "      <td>0.15</td>\n",
              "      <td>0.685185</td>\n",
              "      <td>0.111111</td>\n",
              "      <td>0.0</td>\n",
              "    </tr>\n",
              "    <tr>\n",
              "      <th>2</th>\n",
              "      <td>0.561983</td>\n",
              "      <td>0.0</td>\n",
              "      <td>0.0</td>\n",
              "      <td>0.000000</td>\n",
              "      <td>0.692461</td>\n",
              "      <td>0.690909</td>\n",
              "      <td>0.692436</td>\n",
              "      <td>0.333242</td>\n",
              "      <td>0.647059</td>\n",
              "      <td>0.333225</td>\n",
              "      <td>0.411646</td>\n",
              "      <td>0.594286</td>\n",
              "      <td>0.411930</td>\n",
              "      <td>0.610</td>\n",
              "      <td>0.25</td>\n",
              "      <td>0.609259</td>\n",
              "      <td>0.000000</td>\n",
              "      <td>0.0</td>\n",
              "    </tr>\n",
              "    <tr>\n",
              "      <th>3</th>\n",
              "      <td>0.342975</td>\n",
              "      <td>1.0</td>\n",
              "      <td>0.0</td>\n",
              "      <td>0.000000</td>\n",
              "      <td>0.851778</td>\n",
              "      <td>0.430303</td>\n",
              "      <td>0.851740</td>\n",
              "      <td>0.170195</td>\n",
              "      <td>0.517647</td>\n",
              "      <td>0.170171</td>\n",
              "      <td>0.498481</td>\n",
              "      <td>0.508571</td>\n",
              "      <td>0.498593</td>\n",
              "      <td>0.330</td>\n",
              "      <td>0.35</td>\n",
              "      <td>0.329630</td>\n",
              "      <td>0.222222</td>\n",
              "      <td>0.0</td>\n",
              "    </tr>\n",
              "    <tr>\n",
              "      <th>4</th>\n",
              "      <td>0.305785</td>\n",
              "      <td>1.0</td>\n",
              "      <td>0.0</td>\n",
              "      <td>0.000000</td>\n",
              "      <td>0.474253</td>\n",
              "      <td>0.684848</td>\n",
              "      <td>0.474230</td>\n",
              "      <td>0.407754</td>\n",
              "      <td>0.717647</td>\n",
              "      <td>0.407959</td>\n",
              "      <td>0.473165</td>\n",
              "      <td>0.691429</td>\n",
              "      <td>0.473270</td>\n",
              "      <td>0.505</td>\n",
              "      <td>0.15</td>\n",
              "      <td>0.505556</td>\n",
              "      <td>0.333333</td>\n",
              "      <td>0.0</td>\n",
              "    </tr>\n",
              "    <tr>\n",
              "      <th>...</th>\n",
              "      <td>...</td>\n",
              "      <td>...</td>\n",
              "      <td>...</td>\n",
              "      <td>...</td>\n",
              "      <td>...</td>\n",
              "      <td>...</td>\n",
              "      <td>...</td>\n",
              "      <td>...</td>\n",
              "      <td>...</td>\n",
              "      <td>...</td>\n",
              "      <td>...</td>\n",
              "      <td>...</td>\n",
              "      <td>...</td>\n",
              "      <td>...</td>\n",
              "      <td>...</td>\n",
              "      <td>...</td>\n",
              "      <td>...</td>\n",
              "      <td>...</td>\n",
              "    </tr>\n",
              "    <tr>\n",
              "      <th>4995</th>\n",
              "      <td>0.202479</td>\n",
              "      <td>0.0</td>\n",
              "      <td>1.0</td>\n",
              "      <td>0.769231</td>\n",
              "      <td>0.670555</td>\n",
              "      <td>0.769697</td>\n",
              "      <td>0.670515</td>\n",
              "      <td>0.613143</td>\n",
              "      <td>0.741176</td>\n",
              "      <td>0.613394</td>\n",
              "      <td>0.753165</td>\n",
              "      <td>0.662857</td>\n",
              "      <td>0.753517</td>\n",
              "      <td>0.495</td>\n",
              "      <td>0.25</td>\n",
              "      <td>0.494444</td>\n",
              "      <td>0.222222</td>\n",
              "      <td>0.0</td>\n",
              "    </tr>\n",
              "    <tr>\n",
              "      <th>4996</th>\n",
              "      <td>0.623967</td>\n",
              "      <td>0.0</td>\n",
              "      <td>0.0</td>\n",
              "      <td>0.000000</td>\n",
              "      <td>0.524040</td>\n",
              "      <td>0.545455</td>\n",
              "      <td>0.523929</td>\n",
              "      <td>0.706076</td>\n",
              "      <td>0.429412</td>\n",
              "      <td>0.706244</td>\n",
              "      <td>0.540759</td>\n",
              "      <td>0.645714</td>\n",
              "      <td>0.540799</td>\n",
              "      <td>0.735</td>\n",
              "      <td>0.10</td>\n",
              "      <td>0.735185</td>\n",
              "      <td>0.333333</td>\n",
              "      <td>1.0</td>\n",
              "    </tr>\n",
              "    <tr>\n",
              "      <th>4997</th>\n",
              "      <td>0.247934</td>\n",
              "      <td>0.0</td>\n",
              "      <td>0.0</td>\n",
              "      <td>0.000000</td>\n",
              "      <td>0.400000</td>\n",
              "      <td>0.539394</td>\n",
              "      <td>0.399933</td>\n",
              "      <td>0.475117</td>\n",
              "      <td>0.752941</td>\n",
              "      <td>0.475251</td>\n",
              "      <td>0.537722</td>\n",
              "      <td>0.554286</td>\n",
              "      <td>0.537985</td>\n",
              "      <td>0.680</td>\n",
              "      <td>0.20</td>\n",
              "      <td>0.679630</td>\n",
              "      <td>0.111111</td>\n",
              "      <td>0.0</td>\n",
              "    </tr>\n",
              "    <tr>\n",
              "      <th>4998</th>\n",
              "      <td>0.446281</td>\n",
              "      <td>0.0</td>\n",
              "      <td>0.0</td>\n",
              "      <td>0.000000</td>\n",
              "      <td>0.537127</td>\n",
              "      <td>0.406061</td>\n",
              "      <td>0.537149</td>\n",
              "      <td>0.472092</td>\n",
              "      <td>0.541176</td>\n",
              "      <td>0.472016</td>\n",
              "      <td>0.568101</td>\n",
              "      <td>0.508571</td>\n",
              "      <td>0.568374</td>\n",
              "      <td>0.425</td>\n",
              "      <td>0.30</td>\n",
              "      <td>0.425926</td>\n",
              "      <td>0.000000</td>\n",
              "      <td>0.0</td>\n",
              "    </tr>\n",
              "    <tr>\n",
              "      <th>4999</th>\n",
              "      <td>0.351240</td>\n",
              "      <td>0.0</td>\n",
              "      <td>1.0</td>\n",
              "      <td>0.653846</td>\n",
              "      <td>0.368137</td>\n",
              "      <td>0.618182</td>\n",
              "      <td>0.368139</td>\n",
              "      <td>0.734396</td>\n",
              "      <td>0.611765</td>\n",
              "      <td>0.734390</td>\n",
              "      <td>0.391899</td>\n",
              "      <td>0.571429</td>\n",
              "      <td>0.392234</td>\n",
              "      <td>0.465</td>\n",
              "      <td>0.80</td>\n",
              "      <td>0.464815</td>\n",
              "      <td>0.000000</td>\n",
              "      <td>0.0</td>\n",
              "    </tr>\n",
              "  </tbody>\n",
              "</table>\n",
              "<p>5000 rows × 18 columns</p>\n",
              "</div>"
            ],
            "text/plain": [
              "      account_length  intl_plan  ...  number_customer_service_calls  churned\n",
              "0           0.524793        0.0  ...                       0.111111      0.0\n",
              "1           0.438017        0.0  ...                       0.111111      0.0\n",
              "2           0.561983        0.0  ...                       0.000000      0.0\n",
              "3           0.342975        1.0  ...                       0.222222      0.0\n",
              "4           0.305785        1.0  ...                       0.333333      0.0\n",
              "...              ...        ...  ...                            ...      ...\n",
              "4995        0.202479        0.0  ...                       0.222222      0.0\n",
              "4996        0.623967        0.0  ...                       0.333333      1.0\n",
              "4997        0.247934        0.0  ...                       0.111111      0.0\n",
              "4998        0.446281        0.0  ...                       0.000000      0.0\n",
              "4999        0.351240        0.0  ...                       0.000000      0.0\n",
              "\n",
              "[5000 rows x 18 columns]"
            ]
          },
          "metadata": {},
          "execution_count": 12
        }
      ]
    },
    {
      "cell_type": "markdown",
      "metadata": {
        "id": "Zxf3CVdig4Nn"
      },
      "source": [
        "## Question 3\n",
        "\n",
        "* Separate the feature columns (everything except `churned`) from the label (`churned`). This will create two tables.\n",
        "* Fit a K-nearest neighbors model with a value of `k=3` to this data and predict the outcome on the same data."
      ]
    },
    {
      "cell_type": "code",
      "metadata": {
        "ExecuteTime": {
          "end_time": "2017-03-09T17:11:50.280188Z",
          "start_time": "2017-03-09T12:11:50.269326-05:00"
        },
        "collapsed": true,
        "id": "hkzAkgPFg4Nn"
      },
      "source": [
        "# Get a list of all the columns that don't contain the label\n",
        "x_cols = [x for x in data.columns if x != 'churned']\n",
        "\n",
        "# Split the data into two dataframes\n",
        "X_data = data[x_cols]\n",
        "y_data = data['churned']\n",
        "\n",
        "# # alternatively:\n",
        "# X_data = data.copy()\n",
        "# y_data = X_data.pop('churned')"
      ],
      "execution_count": null,
      "outputs": []
    },
    {
      "cell_type": "code",
      "metadata": {
        "colab": {
          "base_uri": "https://localhost:8080/",
          "height": 437
        },
        "id": "K_xLXg7_Mj8l",
        "outputId": "4a480c6b-d29f-4dea-ebe5-f7ec3abbb996"
      },
      "source": [
        "X_data"
      ],
      "execution_count": null,
      "outputs": [
        {
          "output_type": "execute_result",
          "data": {
            "text/html": [
              "<div>\n",
              "<style scoped>\n",
              "    .dataframe tbody tr th:only-of-type {\n",
              "        vertical-align: middle;\n",
              "    }\n",
              "\n",
              "    .dataframe tbody tr th {\n",
              "        vertical-align: top;\n",
              "    }\n",
              "\n",
              "    .dataframe thead th {\n",
              "        text-align: right;\n",
              "    }\n",
              "</style>\n",
              "<table border=\"1\" class=\"dataframe\">\n",
              "  <thead>\n",
              "    <tr style=\"text-align: right;\">\n",
              "      <th></th>\n",
              "      <th>account_length</th>\n",
              "      <th>intl_plan</th>\n",
              "      <th>voice_mail_plan</th>\n",
              "      <th>number_vmail_messages</th>\n",
              "      <th>total_day_minutes</th>\n",
              "      <th>total_day_calls</th>\n",
              "      <th>total_day_charge</th>\n",
              "      <th>total_eve_minutes</th>\n",
              "      <th>total_eve_calls</th>\n",
              "      <th>total_eve_charge</th>\n",
              "      <th>total_night_minutes</th>\n",
              "      <th>total_night_calls</th>\n",
              "      <th>total_night_charge</th>\n",
              "      <th>total_intl_minutes</th>\n",
              "      <th>total_intl_calls</th>\n",
              "      <th>total_intl_charge</th>\n",
              "      <th>number_customer_service_calls</th>\n",
              "    </tr>\n",
              "  </thead>\n",
              "  <tbody>\n",
              "    <tr>\n",
              "      <th>0</th>\n",
              "      <td>0.524793</td>\n",
              "      <td>0.0</td>\n",
              "      <td>1.0</td>\n",
              "      <td>0.480769</td>\n",
              "      <td>0.754196</td>\n",
              "      <td>0.666667</td>\n",
              "      <td>0.754183</td>\n",
              "      <td>0.542755</td>\n",
              "      <td>0.582353</td>\n",
              "      <td>0.542866</td>\n",
              "      <td>0.619494</td>\n",
              "      <td>0.520000</td>\n",
              "      <td>0.619584</td>\n",
              "      <td>0.500</td>\n",
              "      <td>0.15</td>\n",
              "      <td>0.500000</td>\n",
              "      <td>0.111111</td>\n",
              "    </tr>\n",
              "    <tr>\n",
              "      <th>1</th>\n",
              "      <td>0.438017</td>\n",
              "      <td>0.0</td>\n",
              "      <td>1.0</td>\n",
              "      <td>0.500000</td>\n",
              "      <td>0.459744</td>\n",
              "      <td>0.745455</td>\n",
              "      <td>0.459672</td>\n",
              "      <td>0.537531</td>\n",
              "      <td>0.605882</td>\n",
              "      <td>0.537690</td>\n",
              "      <td>0.644051</td>\n",
              "      <td>0.588571</td>\n",
              "      <td>0.644344</td>\n",
              "      <td>0.685</td>\n",
              "      <td>0.15</td>\n",
              "      <td>0.685185</td>\n",
              "      <td>0.111111</td>\n",
              "    </tr>\n",
              "    <tr>\n",
              "      <th>2</th>\n",
              "      <td>0.561983</td>\n",
              "      <td>0.0</td>\n",
              "      <td>0.0</td>\n",
              "      <td>0.000000</td>\n",
              "      <td>0.692461</td>\n",
              "      <td>0.690909</td>\n",
              "      <td>0.692436</td>\n",
              "      <td>0.333242</td>\n",
              "      <td>0.647059</td>\n",
              "      <td>0.333225</td>\n",
              "      <td>0.411646</td>\n",
              "      <td>0.594286</td>\n",
              "      <td>0.411930</td>\n",
              "      <td>0.610</td>\n",
              "      <td>0.25</td>\n",
              "      <td>0.609259</td>\n",
              "      <td>0.000000</td>\n",
              "    </tr>\n",
              "    <tr>\n",
              "      <th>3</th>\n",
              "      <td>0.342975</td>\n",
              "      <td>1.0</td>\n",
              "      <td>0.0</td>\n",
              "      <td>0.000000</td>\n",
              "      <td>0.851778</td>\n",
              "      <td>0.430303</td>\n",
              "      <td>0.851740</td>\n",
              "      <td>0.170195</td>\n",
              "      <td>0.517647</td>\n",
              "      <td>0.170171</td>\n",
              "      <td>0.498481</td>\n",
              "      <td>0.508571</td>\n",
              "      <td>0.498593</td>\n",
              "      <td>0.330</td>\n",
              "      <td>0.35</td>\n",
              "      <td>0.329630</td>\n",
              "      <td>0.222222</td>\n",
              "    </tr>\n",
              "    <tr>\n",
              "      <th>4</th>\n",
              "      <td>0.305785</td>\n",
              "      <td>1.0</td>\n",
              "      <td>0.0</td>\n",
              "      <td>0.000000</td>\n",
              "      <td>0.474253</td>\n",
              "      <td>0.684848</td>\n",
              "      <td>0.474230</td>\n",
              "      <td>0.407754</td>\n",
              "      <td>0.717647</td>\n",
              "      <td>0.407959</td>\n",
              "      <td>0.473165</td>\n",
              "      <td>0.691429</td>\n",
              "      <td>0.473270</td>\n",
              "      <td>0.505</td>\n",
              "      <td>0.15</td>\n",
              "      <td>0.505556</td>\n",
              "      <td>0.333333</td>\n",
              "    </tr>\n",
              "    <tr>\n",
              "      <th>...</th>\n",
              "      <td>...</td>\n",
              "      <td>...</td>\n",
              "      <td>...</td>\n",
              "      <td>...</td>\n",
              "      <td>...</td>\n",
              "      <td>...</td>\n",
              "      <td>...</td>\n",
              "      <td>...</td>\n",
              "      <td>...</td>\n",
              "      <td>...</td>\n",
              "      <td>...</td>\n",
              "      <td>...</td>\n",
              "      <td>...</td>\n",
              "      <td>...</td>\n",
              "      <td>...</td>\n",
              "      <td>...</td>\n",
              "      <td>...</td>\n",
              "    </tr>\n",
              "    <tr>\n",
              "      <th>4995</th>\n",
              "      <td>0.202479</td>\n",
              "      <td>0.0</td>\n",
              "      <td>1.0</td>\n",
              "      <td>0.769231</td>\n",
              "      <td>0.670555</td>\n",
              "      <td>0.769697</td>\n",
              "      <td>0.670515</td>\n",
              "      <td>0.613143</td>\n",
              "      <td>0.741176</td>\n",
              "      <td>0.613394</td>\n",
              "      <td>0.753165</td>\n",
              "      <td>0.662857</td>\n",
              "      <td>0.753517</td>\n",
              "      <td>0.495</td>\n",
              "      <td>0.25</td>\n",
              "      <td>0.494444</td>\n",
              "      <td>0.222222</td>\n",
              "    </tr>\n",
              "    <tr>\n",
              "      <th>4996</th>\n",
              "      <td>0.623967</td>\n",
              "      <td>0.0</td>\n",
              "      <td>0.0</td>\n",
              "      <td>0.000000</td>\n",
              "      <td>0.524040</td>\n",
              "      <td>0.545455</td>\n",
              "      <td>0.523929</td>\n",
              "      <td>0.706076</td>\n",
              "      <td>0.429412</td>\n",
              "      <td>0.706244</td>\n",
              "      <td>0.540759</td>\n",
              "      <td>0.645714</td>\n",
              "      <td>0.540799</td>\n",
              "      <td>0.735</td>\n",
              "      <td>0.10</td>\n",
              "      <td>0.735185</td>\n",
              "      <td>0.333333</td>\n",
              "    </tr>\n",
              "    <tr>\n",
              "      <th>4997</th>\n",
              "      <td>0.247934</td>\n",
              "      <td>0.0</td>\n",
              "      <td>0.0</td>\n",
              "      <td>0.000000</td>\n",
              "      <td>0.400000</td>\n",
              "      <td>0.539394</td>\n",
              "      <td>0.399933</td>\n",
              "      <td>0.475117</td>\n",
              "      <td>0.752941</td>\n",
              "      <td>0.475251</td>\n",
              "      <td>0.537722</td>\n",
              "      <td>0.554286</td>\n",
              "      <td>0.537985</td>\n",
              "      <td>0.680</td>\n",
              "      <td>0.20</td>\n",
              "      <td>0.679630</td>\n",
              "      <td>0.111111</td>\n",
              "    </tr>\n",
              "    <tr>\n",
              "      <th>4998</th>\n",
              "      <td>0.446281</td>\n",
              "      <td>0.0</td>\n",
              "      <td>0.0</td>\n",
              "      <td>0.000000</td>\n",
              "      <td>0.537127</td>\n",
              "      <td>0.406061</td>\n",
              "      <td>0.537149</td>\n",
              "      <td>0.472092</td>\n",
              "      <td>0.541176</td>\n",
              "      <td>0.472016</td>\n",
              "      <td>0.568101</td>\n",
              "      <td>0.508571</td>\n",
              "      <td>0.568374</td>\n",
              "      <td>0.425</td>\n",
              "      <td>0.30</td>\n",
              "      <td>0.425926</td>\n",
              "      <td>0.000000</td>\n",
              "    </tr>\n",
              "    <tr>\n",
              "      <th>4999</th>\n",
              "      <td>0.351240</td>\n",
              "      <td>0.0</td>\n",
              "      <td>1.0</td>\n",
              "      <td>0.653846</td>\n",
              "      <td>0.368137</td>\n",
              "      <td>0.618182</td>\n",
              "      <td>0.368139</td>\n",
              "      <td>0.734396</td>\n",
              "      <td>0.611765</td>\n",
              "      <td>0.734390</td>\n",
              "      <td>0.391899</td>\n",
              "      <td>0.571429</td>\n",
              "      <td>0.392234</td>\n",
              "      <td>0.465</td>\n",
              "      <td>0.80</td>\n",
              "      <td>0.464815</td>\n",
              "      <td>0.000000</td>\n",
              "    </tr>\n",
              "  </tbody>\n",
              "</table>\n",
              "<p>5000 rows × 17 columns</p>\n",
              "</div>"
            ],
            "text/plain": [
              "      account_length  ...  number_customer_service_calls\n",
              "0           0.524793  ...                       0.111111\n",
              "1           0.438017  ...                       0.111111\n",
              "2           0.561983  ...                       0.000000\n",
              "3           0.342975  ...                       0.222222\n",
              "4           0.305785  ...                       0.333333\n",
              "...              ...  ...                            ...\n",
              "4995        0.202479  ...                       0.222222\n",
              "4996        0.623967  ...                       0.333333\n",
              "4997        0.247934  ...                       0.111111\n",
              "4998        0.446281  ...                       0.000000\n",
              "4999        0.351240  ...                       0.000000\n",
              "\n",
              "[5000 rows x 17 columns]"
            ]
          },
          "metadata": {},
          "execution_count": 15
        }
      ]
    },
    {
      "cell_type": "code",
      "metadata": {
        "colab": {
          "base_uri": "https://localhost:8080/"
        },
        "id": "cG3YSrnqNBI5",
        "outputId": "b0aa7a91-2ec9-4157-f2a3-bd6f484377dd"
      },
      "source": [
        "y_data"
      ],
      "execution_count": null,
      "outputs": [
        {
          "output_type": "execute_result",
          "data": {
            "text/plain": [
              "0       0.0\n",
              "1       0.0\n",
              "2       0.0\n",
              "3       0.0\n",
              "4       0.0\n",
              "       ... \n",
              "4995    0.0\n",
              "4996    1.0\n",
              "4997    0.0\n",
              "4998    0.0\n",
              "4999    0.0\n",
              "Name: churned, Length: 5000, dtype: float64"
            ]
          },
          "metadata": {},
          "execution_count": 16
        }
      ]
    },
    {
      "cell_type": "code",
      "metadata": {
        "ExecuteTime": {
          "end_time": "2017-03-09T17:11:50.989446Z",
          "start_time": "2017-03-09T12:11:50.498708-05:00"
        },
        "collapsed": true,
        "id": "CMVo3uDjg4No"
      },
      "source": [
        "from sklearn.neighbors import KNeighborsClassifier\n",
        "\n",
        "knn = KNeighborsClassifier(n_neighbors=3)\n",
        "\n",
        "knn = knn.fit(X_data, y_data)\n",
        "\n",
        "y_pred = knn.predict(X_data)"
      ],
      "execution_count": null,
      "outputs": []
    },
    {
      "cell_type": "code",
      "metadata": {
        "colab": {
          "base_uri": "https://localhost:8080/"
        },
        "id": "rnJoaGwnb1bv",
        "outputId": "2d5a10a4-a620-4061-ffdf-eb72b019ad3f"
      },
      "source": [
        "y_data.values[10:20],y_pred[10:20]"
      ],
      "execution_count": null,
      "outputs": [
        {
          "output_type": "execute_result",
          "data": {
            "text/plain": [
              "(array([1., 0., 0., 0., 0., 1., 0., 0., 0., 0.]),\n",
              " array([1., 0., 0., 0., 0., 1., 0., 0., 0., 0.]))"
            ]
          },
          "metadata": {},
          "execution_count": 18
        }
      ]
    },
    {
      "cell_type": "markdown",
      "metadata": {
        "id": "1cRKl8Tgg4No"
      },
      "source": [
        "## Question 4\n",
        "\n",
        "Ways to measure error haven't been discussed in class yet, but accuracy is an easy one to understand--it is simply the percent of labels that were correctly predicted (either true or false). \n",
        "\n",
        "* Write a function to calculate accuracy using the actual and predicted labels.\n",
        "* Using the function, calculate the accuracy of this K-nearest neighbors model on the data."
      ]
    },
    {
      "cell_type": "code",
      "metadata": {
        "ExecuteTime": {
          "end_time": "2017-03-09T17:11:50.997204Z",
          "start_time": "2017-03-09T12:11:50.991392-05:00"
        },
        "collapsed": true,
        "id": "5A-9aj7Wg4Np"
      },
      "source": [
        "# Function to calculate the % of values that were correctly predicted\n",
        "\n",
        "def accuracy(real, predict):\n",
        "    return sum(real == predict) / float(real.shape[0])"
      ],
      "execution_count": null,
      "outputs": []
    },
    {
      "cell_type": "code",
      "metadata": {
        "ExecuteTime": {
          "end_time": "2017-03-09T17:11:51.128466Z",
          "start_time": "2017-03-09T12:11:51.115874-05:00"
        },
        "id": "34twkFKzg4Np",
        "colab": {
          "base_uri": "https://localhost:8080/"
        },
        "outputId": "4f789615-0be8-4be8-f817-ed1d19429003"
      },
      "source": [
        "print(accuracy(y_data, y_pred))"
      ],
      "execution_count": null,
      "outputs": [
        {
          "output_type": "stream",
          "name": "stdout",
          "text": [
            "0.9422\n"
          ]
        }
      ]
    },
    {
      "cell_type": "markdown",
      "metadata": {
        "id": "phsf71TCg4Np"
      },
      "source": [
        "## Question 5\n",
        "\n",
        "* Fit the K-nearest neighbors model again with `n_neighbors=3` but this time use distance for the weights. Calculate the accuracy using the function you created above. \n",
        "* Fit another K-nearest neighbors model. This time use uniform weights but set the power parameter for the Minkowski distance metric to be 1 (`p=1`) i.e. Manhattan Distance.\n",
        "\n",
        "When weighted distances are used for part 1 of this question, a value of 1.0 should be returned for the accuracy. Why do you think this is? *Hint:* we are predicting on the data and with KNN the model *is* the data. We will learn how to avoid this pitfall in the next lecture."
      ]
    },
    {
      "cell_type": "code",
      "metadata": {
        "ExecuteTime": {
          "end_time": "2017-03-09T17:11:52.047123Z",
          "start_time": "2017-03-09T12:11:51.538212-05:00"
        },
        "collapsed": true,
        "id": "dMP38835g4Nq"
      },
      "source": [
        "knn_p1 = KNeighborsClassifier(n_neighbors=3, weights='distance', p=1)\n",
        "\n",
        "knn_p1 = knn_p1.fit(X_data, y_data)\n",
        "\n",
        "y_pred_p1 = knn_p1.predict(X_data)"
      ],
      "execution_count": null,
      "outputs": []
    },
    {
      "cell_type": "code",
      "metadata": {
        "ExecuteTime": {
          "end_time": "2017-03-09T17:11:52.755941Z",
          "start_time": "2017-03-09T12:11:52.049816-05:00"
        },
        "collapsed": true,
        "id": "xahOGJiSg4Nq",
        "colab": {
          "base_uri": "https://localhost:8080/"
        },
        "outputId": "d76fa02a-17b5-4be2-f8d8-3cc23d5b8bc1"
      },
      "source": [
        "print(accuracy(y_data, y_pred_p1))"
      ],
      "execution_count": null,
      "outputs": [
        {
          "output_type": "stream",
          "name": "stdout",
          "text": [
            "1.0\n"
          ]
        }
      ]
    },
    {
      "cell_type": "markdown",
      "metadata": {
        "id": "tLQvuNIkg4Nq"
      },
      "source": [
        "## Question 6\n",
        "\n",
        "* Fit a K-nearest neighbors model using values of `k` (`n_neighbors`) ranging from 1 to 20. Use uniform weights (the default). The coefficient for the Minkowski distance (`p`) can be set to either 1 or 2--just be consistent. Store the accuracy and the value of `k` used from each of these fits in a list or dictionary.\n",
        "* Plot (or view the table of) the `accuracy` vs `k`. What do you notice happens when `k=1`? Why do you think this is? *Hint:* it's for the same reason discussed above."
      ]
    },
    {
      "cell_type": "code",
      "metadata": {
        "ExecuteTime": {
          "end_time": "2017-03-09T17:12:01.329053Z",
          "start_time": "2017-03-09T12:11:52.759302-05:00"
        },
        "collapsed": true,
        "id": "AopaEbIzg4Nq",
        "colab": {
          "base_uri": "https://localhost:8080/"
        },
        "outputId": "85b4493e-5a94-443c-cda8-1425ecc179e2"
      },
      "source": [
        "acc_according_to_k = {}\n",
        "\n",
        "for i in range(1, 21):\n",
        "  knn_according_to_k = KNeighborsClassifier(n_neighbors=i)\n",
        "  knn_according_to_k = knn_according_to_k.fit(X_data, y_data)\n",
        "  y_pred_k = knn_according_to_k.predict(X_data)\n",
        "\n",
        "  acc = accuracy(y_data, y_pred_k)\n",
        "\n",
        "  acc_according_to_k[i] = acc\n",
        "\n",
        "print(acc_according_to_k)\n",
        "  "
      ],
      "execution_count": null,
      "outputs": [
        {
          "output_type": "stream",
          "name": "stdout",
          "text": [
            "{1: 1.0, 2: 0.9292, 3: 0.9422, 4: 0.9154, 5: 0.9284, 6: 0.9156, 7: 0.9254, 8: 0.9122, 9: 0.9224, 10: 0.9092, 11: 0.9158, 12: 0.9076, 13: 0.9148, 14: 0.905, 15: 0.9098, 16: 0.9044, 17: 0.908, 18: 0.9028, 19: 0.9078, 20: 0.902}\n"
          ]
        }
      ]
    },
    {
      "cell_type": "code",
      "metadata": {
        "ExecuteTime": {
          "end_time": "2017-03-09T17:12:01.829160Z",
          "start_time": "2017-03-09T12:12:01.331021-05:00"
        },
        "collapsed": true,
        "id": "24KMa8Zmg4Nr",
        "colab": {
          "base_uri": "https://localhost:8080/",
          "height": 265
        },
        "outputId": "0756d1bf-a3c3-4a71-eb97-87784870db1c"
      },
      "source": [
        "import matplotlib.pylab as plt\n",
        "\n",
        "lists = acc_according_to_k.items()\n",
        "\n",
        "x, y = zip(*lists) \n",
        "\n",
        "plt.plot(x, y)\n",
        "plt.show()"
      ],
      "execution_count": null,
      "outputs": [
        {
          "output_type": "display_data",
          "data": {
            "image/png": "[encoded data removed]",
            "text/plain": [
              "<Figure size 432x288 with 1 Axes>"
            ]
          },
          "metadata": {
            "needs_background": "light"
          }
        }
      ]
    },
    {
      "cell_type": "markdown",
      "metadata": {
        "id": "O7uDvOQUccqP"
      },
      "source": [
        "# Now with Iris"
      ]
    },
    {
      "cell_type": "markdown",
      "metadata": {
        "id": "E_Ww09nue7SJ"
      },
      "source": [
        "Load, shuffle and split Iris data (Lesson 1)\n",
        "... don´t forget scaling features"
      ]
    },
    {
      "cell_type": "code",
      "metadata": {
        "colab": {
          "base_uri": "https://localhost:8080/",
          "height": 467
        },
        "id": "lbF05wCncbVb",
        "outputId": "66335157-bdc0-4f87-ee39-86368f3b946a"
      },
      "source": [
        "import numpy as np\n",
        "import pandas as pd\n",
        "\n",
        "filepath = filepath = '/content/gdrive/MyDrive/M.S.c - mahon lev/Computational learning/Class 1/data/Iris_Data.csv'\n",
        "data = pd.read_csv(filepath)\n",
        "print(data.columns,data.shape)\n",
        "data"
      ],
      "execution_count": null,
      "outputs": [
        {
          "output_type": "stream",
          "name": "stdout",
          "text": [
            "Index(['sepal_length', 'sepal_width', 'petal_length', 'petal_width',\n",
            "       'species'],\n",
            "      dtype='object') (150, 5)\n"
          ]
        },
        {
          "output_type": "execute_result",
          "data": {
            "text/html": [
              "<div>\n",
              "<style scoped>\n",
              "    .dataframe tbody tr th:only-of-type {\n",
              "        vertical-align: middle;\n",
              "    }\n",
              "\n",
              "    .dataframe tbody tr th {\n",
              "        vertical-align: top;\n",
              "    }\n",
              "\n",
              "    .dataframe thead th {\n",
              "        text-align: right;\n",
              "    }\n",
              "</style>\n",
              "<table border=\"1\" class=\"dataframe\">\n",
              "  <thead>\n",
              "    <tr style=\"text-align: right;\">\n",
              "      <th></th>\n",
              "      <th>sepal_length</th>\n",
              "      <th>sepal_width</th>\n",
              "      <th>petal_length</th>\n",
              "      <th>petal_width</th>\n",
              "      <th>species</th>\n",
              "    </tr>\n",
              "  </thead>\n",
              "  <tbody>\n",
              "    <tr>\n",
              "      <th>0</th>\n",
              "      <td>5.1</td>\n",
              "      <td>3.5</td>\n",
              "      <td>1.4</td>\n",
              "      <td>0.2</td>\n",
              "      <td>Iris-setosa</td>\n",
              "    </tr>\n",
              "    <tr>\n",
              "      <th>1</th>\n",
              "      <td>4.9</td>\n",
              "      <td>3.0</td>\n",
              "      <td>1.4</td>\n",
              "      <td>0.2</td>\n",
              "      <td>Iris-setosa</td>\n",
              "    </tr>\n",
              "    <tr>\n",
              "      <th>2</th>\n",
              "      <td>4.7</td>\n",
              "      <td>3.2</td>\n",
              "      <td>1.3</td>\n",
              "      <td>0.2</td>\n",
              "      <td>Iris-setosa</td>\n",
              "    </tr>\n",
              "    <tr>\n",
              "      <th>3</th>\n",
              "      <td>4.6</td>\n",
              "      <td>3.1</td>\n",
              "      <td>1.5</td>\n",
              "      <td>0.2</td>\n",
              "      <td>Iris-setosa</td>\n",
              "    </tr>\n",
              "    <tr>\n",
              "      <th>4</th>\n",
              "      <td>5.0</td>\n",
              "      <td>3.6</td>\n",
              "      <td>1.4</td>\n",
              "      <td>0.2</td>\n",
              "      <td>Iris-setosa</td>\n",
              "    </tr>\n",
              "    <tr>\n",
              "      <th>...</th>\n",
              "      <td>...</td>\n",
              "      <td>...</td>\n",
              "      <td>...</td>\n",
              "      <td>...</td>\n",
              "      <td>...</td>\n",
              "    </tr>\n",
              "    <tr>\n",
              "      <th>145</th>\n",
              "      <td>6.7</td>\n",
              "      <td>3.0</td>\n",
              "      <td>5.2</td>\n",
              "      <td>2.3</td>\n",
              "      <td>Iris-virginica</td>\n",
              "    </tr>\n",
              "    <tr>\n",
              "      <th>146</th>\n",
              "      <td>6.3</td>\n",
              "      <td>2.5</td>\n",
              "      <td>5.0</td>\n",
              "      <td>1.9</td>\n",
              "      <td>Iris-virginica</td>\n",
              "    </tr>\n",
              "    <tr>\n",
              "      <th>147</th>\n",
              "      <td>6.5</td>\n",
              "      <td>3.0</td>\n",
              "      <td>5.2</td>\n",
              "      <td>2.0</td>\n",
              "      <td>Iris-virginica</td>\n",
              "    </tr>\n",
              "    <tr>\n",
              "      <th>148</th>\n",
              "      <td>6.2</td>\n",
              "      <td>3.4</td>\n",
              "      <td>5.4</td>\n",
              "      <td>2.3</td>\n",
              "      <td>Iris-virginica</td>\n",
              "    </tr>\n",
              "    <tr>\n",
              "      <th>149</th>\n",
              "      <td>5.9</td>\n",
              "      <td>3.0</td>\n",
              "      <td>5.1</td>\n",
              "      <td>1.8</td>\n",
              "      <td>Iris-virginica</td>\n",
              "    </tr>\n",
              "  </tbody>\n",
              "</table>\n",
              "<p>150 rows × 5 columns</p>\n",
              "</div>"
            ],
            "text/plain": [
              "     sepal_length  sepal_width  petal_length  petal_width         species\n",
              "0             5.1          3.5           1.4          0.2     Iris-setosa\n",
              "1             4.9          3.0           1.4          0.2     Iris-setosa\n",
              "2             4.7          3.2           1.3          0.2     Iris-setosa\n",
              "3             4.6          3.1           1.5          0.2     Iris-setosa\n",
              "4             5.0          3.6           1.4          0.2     Iris-setosa\n",
              "..            ...          ...           ...          ...             ...\n",
              "145           6.7          3.0           5.2          2.3  Iris-virginica\n",
              "146           6.3          2.5           5.0          1.9  Iris-virginica\n",
              "147           6.5          3.0           5.2          2.0  Iris-virginica\n",
              "148           6.2          3.4           5.4          2.3  Iris-virginica\n",
              "149           5.9          3.0           5.1          1.8  Iris-virginica\n",
              "\n",
              "[150 rows x 5 columns]"
            ]
          },
          "metadata": {},
          "execution_count": 35
        }
      ]
    },
    {
      "cell_type": "markdown",
      "metadata": {
        "id": "x2lGmjGd8hUr"
      },
      "source": [
        "X = frames, \n",
        "y = target"
      ]
    },
    {
      "cell_type": "code",
      "metadata": {
        "id": "zPHRU3yrdqS-"
      },
      "source": [
        "y = data.pop('species').to_frame()\n",
        "X = data"
      ],
      "execution_count": null,
      "outputs": []
    },
    {
      "cell_type": "code",
      "metadata": {
        "id": "xBnrJYhpd2Rj",
        "colab": {
          "base_uri": "https://localhost:8080/"
        },
        "outputId": "b969cc4c-9213-4ddb-f46f-e1460d7e9949"
      },
      "source": [
        "X,y"
      ],
      "execution_count": null,
      "outputs": [
        {
          "output_type": "execute_result",
          "data": {
            "text/plain": [
              "(     sepal_length  sepal_width  petal_length  petal_width\n",
              " 0             5.1          3.5           1.4          0.2\n",
              " 1             4.9          3.0           1.4          0.2\n",
              " 2             4.7          3.2           1.3          0.2\n",
              " 3             4.6          3.1           1.5          0.2\n",
              " 4             5.0          3.6           1.4          0.2\n",
              " ..            ...          ...           ...          ...\n",
              " 145           6.7          3.0           5.2          2.3\n",
              " 146           6.3          2.5           5.0          1.9\n",
              " 147           6.5          3.0           5.2          2.0\n",
              " 148           6.2          3.4           5.4          2.3\n",
              " 149           5.9          3.0           5.1          1.8\n",
              " \n",
              " [150 rows x 4 columns],             species\n",
              " 0       Iris-setosa\n",
              " 1       Iris-setosa\n",
              " 2       Iris-setosa\n",
              " 3       Iris-setosa\n",
              " 4       Iris-setosa\n",
              " ..              ...\n",
              " 145  Iris-virginica\n",
              " 146  Iris-virginica\n",
              " 147  Iris-virginica\n",
              " 148  Iris-virginica\n",
              " 149  Iris-virginica\n",
              " \n",
              " [150 rows x 1 columns])"
            ]
          },
          "metadata": {},
          "execution_count": 37
        }
      ]
    },
    {
      "cell_type": "code",
      "metadata": {
        "colab": {
          "base_uri": "https://localhost:8080/"
        },
        "id": "QkM8oK3XOVFN",
        "outputId": "0b70976c-0b37-40ac-d56d-95e80c053cef"
      },
      "source": [
        "np.std(X)"
      ],
      "execution_count": null,
      "outputs": [
        {
          "output_type": "execute_result",
          "data": {
            "text/plain": [
              "sepal_length    0.825301\n",
              "sepal_width     0.432147\n",
              "petal_length    1.758529\n",
              "petal_width     0.760613\n",
              "dtype: float64"
            ]
          },
          "metadata": {},
          "execution_count": 38
        }
      ]
    },
    {
      "cell_type": "code",
      "metadata": {
        "id": "U3kN18OYeH1H"
      },
      "source": [
        "from sklearn.model_selection import train_test_split\n",
        "X_train, X_test, y_train, y_test = train_test_split(\n",
        "        X, y,stratify=y, test_size=0.75)"
      ],
      "execution_count": null,
      "outputs": []
    },
    {
      "cell_type": "code",
      "metadata": {
        "colab": {
          "base_uri": "https://localhost:8080/"
        },
        "id": "JaEdIdXYO2Qx",
        "outputId": "56d3478e-648d-43c1-c96d-78efe5a5aa8b"
      },
      "source": [
        "X_train.shape,y_train.shape,X_test.shape,y_test.shape"
      ],
      "execution_count": null,
      "outputs": [
        {
          "output_type": "execute_result",
          "data": {
            "text/plain": [
              "((37, 4), (37, 1), (113, 4), (113, 1))"
            ]
          },
          "metadata": {},
          "execution_count": 40
        }
      ]
    },
    {
      "cell_type": "code",
      "metadata": {
        "id": "tCjDQDFAejHO",
        "colab": {
          "base_uri": "https://localhost:8080/"
        },
        "outputId": "ccb94c37-b03d-4d07-89d9-466199755705"
      },
      "source": [
        "X_train,y_train"
      ],
      "execution_count": null,
      "outputs": [
        {
          "output_type": "execute_result",
          "data": {
            "text/plain": [
              "(     sepal_length  sepal_width  petal_length  petal_width\n",
              " 102           7.1          3.0           5.9          2.1\n",
              " 46            5.1          3.8           1.6          0.2\n",
              " 136           6.3          3.4           5.6          2.4\n",
              " 94            5.6          2.7           4.2          1.3\n",
              " 121           5.6          2.8           4.9          2.0\n",
              " 5             5.4          3.9           1.7          0.4\n",
              " 71            6.1          2.8           4.0          1.3\n",
              " 69            5.6          2.5           3.9          1.1\n",
              " 14            5.8          4.0           1.2          0.2\n",
              " 95            5.7          3.0           4.2          1.2\n",
              " 104           6.5          3.0           5.8          2.2\n",
              " 114           5.8          2.8           5.1          2.4\n",
              " 4             5.0          3.6           1.4          0.2\n",
              " 124           6.7          3.3           5.7          2.1\n",
              " 134           6.1          2.6           5.6          1.4\n",
              " 143           6.8          3.2           5.9          2.3\n",
              " 13            4.3          3.0           1.1          0.1\n",
              " 77            6.7          3.0           5.0          1.7\n",
              " 41            4.5          2.3           1.3          0.3\n",
              " 6             4.6          3.4           1.4          0.3\n",
              " 118           7.7          2.6           6.9          2.3\n",
              " 99            5.7          2.8           4.1          1.3\n",
              " 37            4.9          3.1           1.5          0.1\n",
              " 144           6.7          3.3           5.7          2.5\n",
              " 135           7.7          3.0           6.1          2.3\n",
              " 26            5.0          3.4           1.6          0.4\n",
              " 92            5.8          2.6           4.0          1.2\n",
              " 20            5.4          3.4           1.7          0.2\n",
              " 54            6.5          2.8           4.6          1.5\n",
              " 140           6.7          3.1           5.6          2.4\n",
              " 30            4.8          3.1           1.6          0.2\n",
              " 81            5.5          2.4           3.7          1.0\n",
              " 53            5.5          2.3           4.0          1.3\n",
              " 51            6.4          3.2           4.5          1.5\n",
              " 139           6.9          3.1           5.4          2.1\n",
              " 32            5.2          4.1           1.5          0.1\n",
              " 85            6.0          3.4           4.5          1.6,\n",
              "              species\n",
              " 102   Iris-virginica\n",
              " 46       Iris-setosa\n",
              " 136   Iris-virginica\n",
              " 94   Iris-versicolor\n",
              " 121   Iris-virginica\n",
              " 5        Iris-setosa\n",
              " 71   Iris-versicolor\n",
              " 69   Iris-versicolor\n",
              " 14       Iris-setosa\n",
              " 95   Iris-versicolor\n",
              " 104   Iris-virginica\n",
              " 114   Iris-virginica\n",
              " 4        Iris-setosa\n",
              " 124   Iris-virginica\n",
              " 134   Iris-virginica\n",
              " 143   Iris-virginica\n",
              " 13       Iris-setosa\n",
              " 77   Iris-versicolor\n",
              " 41       Iris-setosa\n",
              " 6        Iris-setosa\n",
              " 118   Iris-virginica\n",
              " 99   Iris-versicolor\n",
              " 37       Iris-setosa\n",
              " 144   Iris-virginica\n",
              " 135   Iris-virginica\n",
              " 26       Iris-setosa\n",
              " 92   Iris-versicolor\n",
              " 20       Iris-setosa\n",
              " 54   Iris-versicolor\n",
              " 140   Iris-virginica\n",
              " 30       Iris-setosa\n",
              " 81   Iris-versicolor\n",
              " 53   Iris-versicolor\n",
              " 51   Iris-versicolor\n",
              " 139   Iris-virginica\n",
              " 32       Iris-setosa\n",
              " 85   Iris-versicolor)"
            ]
          },
          "metadata": {},
          "execution_count": 41
        }
      ]
    },
    {
      "cell_type": "markdown",
      "metadata": {
        "id": "7vraf7VSfsM1"
      },
      "source": [
        "Train a k-NN classifier on the training data, test on the testing data, explore different settings, number of input features, accuracies, ..., compare with colleagues, write conclusions"
      ]
    },
    {
      "cell_type": "code",
      "metadata": {
        "id": "0DBPUJy4gCmn",
        "colab": {
          "base_uri": "https://localhost:8080/"
        },
        "outputId": "1832de6c-de1a-43e1-c381-212ee89d4d82"
      },
      "source": [
        "knn_iris = KNeighborsClassifier(n_neighbors = 3)\n",
        "knn_iris.fit(X_train,y_train)"
      ],
      "execution_count": null,
      "outputs": [
        {
          "output_type": "stream",
          "name": "stderr",
          "text": [
            "/usr/local/lib/python3.7/dist-packages/ipykernel_launcher.py:2: DataConversionWarning: A column-vector y was passed when a 1d array was expected. Please change the shape of y to (n_samples, ), for example using ravel().\n",
            "  \n"
          ]
        },
        {
          "output_type": "execute_result",
          "data": {
            "text/plain": [
              "KNeighborsClassifier(algorithm='auto', leaf_size=30, metric='minkowski',\n",
              "                     metric_params=None, n_jobs=None, n_neighbors=3, p=2,\n",
              "                     weights='uniform')"
            ]
          },
          "metadata": {},
          "execution_count": 44
        }
      ]
    },
    {
      "cell_type": "code",
      "metadata": {
        "colab": {
          "base_uri": "https://localhost:8080/"
        },
        "id": "Gsj0A0Mul62N",
        "outputId": "001c0c14-94ba-4b5a-d0cc-47e1b290aa09"
      },
      "source": [
        "knn_iris.score(X_test, y_test)"
      ],
      "execution_count": null,
      "outputs": [
        {
          "output_type": "execute_result",
          "data": {
            "text/plain": [
              "0.9292035398230089"
            ]
          },
          "metadata": {},
          "execution_count": 48
        }
      ]
    }
  ]
}