{
  "nbformat": 4,
  "nbformat_minor": 0,
  "metadata": {
    "kernelspec": {
      "display_name": "Python 3",
      "language": "python",
      "name": "python3"
    },
    "language_info": {
      "codemirror_mode": {
        "name": "ipython",
        "version": 3
      },
      "file_extension": ".py",
      "mimetype": "text/x-python",
      "name": "python",
      "nbconvert_exporter": "python",
      "pygments_lexer": "ipython3",
      "version": "3.5.3"
    },
    "colab": {
      "name": "Week5_Logistic_Regression_and_Classification_Error_Metrics_HW.ipynb",
      "provenance": [],
      "collapsed_sections": []
    }
  },
  "cells": [
    {
      "cell_type": "markdown",
      "metadata": {
        "run_control": {
          "marked": true
        },
        "id": "idbqsSdIGZ9u"
      },
      "source": [
        "# Week 5 - Logistic Regression and Classification Error Metrics"
      ]
    },
    {
      "cell_type": "markdown",
      "metadata": {
        "run_control": {
          "marked": true
        },
        "id": "9D-E_A94GZ9y"
      },
      "source": [
        "## Introduction\n",
        "\n",
        "We will be using the [Human Activity Recognition with Smartphones](https://archive.ics.uci.edu/ml/datasets/Human+Activity+Recognition+Using+Smartphones) database, which was built from the recordings of study participants performing activities of daily living (ADL) while carrying a smartphone with an embedded inertial sensors. The objective is to classify activities into one of the six activities (walking, walking upstairs, walking downstairs, sitting, standing, and laying) performed.\n",
        "\n",
        "Alternatively the same data set can be found at https://www.kaggle.com/uciml/human-activity-recognition-with-smartphones/downloads/human-activity-recognition-with-smartphones.zip\n",
        "The train file can be renamed as Human_Activity_Recognition_Using_Smartphones_Data.csv \n",
        "\n",
        "For each record in the dataset it is provided: \n",
        "\n",
        "- Triaxial acceleration from the accelerometer (total acceleration) and the estimated body acceleration. \n",
        "- Triaxial Angular velocity from the gyroscope. \n",
        "- A 561-feature vector with time and frequency domain variables. \n",
        "- Its activity label. \n",
        "\n",
        "More information about the features is available on the website above."
      ]
    },
    {
      "cell_type": "code",
      "metadata": {
        "collapsed": true,
        "run_control": {
          "marked": true
        },
        "colab": {
          "base_uri": "https://localhost:8080/"
        },
        "id": "enlsrSb8GZ9y",
        "outputId": "b67890cb-3975-4c27-96e7-639ee2b08a56"
      },
      "source": [
        "from google.colab import drive\n",
        "drive.mount('/content/gdrive')"
      ],
      "execution_count": 1,
      "outputs": [
        {
          "output_type": "stream",
          "name": "stdout",
          "text": [
            "Mounted at /content/gdrive\n"
          ]
        }
      ]
    },
    {
      "cell_type": "markdown",
      "metadata": {
        "run_control": {
          "marked": true
        },
        "id": "tIwEa2zAGZ90"
      },
      "source": [
        "## Question 1\n",
        "\n",
        "Import the data and do the following:\n",
        "\n",
        "* Examine the data types--there are many columns, so it might be wise to use value counts\n",
        "* Determine if the floating point values need to be scaled\n",
        "* Determine the breakdown of each activity\n",
        "* Encode the activity label as an integer"
      ]
    },
    {
      "cell_type": "code",
      "metadata": {
        "collapsed": true,
        "run_control": {
          "marked": true
        },
        "id": "zOi75a5VGZ90"
      },
      "source": [
        "import pandas as pd\n",
        "import numpy as np\n",
        "\n",
        "filepath= 'https://raw.githubusercontent.com/yoel2000/Computational-learning/main/Data/Human_Activity_Recognition_Using_Smartphones_Data.csv'\n",
        "data = pd.read_csv(filepath, sep=',')"
      ],
      "execution_count": 2,
      "outputs": []
    },
    {
      "cell_type": "markdown",
      "metadata": {
        "run_control": {
          "marked": true
        },
        "id": "rrQ8UbmMGZ91"
      },
      "source": [
        "The data columns are all floats except for the activity label."
      ]
    },
    {
      "cell_type": "code",
      "metadata": {
        "run_control": {
          "marked": true
        },
        "colab": {
          "base_uri": "https://localhost:8080/"
        },
        "id": "0IMV_bF8GZ91",
        "outputId": "6a37e049-8ab0-42e5-8699-3a161c614fc7"
      },
      "source": [
        "data.dtypes.value_counts()"
      ],
      "execution_count": 2,
      "outputs": [
        {
          "output_type": "execute_result",
          "data": {
            "text/plain": [
              "float64    561\n",
              "object       1\n",
              "dtype: int64"
            ]
          },
          "metadata": {},
          "execution_count": 2
        }
      ]
    },
    {
      "cell_type": "code",
      "metadata": {
        "run_control": {
          "marked": true
        },
        "colab": {
          "base_uri": "https://localhost:8080/"
        },
        "id": "Kd8M39WaGZ92",
        "outputId": "0c375106-c08f-4cdb-b0be-7b5c5b6f0070"
      },
      "source": [
        "data.dtypes.tail()"
      ],
      "execution_count": 3,
      "outputs": [
        {
          "output_type": "execute_result",
          "data": {
            "text/plain": [
              "angle(tBodyGyroJerkMean,gravityMean)    float64\n",
              "angle(X,gravityMean)                    float64\n",
              "angle(Y,gravityMean)                    float64\n",
              "angle(Z,gravityMean)                    float64\n",
              "Activity                                 object\n",
              "dtype: object"
            ]
          },
          "metadata": {},
          "execution_count": 3
        }
      ]
    },
    {
      "cell_type": "code",
      "metadata": {
        "colab": {
          "base_uri": "https://localhost:8080/"
        },
        "id": "0lE4PVbbYivU",
        "outputId": "84a5c27a-2e2f-4a6f-c634-23aa9b02db3f"
      },
      "source": [
        "data.dtypes"
      ],
      "execution_count": 4,
      "outputs": [
        {
          "output_type": "execute_result",
          "data": {
            "text/plain": [
              "tBodyAcc-mean()-X                       float64\n",
              "tBodyAcc-mean()-Y                       float64\n",
              "tBodyAcc-mean()-Z                       float64\n",
              "tBodyAcc-std()-X                        float64\n",
              "tBodyAcc-std()-Y                        float64\n",
              "                                         ...   \n",
              "angle(tBodyGyroJerkMean,gravityMean)    float64\n",
              "angle(X,gravityMean)                    float64\n",
              "angle(Y,gravityMean)                    float64\n",
              "angle(Z,gravityMean)                    float64\n",
              "Activity                                 object\n",
              "Length: 562, dtype: object"
            ]
          },
          "metadata": {},
          "execution_count": 4
        }
      ]
    },
    {
      "cell_type": "markdown",
      "metadata": {
        "run_control": {
          "marked": true
        },
        "id": "Qf0dyx1ZGZ92"
      },
      "source": [
        "The data are all scaled from -1 (minimum) to 1.0 (maximum)."
      ]
    },
    {
      "cell_type": "code",
      "metadata": {
        "run_control": {
          "marked": true
        },
        "colab": {
          "base_uri": "https://localhost:8080/"
        },
        "id": "9uDWdpB4GZ92",
        "outputId": "c0e29af5-b20c-44a9-b7e2-a1c01a55cc3f"
      },
      "source": [
        "data.iloc[:, :-1].min().value_counts()"
      ],
      "execution_count": 5,
      "outputs": [
        {
          "output_type": "execute_result",
          "data": {
            "text/plain": [
              "-1.0    561\n",
              "dtype: int64"
            ]
          },
          "metadata": {},
          "execution_count": 5
        }
      ]
    },
    {
      "cell_type": "code",
      "metadata": {
        "run_control": {
          "marked": true
        },
        "colab": {
          "base_uri": "https://localhost:8080/"
        },
        "id": "Js9nMb0xGZ93",
        "outputId": "0ddeb236-ab7c-491b-b04e-25d1d7566150"
      },
      "source": [
        "data.iloc[:, :-1].max().value_counts()"
      ],
      "execution_count": 10,
      "outputs": [
        {
          "output_type": "execute_result",
          "data": {
            "text/plain": [
              "1.0    561\n",
              "dtype: int64"
            ]
          },
          "metadata": {},
          "execution_count": 10
        }
      ]
    },
    {
      "cell_type": "markdown",
      "metadata": {
        "id": "SQ5M7TRVGZ93"
      },
      "source": [
        "Examine the breakdown of activities--they are relatively balanced."
      ]
    },
    {
      "cell_type": "markdown",
      "metadata": {
        "id": "NYVwcw8YZ_vJ"
      },
      "source": [
        "*When we used \"[:, :-1]\", we took everything except the last column.*"
      ]
    },
    {
      "cell_type": "code",
      "metadata": {
        "colab": {
          "base_uri": "https://localhost:8080/"
        },
        "id": "-NnuZ_sEGZ93",
        "outputId": "4c094d57-2fc0-48ca-fc8c-7b11bdc0fe41"
      },
      "source": [
        "data.Activity.value_counts()"
      ],
      "execution_count": 8,
      "outputs": [
        {
          "output_type": "execute_result",
          "data": {
            "text/plain": [
              "LAYING                1944\n",
              "STANDING              1906\n",
              "SITTING               1777\n",
              "WALKING               1722\n",
              "WALKING_UPSTAIRS      1544\n",
              "WALKING_DOWNSTAIRS    1406\n",
              "Name: Activity, dtype: int64"
            ]
          },
          "metadata": {},
          "execution_count": 8
        }
      ]
    },
    {
      "cell_type": "markdown",
      "metadata": {
        "id": "08hHQ2k_GZ94"
      },
      "source": [
        "Scikit learn classifiers won't accept a sparse matrix for the prediction column. Thus, either `LabelEncoder` needs to be used to convert the activity labels to integers, or if `DictVectorizer` is used, the resulting matrix must be converted to a non-sparse array.  \n",
        "Use `LabelEncoder` to fit_transform the \"Activity\" column, and look at 5 random values."
      ]
    },
    {
      "cell_type": "code",
      "metadata": {
        "colab": {
          "base_uri": "https://localhost:8080/"
        },
        "id": "kf9fmQmlGZ94",
        "outputId": "a5bd706b-2022-4257-878d-fd7e8e55de1d"
      },
      "source": [
        "from sklearn.preprocessing import LabelEncoder\n",
        "\n",
        "le = LabelEncoder()\n",
        "data['Activity'] = le.fit_transform(data.Activity)\n",
        "data['Activity'].sample(5)"
      ],
      "execution_count": 3,
      "outputs": [
        {
          "output_type": "execute_result",
          "data": {
            "text/plain": [
              "9303    3\n",
              "9201    2\n",
              "7365    2\n",
              "6418    4\n",
              "8918    1\n",
              "Name: Activity, dtype: int64"
            ]
          },
          "metadata": {},
          "execution_count": 3
        }
      ]
    },
    {
      "cell_type": "markdown",
      "metadata": {
        "id": "dh_5ayI2GZ94"
      },
      "source": [
        "## Question 2\n",
        "\n",
        "* Calculate the correlations between the dependent variables.\n",
        "* Create a histogram of the correlation values\n",
        "* Identify those that are most correlated (either positively or negatively)."
      ]
    },
    {
      "cell_type": "code",
      "metadata": {
        "collapsed": true,
        "id": "ibFCAxWhGZ95",
        "colab": {
          "base_uri": "https://localhost:8080/"
        },
        "outputId": "084ed688-498e-4cbb-841a-c788a971494b"
      },
      "source": [
        "# Calculate the correlation values\n",
        "feature_cols = data.columns[:-1]\n",
        "corr_values = data[feature_cols].corr()\n",
        "# print(corr_values)\n",
        "\n",
        "# Simplify by emptying all the data below the diagonal\n",
        "tril_index = np.tril_indices_from(corr_values) # Return the indices for the lower-triangle of arr.\n",
        "\n",
        "\n",
        "# Make the unused values NaNs\n",
        "for coord in zip(*tril_index):\n",
        "    corr_values.iloc[coord[0], coord[1]] = np.NaN\n",
        "    \n",
        "# Stack the data and convert to a data frame\n",
        "corr_values = (corr_values.stack().to_frame().reset_index().rename(columns={'level_0':'feature1','level_1':'feature2',0:'correlation'}))\n",
        "\n",
        "# Get the absolute values for sorting\n",
        "corr_values['abs_correlation'] = corr_values.correlation.abs()\n",
        "\n",
        "print(corr_values)"
      ],
      "execution_count": 4,
      "outputs": [
        {
          "output_type": "stream",
          "name": "stdout",
          "text": [
            "                                    feature1  ... abs_correlation\n",
            "0                          tBodyAcc-mean()-X  ...        0.128037\n",
            "1                          tBodyAcc-mean()-X  ...        0.230302\n",
            "2                          tBodyAcc-mean()-X  ...        0.004590\n",
            "3                          tBodyAcc-mean()-X  ...        0.016785\n",
            "4                          tBodyAcc-mean()-X  ...        0.036071\n",
            "...                                      ...  ...             ...\n",
            "157075  angle(tBodyGyroJerkMean,gravityMean)  ...        0.004582\n",
            "157076  angle(tBodyGyroJerkMean,gravityMean)  ...        0.012549\n",
            "157077                  angle(X,gravityMean)  ...        0.748249\n",
            "157078                  angle(X,gravityMean)  ...        0.635231\n",
            "157079                  angle(Y,gravityMean)  ...        0.545614\n",
            "\n",
            "[157080 rows x 4 columns]\n"
          ]
        }
      ]
    },
    {
      "cell_type": "markdown",
      "metadata": {
        "id": "Ogd6qZMyGZ95"
      },
      "source": [
        "A histogram of the absolute value correlations."
      ]
    },
    {
      "cell_type": "code",
      "metadata": {
        "collapsed": true,
        "id": "79NkyxGOGZ95"
      },
      "source": [
        "import matplotlib.pyplot as plt\n",
        "import seaborn as sns\n",
        "%matplotlib inline"
      ],
      "execution_count": 16,
      "outputs": []
    },
    {
      "cell_type": "code",
      "metadata": {
        "id": "2qWJPR0XGZ96",
        "colab": {
          "base_uri": "https://localhost:8080/",
          "height": 308
        },
        "outputId": "780243dd-92c3-428a-c5bf-dbeb8fe9a3d4"
      },
      "source": [
        "sns.set_context('talk')\n",
        "sns.set_style('white')\n",
        "sns.set_palette('dark')\n",
        "\n",
        "ax = corr_values.abs_correlation.hist(bins=50)\n",
        "\n",
        "ax.set(xlabel='Absolute Correlation', ylabel='Frequency');"
      ],
      "execution_count": 18,
      "outputs": [
        {
          "output_type": "display_data",
          "data": {
            "image/png": "[encoded data removed]",
            "text/plain": [
              "<Figure size 432x288 with 1 Axes>"
            ]
          },
          "metadata": {}
        }
      ]
    },
    {
      "cell_type": "code",
      "metadata": {
        "id": "cAfsDMpsGZ96",
        "colab": {
          "base_uri": "https://localhost:8080/",
          "height": 417
        },
        "outputId": "842a9e54-4974-4eb5-9349-36cecb314db9"
      },
      "source": [
        "# The most highly correlated values\n",
        "corr_values.sort_values('correlation', ascending=False).query('abs_correlation>0.8')"
      ],
      "execution_count": 5,
      "outputs": [
        {
          "output_type": "execute_result",
          "data": {
            "text/html": [
              "<div>\n",
              "<style scoped>\n",
              "    .dataframe tbody tr th:only-of-type {\n",
              "        vertical-align: middle;\n",
              "    }\n",
              "\n",
              "    .dataframe tbody tr th {\n",
              "        vertical-align: top;\n",
              "    }\n",
              "\n",
              "    .dataframe thead th {\n",
              "        text-align: right;\n",
              "    }\n",
              "</style>\n",
              "<table border=\"1\" class=\"dataframe\">\n",
              "  <thead>\n",
              "    <tr style=\"text-align: right;\">\n",
              "      <th></th>\n",
              "      <th>feature1</th>\n",
              "      <th>feature2</th>\n",
              "      <th>correlation</th>\n",
              "      <th>abs_correlation</th>\n",
              "    </tr>\n",
              "  </thead>\n",
              "  <tbody>\n",
              "    <tr>\n",
              "      <th>156894</th>\n",
              "      <td>fBodyBodyGyroJerkMag-mean()</td>\n",
              "      <td>fBodyBodyGyroJerkMag-sma()</td>\n",
              "      <td>1.000000</td>\n",
              "      <td>1.000000</td>\n",
              "    </tr>\n",
              "    <tr>\n",
              "      <th>93902</th>\n",
              "      <td>tBodyAccMag-sma()</td>\n",
              "      <td>tGravityAccMag-sma()</td>\n",
              "      <td>1.000000</td>\n",
              "      <td>1.000000</td>\n",
              "    </tr>\n",
              "    <tr>\n",
              "      <th>101139</th>\n",
              "      <td>tBodyAccJerkMag-mean()</td>\n",
              "      <td>tBodyAccJerkMag-sma()</td>\n",
              "      <td>1.000000</td>\n",
              "      <td>1.000000</td>\n",
              "    </tr>\n",
              "    <tr>\n",
              "      <th>96706</th>\n",
              "      <td>tGravityAccMag-mean()</td>\n",
              "      <td>tGravityAccMag-sma()</td>\n",
              "      <td>1.000000</td>\n",
              "      <td>1.000000</td>\n",
              "    </tr>\n",
              "    <tr>\n",
              "      <th>94257</th>\n",
              "      <td>tBodyAccMag-energy()</td>\n",
              "      <td>tGravityAccMag-energy()</td>\n",
              "      <td>1.000000</td>\n",
              "      <td>1.000000</td>\n",
              "    </tr>\n",
              "    <tr>\n",
              "      <th>...</th>\n",
              "      <td>...</td>\n",
              "      <td>...</td>\n",
              "      <td>...</td>\n",
              "      <td>...</td>\n",
              "    </tr>\n",
              "    <tr>\n",
              "      <th>22657</th>\n",
              "      <td>tGravityAcc-mean()-Y</td>\n",
              "      <td>angle(Y,gravityMean)</td>\n",
              "      <td>-0.993425</td>\n",
              "      <td>0.993425</td>\n",
              "    </tr>\n",
              "    <tr>\n",
              "      <th>39225</th>\n",
              "      <td>tGravityAcc-arCoeff()-Z,3</td>\n",
              "      <td>tGravityAcc-arCoeff()-Z,4</td>\n",
              "      <td>-0.994267</td>\n",
              "      <td>0.994267</td>\n",
              "    </tr>\n",
              "    <tr>\n",
              "      <th>38739</th>\n",
              "      <td>tGravityAcc-arCoeff()-Z,2</td>\n",
              "      <td>tGravityAcc-arCoeff()-Z,3</td>\n",
              "      <td>-0.994628</td>\n",
              "      <td>0.994628</td>\n",
              "    </tr>\n",
              "    <tr>\n",
              "      <th>23176</th>\n",
              "      <td>tGravityAcc-mean()-Z</td>\n",
              "      <td>angle(Z,gravityMean)</td>\n",
              "      <td>-0.994764</td>\n",
              "      <td>0.994764</td>\n",
              "    </tr>\n",
              "    <tr>\n",
              "      <th>38252</th>\n",
              "      <td>tGravityAcc-arCoeff()-Z,1</td>\n",
              "      <td>tGravityAcc-arCoeff()-Z,2</td>\n",
              "      <td>-0.995195</td>\n",
              "      <td>0.995195</td>\n",
              "    </tr>\n",
              "  </tbody>\n",
              "</table>\n",
              "<p>22815 rows × 4 columns</p>\n",
              "</div>"
            ],
            "text/plain": [
              "                           feature1  ... abs_correlation\n",
              "156894  fBodyBodyGyroJerkMag-mean()  ...        1.000000\n",
              "93902             tBodyAccMag-sma()  ...        1.000000\n",
              "101139       tBodyAccJerkMag-mean()  ...        1.000000\n",
              "96706         tGravityAccMag-mean()  ...        1.000000\n",
              "94257          tBodyAccMag-energy()  ...        1.000000\n",
              "...                             ...  ...             ...\n",
              "22657          tGravityAcc-mean()-Y  ...        0.993425\n",
              "39225     tGravityAcc-arCoeff()-Z,3  ...        0.994267\n",
              "38739     tGravityAcc-arCoeff()-Z,2  ...        0.994628\n",
              "23176          tGravityAcc-mean()-Z  ...        0.994764\n",
              "38252     tGravityAcc-arCoeff()-Z,1  ...        0.995195\n",
              "\n",
              "[22815 rows x 4 columns]"
            ]
          },
          "metadata": {},
          "execution_count": 5
        }
      ]
    },
    {
      "cell_type": "markdown",
      "metadata": {
        "id": "QGkUJsu5GZ96"
      },
      "source": [
        "## Question 3\n",
        "\n",
        "* Split the data into train and test data sets. This can be done using any method, but consider using Scikit-learn's `StratifiedShuffleSplit` to maintain the same ratio of predictor classes.\n",
        "* Regardless of methods used to split the data, compare the ratio of classes in both the train and test splits.\n"
      ]
    },
    {
      "cell_type": "code",
      "metadata": {
        "collapsed": true,
        "id": "q_t6xZI9GZ96"
      },
      "source": [
        "from sklearn.model_selection import StratifiedShuffleSplit\n",
        "\n",
        "# Get the split indexes\n",
        "strat_shuf_split = StratifiedShuffleSplit(n_splits=1,test_size=0.3, random_state=42) # n_splits: number of splitting iterations in the cross-validator\n",
        "\n",
        "train_idx, test_idx = next(strat_shuf_split.split(data[feature_cols], data.Activity))\n",
        "\n",
        "# Create the dataframes\n",
        "X_train = data.loc[train_idx, feature_cols]\n",
        "y_train = data.loc[train_idx, 'Activity']\n",
        "\n",
        "X_test  = data.loc[test_idx, feature_cols]\n",
        "y_test  = data.loc[test_idx, 'Activity']"
      ],
      "execution_count": 6,
      "outputs": []
    },
    {
      "cell_type": "code",
      "metadata": {
        "colab": {
          "base_uri": "https://localhost:8080/"
        },
        "id": "FXh2e-dFGZ97",
        "outputId": "cfd1d00e-9ee2-4df8-b2cd-466ff9b39604"
      },
      "source": [
        "y_train.value_counts(normalize=True)"
      ],
      "execution_count": 22,
      "outputs": [
        {
          "output_type": "execute_result",
          "data": {
            "text/plain": [
              "0    0.188792\n",
              "2    0.185046\n",
              "1    0.172562\n",
              "3    0.167152\n",
              "5    0.149951\n",
              "4    0.136496\n",
              "Name: Activity, dtype: float64"
            ]
          },
          "metadata": {},
          "execution_count": 22
        }
      ]
    },
    {
      "cell_type": "code",
      "metadata": {
        "colab": {
          "base_uri": "https://localhost:8080/"
        },
        "id": "NNVVVZ54GZ97",
        "outputId": "dc6c61c2-7960-4fd0-86a2-eeb6483513a1"
      },
      "source": [
        "y_test.value_counts(normalize=True)"
      ],
      "execution_count": 23,
      "outputs": [
        {
          "output_type": "execute_result",
          "data": {
            "text/plain": [
              "0    0.188673\n",
              "2    0.185113\n",
              "1    0.172492\n",
              "3    0.167314\n",
              "5    0.149838\n",
              "4    0.136570\n",
              "Name: Activity, dtype: float64"
            ]
          },
          "metadata": {},
          "execution_count": 23
        }
      ]
    },
    {
      "cell_type": "markdown",
      "metadata": {
        "id": "n3qap-2wGZ97"
      },
      "source": [
        "## Question 4\n",
        "\n",
        "* Fit a logistic regression model without any regularization using all of the features. Be sure to read the documentation about fitting a multi-class model so you understand the coefficient output. Store the model.\n",
        "* Using cross validation to determine the hyperparameters, fit models using L1, and L2 regularization. Store each of these models as well. Note the limitations on multi-class models, solvers, and regularizations. The regularized models, in particular the L1 model, will probably take a while to fit."
      ]
    },
    {
      "cell_type": "code",
      "metadata": {
        "collapsed": true,
        "colab": {
          "base_uri": "https://localhost:8080/"
        },
        "id": "cjROTvWoGZ97",
        "outputId": "d22d857e-64b6-43ad-c8e9-34464b6519e7"
      },
      "source": [
        "from sklearn.linear_model import LogisticRegression\n",
        "\n",
        "# Standard logistic regression\n",
        "lr = LogisticRegression().fit(X_train, y_train)"
      ],
      "execution_count": 30,
      "outputs": [
        {
          "output_type": "stream",
          "name": "stderr",
          "text": [
            "/usr/local/lib/python3.7/dist-packages/sklearn/linear_model/_logistic.py:940: ConvergenceWarning: lbfgs failed to converge (status=1):\n",
            "STOP: TOTAL NO. of ITERATIONS REACHED LIMIT.\n",
            "\n",
            "Increase the number of iterations (max_iter) or scale the data as shown in:\n",
            "    https://scikit-learn.org/stable/modules/preprocessing.html\n",
            "Please also refer to the documentation for alternative solver options:\n",
            "    https://scikit-learn.org/stable/modules/linear_model.html#logistic-regression\n",
            "  extra_warning_msg=_LOGISTIC_SOLVER_CONVERGENCE_MSG)\n"
          ]
        }
      ]
    },
    {
      "cell_type": "code",
      "metadata": {
        "collapsed": true,
        "id": "NUPDGUH3GZ97"
      },
      "source": [
        "from sklearn.linear_model import LogisticRegressionCV\n",
        "\n",
        "# L1 regularized logistic regression\n",
        "lr_l1 = LogisticRegressionCV(Cs=10, cv=4, penalty='l1', solver='liblinear').fit(X_train, y_train)"
      ],
      "execution_count": 29,
      "outputs": []
    },
    {
      "cell_type": "code",
      "metadata": {
        "collapsed": true,
        "id": "1A01kpZNGZ98",
        "colab": {
          "base_uri": "https://localhost:8080/"
        },
        "outputId": "4c312fc0-c08e-4047-9f4b-3912348ad7a1"
      },
      "source": [
        "#Try with different solvers like ‘newton-cg’, ‘lbfgs’, ‘sag’, ‘saga’ and give your observations\n",
        "lr_newton = LogisticRegression(solver=\"newton-cg\").fit(X_train, y_train)"
      ],
      "execution_count": 33,
      "outputs": [
        {
          "output_type": "stream",
          "name": "stdout",
          "text": [
            "LogisticRegression(C=1.0, class_weight=None, dual=False, fit_intercept=True,\n",
            "                   intercept_scaling=1, l1_ratio=None, max_iter=100,\n",
            "                   multi_class='auto', n_jobs=None, penalty='l2',\n",
            "                   random_state=None, solver='newton-cg', tol=0.0001, verbose=0,\n",
            "                   warm_start=False)\n"
          ]
        }
      ]
    },
    {
      "cell_type": "code",
      "metadata": {
        "colab": {
          "base_uri": "https://localhost:8080/"
        },
        "id": "kGtI2rVGnYpX",
        "outputId": "e20e4f3f-1de0-48d1-801c-23b48809c41c"
      },
      "source": [
        "lr_sag = LogisticRegression(solver=\"sag\").fit(X_train, y_train)"
      ],
      "execution_count": 36,
      "outputs": [
        {
          "output_type": "stream",
          "name": "stderr",
          "text": [
            "/usr/local/lib/python3.7/dist-packages/sklearn/linear_model/_sag.py:330: ConvergenceWarning: The max_iter was reached which means the coef_ did not converge\n",
            "  \"the coef_ did not converge\", ConvergenceWarning)\n"
          ]
        }
      ]
    },
    {
      "cell_type": "code",
      "metadata": {
        "colab": {
          "base_uri": "https://localhost:8080/"
        },
        "id": "JYTKL6DunbjR",
        "outputId": "f6bfde13-e3c7-40d7-f564-c112d6af71c4"
      },
      "source": [
        "lr_saga = LogisticRegression(solver=\"saga\").fit(X_train, y_train)"
      ],
      "execution_count": 37,
      "outputs": [
        {
          "output_type": "stream",
          "name": "stderr",
          "text": [
            "/usr/local/lib/python3.7/dist-packages/sklearn/linear_model/_sag.py:330: ConvergenceWarning: The max_iter was reached which means the coef_ did not converge\n",
            "  \"the coef_ did not converge\", ConvergenceWarning)\n"
          ]
        }
      ]
    },
    {
      "cell_type": "code",
      "metadata": {
        "collapsed": true,
        "colab": {
          "base_uri": "https://localhost:8080/"
        },
        "id": "KaEqohIZGZ98",
        "outputId": "2363ccf0-4c02-49ac-ce6b-5351bd27e514"
      },
      "source": [
        "# L2 regularized logistic regression\n",
        "lr_l2 = LogisticRegressionCV(Cs=10, cv=4, penalty='l2').fit(X_train, y_train)"
      ],
      "execution_count": 34,
      "outputs": [
        {
          "output_type": "stream",
          "name": "stderr",
          "text": [
            "/usr/local/lib/python3.7/dist-packages/sklearn/linear_model/_logistic.py:940: ConvergenceWarning: lbfgs failed to converge (status=1):\n",
            "STOP: TOTAL NO. of ITERATIONS REACHED LIMIT.\n",
            "\n",
            "Increase the number of iterations (max_iter) or scale the data as shown in:\n",
            "    https://scikit-learn.org/stable/modules/preprocessing.html\n",
            "Please also refer to the documentation for alternative solver options:\n",
            "    https://scikit-learn.org/stable/modules/linear_model.html#logistic-regression\n",
            "  extra_warning_msg=_LOGISTIC_SOLVER_CONVERGENCE_MSG)\n",
            "/usr/local/lib/python3.7/dist-packages/sklearn/linear_model/_logistic.py:940: ConvergenceWarning: lbfgs failed to converge (status=1):\n",
            "STOP: TOTAL NO. of ITERATIONS REACHED LIMIT.\n",
            "\n",
            "Increase the number of iterations (max_iter) or scale the data as shown in:\n",
            "    https://scikit-learn.org/stable/modules/preprocessing.html\n",
            "Please also refer to the documentation for alternative solver options:\n",
            "    https://scikit-learn.org/stable/modules/linear_model.html#logistic-regression\n",
            "  extra_warning_msg=_LOGISTIC_SOLVER_CONVERGENCE_MSG)\n",
            "/usr/local/lib/python3.7/dist-packages/sklearn/linear_model/_logistic.py:940: ConvergenceWarning: lbfgs failed to converge (status=1):\n",
            "STOP: TOTAL NO. of ITERATIONS REACHED LIMIT.\n",
            "\n",
            "Increase the number of iterations (max_iter) or scale the data as shown in:\n",
            "    https://scikit-learn.org/stable/modules/preprocessing.html\n",
            "Please also refer to the documentation for alternative solver options:\n",
            "    https://scikit-learn.org/stable/modules/linear_model.html#logistic-regression\n",
            "  extra_warning_msg=_LOGISTIC_SOLVER_CONVERGENCE_MSG)\n",
            "/usr/local/lib/python3.7/dist-packages/sklearn/linear_model/_logistic.py:940: ConvergenceWarning: lbfgs failed to converge (status=1):\n",
            "STOP: TOTAL NO. of ITERATIONS REACHED LIMIT.\n",
            "\n",
            "Increase the number of iterations (max_iter) or scale the data as shown in:\n",
            "    https://scikit-learn.org/stable/modules/preprocessing.html\n",
            "Please also refer to the documentation for alternative solver options:\n",
            "    https://scikit-learn.org/stable/modules/linear_model.html#logistic-regression\n",
            "  extra_warning_msg=_LOGISTIC_SOLVER_CONVERGENCE_MSG)\n",
            "/usr/local/lib/python3.7/dist-packages/sklearn/linear_model/_logistic.py:940: ConvergenceWarning: lbfgs failed to converge (status=1):\n",
            "STOP: TOTAL NO. of ITERATIONS REACHED LIMIT.\n",
            "\n",
            "Increase the number of iterations (max_iter) or scale the data as shown in:\n",
            "    https://scikit-learn.org/stable/modules/preprocessing.html\n",
            "Please also refer to the documentation for alternative solver options:\n",
            "    https://scikit-learn.org/stable/modules/linear_model.html#logistic-regression\n",
            "  extra_warning_msg=_LOGISTIC_SOLVER_CONVERGENCE_MSG)\n"
          ]
        }
      ]
    },
    {
      "cell_type": "markdown",
      "metadata": {
        "id": "KqZFSFHXGZ98"
      },
      "source": [
        "## Question 5\n",
        "\n",
        "Compare the magnitudes of the coefficients for each of the models. If one-vs-rest fitting was used, each set of coefficients can be plotted separately. "
      ]
    },
    {
      "cell_type": "code",
      "metadata": {
        "colab": {
          "base_uri": "https://localhost:8080/",
          "height": 408
        },
        "id": "CXYbtbwuGZ98",
        "outputId": "f6da4620-17e2-4312-8df6-50ed27e644b9"
      },
      "source": [
        "# Combine all the coefficients into a dataframe\n",
        "coefficients = list()\n",
        "\n",
        "coeff_labels = ['lr', 'l1', 'l2', 'newton', 'sag', 'saga']\n",
        "coeff_models = [lr, lr_l1, lr_l2, lr_newton, lr_sag, lr_saga]\n",
        "\n",
        "for lab,mod in zip(coeff_labels, coeff_models):\n",
        "    coeffs = mod.coef_ # stimated coefficients for the linear regression problem\n",
        "    coeff_label = pd.MultiIndex(levels=[[lab], [0,1,2,3,4,5]], codes=[[0,0,0,0,0,0], [0,1,2,3,4,5]])\n",
        "    coefficients.append(pd.DataFrame(coeffs.T, columns=coeff_label))\n",
        "\n",
        "coefficients = pd.concat(coefficients, axis=1)\n",
        "\n",
        "coefficients.sample(10)"
      ],
      "execution_count": 38,
      "outputs": [
        {
          "output_type": "execute_result",
          "data": {
            "text/html": [
              "<div>\n",
              "<style scoped>\n",
              "    .dataframe tbody tr th:only-of-type {\n",
              "        vertical-align: middle;\n",
              "    }\n",
              "\n",
              "    .dataframe tbody tr th {\n",
              "        vertical-align: top;\n",
              "    }\n",
              "\n",
              "    .dataframe thead tr th {\n",
              "        text-align: left;\n",
              "    }\n",
              "</style>\n",
              "<table border=\"1\" class=\"dataframe\">\n",
              "  <thead>\n",
              "    <tr>\n",
              "      <th></th>\n",
              "      <th colspan=\"6\" halign=\"left\">lr</th>\n",
              "      <th colspan=\"6\" halign=\"left\">l1</th>\n",
              "      <th colspan=\"6\" halign=\"left\">l2</th>\n",
              "      <th colspan=\"6\" halign=\"left\">newton</th>\n",
              "      <th colspan=\"6\" halign=\"left\">sag</th>\n",
              "      <th colspan=\"6\" halign=\"left\">saga</th>\n",
              "    </tr>\n",
              "    <tr>\n",
              "      <th></th>\n",
              "      <th>0</th>\n",
              "      <th>1</th>\n",
              "      <th>2</th>\n",
              "      <th>3</th>\n",
              "      <th>4</th>\n",
              "      <th>5</th>\n",
              "      <th>0</th>\n",
              "      <th>1</th>\n",
              "      <th>2</th>\n",
              "      <th>3</th>\n",
              "      <th>4</th>\n",
              "      <th>5</th>\n",
              "      <th>0</th>\n",
              "      <th>1</th>\n",
              "      <th>2</th>\n",
              "      <th>3</th>\n",
              "      <th>4</th>\n",
              "      <th>5</th>\n",
              "      <th>0</th>\n",
              "      <th>1</th>\n",
              "      <th>2</th>\n",
              "      <th>3</th>\n",
              "      <th>4</th>\n",
              "      <th>5</th>\n",
              "      <th>0</th>\n",
              "      <th>1</th>\n",
              "      <th>2</th>\n",
              "      <th>3</th>\n",
              "      <th>4</th>\n",
              "      <th>5</th>\n",
              "      <th>0</th>\n",
              "      <th>1</th>\n",
              "      <th>2</th>\n",
              "      <th>3</th>\n",
              "      <th>4</th>\n",
              "      <th>5</th>\n",
              "    </tr>\n",
              "  </thead>\n",
              "  <tbody>\n",
              "    <tr>\n",
              "      <th>12</th>\n",
              "      <td>-0.050139</td>\n",
              "      <td>0.130218</td>\n",
              "      <td>0.003747</td>\n",
              "      <td>-0.038857</td>\n",
              "      <td>0.345003</td>\n",
              "      <td>-0.389971</td>\n",
              "      <td>0.00000</td>\n",
              "      <td>0.484399</td>\n",
              "      <td>0.000000</td>\n",
              "      <td>-0.273519</td>\n",
              "      <td>2.742344</td>\n",
              "      <td>-1.676927</td>\n",
              "      <td>-0.080384</td>\n",
              "      <td>1.084818</td>\n",
              "      <td>-0.606670</td>\n",
              "      <td>-0.269484</td>\n",
              "      <td>0.895527</td>\n",
              "      <td>-1.023807</td>\n",
              "      <td>-0.050139</td>\n",
              "      <td>0.130218</td>\n",
              "      <td>0.003747</td>\n",
              "      <td>-0.038857</td>\n",
              "      <td>0.345003</td>\n",
              "      <td>-0.389971</td>\n",
              "      <td>-0.057313</td>\n",
              "      <td>0.113871</td>\n",
              "      <td>0.029713</td>\n",
              "      <td>-0.022405</td>\n",
              "      <td>0.298579</td>\n",
              "      <td>-0.362445</td>\n",
              "      <td>-0.049304</td>\n",
              "      <td>0.093306</td>\n",
              "      <td>0.052888</td>\n",
              "      <td>-0.035409</td>\n",
              "      <td>0.281895</td>\n",
              "      <td>-0.343376</td>\n",
              "    </tr>\n",
              "    <tr>\n",
              "      <th>377</th>\n",
              "      <td>-0.031662</td>\n",
              "      <td>0.247481</td>\n",
              "      <td>-0.276287</td>\n",
              "      <td>0.323880</td>\n",
              "      <td>-0.217836</td>\n",
              "      <td>-0.045575</td>\n",
              "      <td>0.00000</td>\n",
              "      <td>0.000000</td>\n",
              "      <td>0.000000</td>\n",
              "      <td>2.090387</td>\n",
              "      <td>-0.852105</td>\n",
              "      <td>-0.711682</td>\n",
              "      <td>-0.164455</td>\n",
              "      <td>2.100640</td>\n",
              "      <td>-2.045326</td>\n",
              "      <td>0.609201</td>\n",
              "      <td>-0.484524</td>\n",
              "      <td>-0.015537</td>\n",
              "      <td>-0.031662</td>\n",
              "      <td>0.247481</td>\n",
              "      <td>-0.276287</td>\n",
              "      <td>0.323880</td>\n",
              "      <td>-0.217836</td>\n",
              "      <td>-0.045575</td>\n",
              "      <td>-0.034817</td>\n",
              "      <td>0.206985</td>\n",
              "      <td>-0.227484</td>\n",
              "      <td>0.312996</td>\n",
              "      <td>-0.227584</td>\n",
              "      <td>-0.030096</td>\n",
              "      <td>-0.044997</td>\n",
              "      <td>0.199455</td>\n",
              "      <td>-0.188784</td>\n",
              "      <td>0.319042</td>\n",
              "      <td>-0.231245</td>\n",
              "      <td>-0.053472</td>\n",
              "    </tr>\n",
              "    <tr>\n",
              "      <th>520</th>\n",
              "      <td>-0.051674</td>\n",
              "      <td>-0.047850</td>\n",
              "      <td>-0.138665</td>\n",
              "      <td>0.045604</td>\n",
              "      <td>0.155582</td>\n",
              "      <td>0.037003</td>\n",
              "      <td>0.00000</td>\n",
              "      <td>0.000000</td>\n",
              "      <td>0.000000</td>\n",
              "      <td>0.000000</td>\n",
              "      <td>0.317163</td>\n",
              "      <td>0.000000</td>\n",
              "      <td>-0.217061</td>\n",
              "      <td>0.520636</td>\n",
              "      <td>-0.944350</td>\n",
              "      <td>0.154060</td>\n",
              "      <td>0.371500</td>\n",
              "      <td>0.115214</td>\n",
              "      <td>-0.051674</td>\n",
              "      <td>-0.047850</td>\n",
              "      <td>-0.138665</td>\n",
              "      <td>0.045604</td>\n",
              "      <td>0.155582</td>\n",
              "      <td>0.037003</td>\n",
              "      <td>-0.097415</td>\n",
              "      <td>-0.065335</td>\n",
              "      <td>-0.106674</td>\n",
              "      <td>0.055660</td>\n",
              "      <td>0.175600</td>\n",
              "      <td>0.038163</td>\n",
              "      <td>-0.082966</td>\n",
              "      <td>-0.077011</td>\n",
              "      <td>-0.092518</td>\n",
              "      <td>0.037566</td>\n",
              "      <td>0.173248</td>\n",
              "      <td>0.041680</td>\n",
              "    </tr>\n",
              "    <tr>\n",
              "      <th>70</th>\n",
              "      <td>-0.150468</td>\n",
              "      <td>0.021928</td>\n",
              "      <td>0.136706</td>\n",
              "      <td>-0.478251</td>\n",
              "      <td>-0.124029</td>\n",
              "      <td>0.594114</td>\n",
              "      <td>0.00000</td>\n",
              "      <td>0.000000</td>\n",
              "      <td>0.051524</td>\n",
              "      <td>-1.122452</td>\n",
              "      <td>0.000000</td>\n",
              "      <td>2.879580</td>\n",
              "      <td>-0.665458</td>\n",
              "      <td>1.072826</td>\n",
              "      <td>-0.386080</td>\n",
              "      <td>-1.090598</td>\n",
              "      <td>-0.354919</td>\n",
              "      <td>1.424229</td>\n",
              "      <td>-0.150468</td>\n",
              "      <td>0.021928</td>\n",
              "      <td>0.136706</td>\n",
              "      <td>-0.478251</td>\n",
              "      <td>-0.124029</td>\n",
              "      <td>0.594114</td>\n",
              "      <td>-0.172927</td>\n",
              "      <td>0.018582</td>\n",
              "      <td>0.156837</td>\n",
              "      <td>-0.505103</td>\n",
              "      <td>-0.103743</td>\n",
              "      <td>0.606353</td>\n",
              "      <td>-0.126925</td>\n",
              "      <td>-0.006287</td>\n",
              "      <td>0.149342</td>\n",
              "      <td>-0.500332</td>\n",
              "      <td>-0.098503</td>\n",
              "      <td>0.582705</td>\n",
              "    </tr>\n",
              "    <tr>\n",
              "      <th>411</th>\n",
              "      <td>-0.004239</td>\n",
              "      <td>-0.004403</td>\n",
              "      <td>-0.021099</td>\n",
              "      <td>-0.055928</td>\n",
              "      <td>0.268912</td>\n",
              "      <td>-0.183242</td>\n",
              "      <td>0.00000</td>\n",
              "      <td>0.000000</td>\n",
              "      <td>0.000000</td>\n",
              "      <td>-0.033925</td>\n",
              "      <td>0.225691</td>\n",
              "      <td>0.000000</td>\n",
              "      <td>-0.183696</td>\n",
              "      <td>0.143354</td>\n",
              "      <td>0.165197</td>\n",
              "      <td>-0.231001</td>\n",
              "      <td>0.629580</td>\n",
              "      <td>-0.523434</td>\n",
              "      <td>-0.004239</td>\n",
              "      <td>-0.004403</td>\n",
              "      <td>-0.021099</td>\n",
              "      <td>-0.055928</td>\n",
              "      <td>0.268912</td>\n",
              "      <td>-0.183242</td>\n",
              "      <td>-0.045540</td>\n",
              "      <td>0.026778</td>\n",
              "      <td>0.065361</td>\n",
              "      <td>-0.081093</td>\n",
              "      <td>0.243755</td>\n",
              "      <td>-0.209260</td>\n",
              "      <td>-0.042481</td>\n",
              "      <td>0.035650</td>\n",
              "      <td>0.061411</td>\n",
              "      <td>-0.082095</td>\n",
              "      <td>0.230618</td>\n",
              "      <td>-0.203104</td>\n",
              "    </tr>\n",
              "    <tr>\n",
              "      <th>17</th>\n",
              "      <td>0.000106</td>\n",
              "      <td>-0.027100</td>\n",
              "      <td>0.008472</td>\n",
              "      <td>0.041377</td>\n",
              "      <td>-0.025613</td>\n",
              "      <td>0.002758</td>\n",
              "      <td>0.00000</td>\n",
              "      <td>0.000000</td>\n",
              "      <td>0.000000</td>\n",
              "      <td>0.270045</td>\n",
              "      <td>0.047161</td>\n",
              "      <td>0.000000</td>\n",
              "      <td>-0.152821</td>\n",
              "      <td>-0.075305</td>\n",
              "      <td>0.387017</td>\n",
              "      <td>0.098614</td>\n",
              "      <td>-0.172235</td>\n",
              "      <td>-0.085270</td>\n",
              "      <td>0.000106</td>\n",
              "      <td>-0.027100</td>\n",
              "      <td>0.008472</td>\n",
              "      <td>0.041377</td>\n",
              "      <td>-0.025613</td>\n",
              "      <td>0.002758</td>\n",
              "      <td>-0.021052</td>\n",
              "      <td>0.012860</td>\n",
              "      <td>0.072251</td>\n",
              "      <td>0.014918</td>\n",
              "      <td>-0.077610</td>\n",
              "      <td>-0.001367</td>\n",
              "      <td>0.012123</td>\n",
              "      <td>0.016015</td>\n",
              "      <td>0.045647</td>\n",
              "      <td>0.010160</td>\n",
              "      <td>-0.082423</td>\n",
              "      <td>-0.001522</td>\n",
              "    </tr>\n",
              "    <tr>\n",
              "      <th>395</th>\n",
              "      <td>-0.016376</td>\n",
              "      <td>-0.022571</td>\n",
              "      <td>-0.094917</td>\n",
              "      <td>-0.167189</td>\n",
              "      <td>0.322028</td>\n",
              "      <td>-0.020976</td>\n",
              "      <td>-0.06109</td>\n",
              "      <td>0.000000</td>\n",
              "      <td>0.000000</td>\n",
              "      <td>-0.357602</td>\n",
              "      <td>0.348829</td>\n",
              "      <td>0.000000</td>\n",
              "      <td>-0.170368</td>\n",
              "      <td>0.012084</td>\n",
              "      <td>-0.023555</td>\n",
              "      <td>-0.457233</td>\n",
              "      <td>0.684916</td>\n",
              "      <td>-0.045845</td>\n",
              "      <td>-0.016376</td>\n",
              "      <td>-0.022571</td>\n",
              "      <td>-0.094917</td>\n",
              "      <td>-0.167189</td>\n",
              "      <td>0.322028</td>\n",
              "      <td>-0.020976</td>\n",
              "      <td>-0.057474</td>\n",
              "      <td>0.015007</td>\n",
              "      <td>-0.030282</td>\n",
              "      <td>-0.169742</td>\n",
              "      <td>0.269927</td>\n",
              "      <td>-0.027437</td>\n",
              "      <td>-0.053232</td>\n",
              "      <td>0.010156</td>\n",
              "      <td>-0.027142</td>\n",
              "      <td>-0.157353</td>\n",
              "      <td>0.265554</td>\n",
              "      <td>-0.037982</td>\n",
              "    </tr>\n",
              "    <tr>\n",
              "      <th>450</th>\n",
              "      <td>-0.019919</td>\n",
              "      <td>0.012462</td>\n",
              "      <td>-0.016911</td>\n",
              "      <td>0.760401</td>\n",
              "      <td>-0.083155</td>\n",
              "      <td>-0.652878</td>\n",
              "      <td>0.00000</td>\n",
              "      <td>0.000000</td>\n",
              "      <td>0.110041</td>\n",
              "      <td>2.023554</td>\n",
              "      <td>-0.175729</td>\n",
              "      <td>-1.353823</td>\n",
              "      <td>-0.333350</td>\n",
              "      <td>-0.486009</td>\n",
              "      <td>0.865246</td>\n",
              "      <td>1.709199</td>\n",
              "      <td>-0.334406</td>\n",
              "      <td>-1.420680</td>\n",
              "      <td>-0.019919</td>\n",
              "      <td>0.012462</td>\n",
              "      <td>-0.016911</td>\n",
              "      <td>0.760401</td>\n",
              "      <td>-0.083155</td>\n",
              "      <td>-0.652878</td>\n",
              "      <td>-0.030331</td>\n",
              "      <td>0.047042</td>\n",
              "      <td>0.014224</td>\n",
              "      <td>0.755812</td>\n",
              "      <td>-0.126103</td>\n",
              "      <td>-0.660644</td>\n",
              "      <td>-0.004817</td>\n",
              "      <td>0.053119</td>\n",
              "      <td>-0.006109</td>\n",
              "      <td>0.740965</td>\n",
              "      <td>-0.116813</td>\n",
              "      <td>-0.666346</td>\n",
              "    </tr>\n",
              "    <tr>\n",
              "      <th>373</th>\n",
              "      <td>0.033033</td>\n",
              "      <td>-0.369987</td>\n",
              "      <td>0.404025</td>\n",
              "      <td>0.191008</td>\n",
              "      <td>0.010568</td>\n",
              "      <td>-0.268646</td>\n",
              "      <td>0.00000</td>\n",
              "      <td>-1.131010</td>\n",
              "      <td>0.230130</td>\n",
              "      <td>0.724186</td>\n",
              "      <td>0.033949</td>\n",
              "      <td>-0.689774</td>\n",
              "      <td>0.201802</td>\n",
              "      <td>0.146873</td>\n",
              "      <td>0.017421</td>\n",
              "      <td>0.513664</td>\n",
              "      <td>-0.005756</td>\n",
              "      <td>-0.874003</td>\n",
              "      <td>0.033033</td>\n",
              "      <td>-0.369987</td>\n",
              "      <td>0.404025</td>\n",
              "      <td>0.191008</td>\n",
              "      <td>0.010568</td>\n",
              "      <td>-0.268646</td>\n",
              "      <td>0.074526</td>\n",
              "      <td>-0.403319</td>\n",
              "      <td>0.446627</td>\n",
              "      <td>0.168279</td>\n",
              "      <td>-0.016677</td>\n",
              "      <td>-0.269437</td>\n",
              "      <td>0.070731</td>\n",
              "      <td>-0.432400</td>\n",
              "      <td>0.459611</td>\n",
              "      <td>0.136311</td>\n",
              "      <td>-0.011486</td>\n",
              "      <td>-0.222767</td>\n",
              "    </tr>\n",
              "    <tr>\n",
              "      <th>80</th>\n",
              "      <td>0.025305</td>\n",
              "      <td>0.130954</td>\n",
              "      <td>-0.166150</td>\n",
              "      <td>0.064881</td>\n",
              "      <td>0.027315</td>\n",
              "      <td>-0.082305</td>\n",
              "      <td>0.00000</td>\n",
              "      <td>0.000000</td>\n",
              "      <td>0.000000</td>\n",
              "      <td>0.000000</td>\n",
              "      <td>-0.749958</td>\n",
              "      <td>-1.232646</td>\n",
              "      <td>0.047436</td>\n",
              "      <td>1.054017</td>\n",
              "      <td>-1.207203</td>\n",
              "      <td>0.203923</td>\n",
              "      <td>0.027221</td>\n",
              "      <td>-0.125393</td>\n",
              "      <td>0.025305</td>\n",
              "      <td>0.130954</td>\n",
              "      <td>-0.166150</td>\n",
              "      <td>0.064881</td>\n",
              "      <td>0.027315</td>\n",
              "      <td>-0.082305</td>\n",
              "      <td>0.037763</td>\n",
              "      <td>0.106019</td>\n",
              "      <td>-0.141569</td>\n",
              "      <td>0.040055</td>\n",
              "      <td>0.078998</td>\n",
              "      <td>-0.121266</td>\n",
              "      <td>0.037130</td>\n",
              "      <td>0.074812</td>\n",
              "      <td>-0.110327</td>\n",
              "      <td>0.032097</td>\n",
              "      <td>0.064522</td>\n",
              "      <td>-0.098233</td>\n",
              "    </tr>\n",
              "  </tbody>\n",
              "</table>\n",
              "</div>"
            ],
            "text/plain": [
              "           lr                      ...      saga                    \n",
              "            0         1         2  ...         3         4         5\n",
              "12  -0.050139  0.130218  0.003747  ... -0.035409  0.281895 -0.343376\n",
              "377 -0.031662  0.247481 -0.276287  ...  0.319042 -0.231245 -0.053472\n",
              "520 -0.051674 -0.047850 -0.138665  ...  0.037566  0.173248  0.041680\n",
              "70  -0.150468  0.021928  0.136706  ... -0.500332 -0.098503  0.582705\n",
              "411 -0.004239 -0.004403 -0.021099  ... -0.082095  0.230618 -0.203104\n",
              "17   0.000106 -0.027100  0.008472  ...  0.010160 -0.082423 -0.001522\n",
              "395 -0.016376 -0.022571 -0.094917  ... -0.157353  0.265554 -0.037982\n",
              "450 -0.019919  0.012462 -0.016911  ...  0.740965 -0.116813 -0.666346\n",
              "373  0.033033 -0.369987  0.404025  ...  0.136311 -0.011486 -0.222767\n",
              "80   0.025305  0.130954 -0.166150  ...  0.032097  0.064522 -0.098233\n",
              "\n",
              "[10 rows x 36 columns]"
            ]
          },
          "metadata": {},
          "execution_count": 38
        }
      ]
    },
    {
      "cell_type": "markdown",
      "metadata": {
        "id": "pjZhVQoOGZ98"
      },
      "source": [
        "Prepare six separate plots for each of the multi-class coefficients."
      ]
    },
    {
      "cell_type": "code",
      "metadata": {
        "colab": {
          "base_uri": "https://localhost:8080/",
          "height": 712
        },
        "id": "oE1-fjI5GZ98",
        "outputId": "85467bbb-48ee-4849-ac9d-7bde970b7bf5"
      },
      "source": [
        "fig, axList = plt.subplots(nrows=3, ncols=2)\n",
        "axList = axList.flatten()\n",
        "fig.set_size_inches(10,10)\n",
        "\n",
        "\n",
        "for ax in enumerate(axList):\n",
        "    loc = ax[0]\n",
        "    ax = ax[1]\n",
        "    \n",
        "    data = coefficients.xs(loc, level=1, axis=1)\n",
        "    data.plot(marker='o', ls='', ms=1.0, ax=ax, legend=False)\n",
        "    \n",
        "    if ax is axList[0]:\n",
        "        ax.legend(loc=4)\n",
        "        \n",
        "    ax.set(title='Coefficient Set '+str(loc))\n",
        "\n",
        "plt.tight_layout()\n"
      ],
      "execution_count": 39,
      "outputs": [
        {
          "output_type": "display_data",
          "data": {
            "image/png": "[encoded data removed]",
            "text/plain": [
              "<Figure size 720x720 with 6 Axes>"
            ]
          },
          "metadata": {}
        }
      ]
    },
    {
      "cell_type": "markdown",
      "metadata": {
        "id": "PvzJFsDQGZ99"
      },
      "source": [
        "## Question 6\n",
        "\n",
        "* Predict and store the class for each model.\n",
        "* Also store the probability for the predicted class for each model. "
      ]
    },
    {
      "cell_type": "code",
      "metadata": {
        "colab": {
          "base_uri": "https://localhost:8080/",
          "height": 203
        },
        "id": "1Ibmd6KNGZ99",
        "outputId": "c4ea4280-b00c-45e6-f4c8-f2ef623963b8"
      },
      "source": [
        "# Predict the class and the probability for each\n",
        "\n",
        "y_pred = list()\n",
        "y_prob = list()\n",
        "\n",
        "coeff_labels = ['lr', 'l1', 'l2', 'newton', 'sag', 'saga']\n",
        "coeff_models = [lr, lr_l1, lr_l2, lr_newton, lr_sag, lr_saga]\n",
        "\n",
        "for lab,mod in zip(coeff_labels, coeff_models):\n",
        "    y_pred.append(pd.Series(mod.predict(X_test), name=lab))\n",
        "    y_prob.append(pd.Series(mod.predict_proba(X_test).max(axis=1), name=lab))\n",
        "    \n",
        "y_pred = pd.concat(y_pred, axis=1)\n",
        "y_prob = pd.concat(y_prob, axis=1)\n",
        "\n",
        "y_pred.head()\n"
      ],
      "execution_count": 42,
      "outputs": [
        {
          "output_type": "execute_result",
          "data": {
            "text/html": [
              "<div>\n",
              "<style scoped>\n",
              "    .dataframe tbody tr th:only-of-type {\n",
              "        vertical-align: middle;\n",
              "    }\n",
              "\n",
              "    .dataframe tbody tr th {\n",
              "        vertical-align: top;\n",
              "    }\n",
              "\n",
              "    .dataframe thead th {\n",
              "        text-align: right;\n",
              "    }\n",
              "</style>\n",
              "<table border=\"1\" class=\"dataframe\">\n",
              "  <thead>\n",
              "    <tr style=\"text-align: right;\">\n",
              "      <th></th>\n",
              "      <th>lr</th>\n",
              "      <th>l1</th>\n",
              "      <th>l2</th>\n",
              "      <th>newton</th>\n",
              "      <th>sag</th>\n",
              "      <th>saga</th>\n",
              "    </tr>\n",
              "  </thead>\n",
              "  <tbody>\n",
              "    <tr>\n",
              "      <th>0</th>\n",
              "      <td>3</td>\n",
              "      <td>3</td>\n",
              "      <td>3</td>\n",
              "      <td>3</td>\n",
              "      <td>3</td>\n",
              "      <td>3</td>\n",
              "    </tr>\n",
              "    <tr>\n",
              "      <th>1</th>\n",
              "      <td>5</td>\n",
              "      <td>5</td>\n",
              "      <td>5</td>\n",
              "      <td>5</td>\n",
              "      <td>5</td>\n",
              "      <td>5</td>\n",
              "    </tr>\n",
              "    <tr>\n",
              "      <th>2</th>\n",
              "      <td>3</td>\n",
              "      <td>3</td>\n",
              "      <td>3</td>\n",
              "      <td>3</td>\n",
              "      <td>3</td>\n",
              "      <td>3</td>\n",
              "    </tr>\n",
              "    <tr>\n",
              "      <th>3</th>\n",
              "      <td>1</td>\n",
              "      <td>1</td>\n",
              "      <td>1</td>\n",
              "      <td>1</td>\n",
              "      <td>1</td>\n",
              "      <td>1</td>\n",
              "    </tr>\n",
              "    <tr>\n",
              "      <th>4</th>\n",
              "      <td>0</td>\n",
              "      <td>0</td>\n",
              "      <td>0</td>\n",
              "      <td>0</td>\n",
              "      <td>0</td>\n",
              "      <td>0</td>\n",
              "    </tr>\n",
              "  </tbody>\n",
              "</table>\n",
              "</div>"
            ],
            "text/plain": [
              "   lr  l1  l2  newton  sag  saga\n",
              "0   3   3   3       3    3     3\n",
              "1   5   5   5       5    5     5\n",
              "2   3   3   3       3    3     3\n",
              "3   1   1   1       1    1     1\n",
              "4   0   0   0       0    0     0"
            ]
          },
          "metadata": {},
          "execution_count": 42
        }
      ]
    },
    {
      "cell_type": "code",
      "metadata": {
        "colab": {
          "base_uri": "https://localhost:8080/",
          "height": 203
        },
        "id": "Va1QziDtGZ99",
        "outputId": "87dfb4b8-64e1-4f19-8371-3ebd3d6640b1"
      },
      "source": [
        "y_prob.head()"
      ],
      "execution_count": 43,
      "outputs": [
        {
          "output_type": "execute_result",
          "data": {
            "text/html": [
              "<div>\n",
              "<style scoped>\n",
              "    .dataframe tbody tr th:only-of-type {\n",
              "        vertical-align: middle;\n",
              "    }\n",
              "\n",
              "    .dataframe tbody tr th {\n",
              "        vertical-align: top;\n",
              "    }\n",
              "\n",
              "    .dataframe thead th {\n",
              "        text-align: right;\n",
              "    }\n",
              "</style>\n",
              "<table border=\"1\" class=\"dataframe\">\n",
              "  <thead>\n",
              "    <tr style=\"text-align: right;\">\n",
              "      <th></th>\n",
              "      <th>lr</th>\n",
              "      <th>l1</th>\n",
              "      <th>l2</th>\n",
              "      <th>newton</th>\n",
              "      <th>sag</th>\n",
              "      <th>saga</th>\n",
              "    </tr>\n",
              "  </thead>\n",
              "  <tbody>\n",
              "    <tr>\n",
              "      <th>0</th>\n",
              "      <td>0.999987</td>\n",
              "      <td>0.998999</td>\n",
              "      <td>1.000000</td>\n",
              "      <td>0.999987</td>\n",
              "      <td>0.999985</td>\n",
              "      <td>0.999983</td>\n",
              "    </tr>\n",
              "    <tr>\n",
              "      <th>1</th>\n",
              "      <td>0.998361</td>\n",
              "      <td>0.999145</td>\n",
              "      <td>1.000000</td>\n",
              "      <td>0.998361</td>\n",
              "      <td>0.998398</td>\n",
              "      <td>0.997906</td>\n",
              "    </tr>\n",
              "    <tr>\n",
              "      <th>2</th>\n",
              "      <td>0.996546</td>\n",
              "      <td>0.995110</td>\n",
              "      <td>0.999998</td>\n",
              "      <td>0.996546</td>\n",
              "      <td>0.996587</td>\n",
              "      <td>0.996071</td>\n",
              "    </tr>\n",
              "    <tr>\n",
              "      <th>3</th>\n",
              "      <td>0.990812</td>\n",
              "      <td>0.999184</td>\n",
              "      <td>1.000000</td>\n",
              "      <td>0.990812</td>\n",
              "      <td>0.989892</td>\n",
              "      <td>0.987170</td>\n",
              "    </tr>\n",
              "    <tr>\n",
              "      <th>4</th>\n",
              "      <td>0.998089</td>\n",
              "      <td>0.999920</td>\n",
              "      <td>1.000000</td>\n",
              "      <td>0.998089</td>\n",
              "      <td>0.998131</td>\n",
              "      <td>0.997810</td>\n",
              "    </tr>\n",
              "  </tbody>\n",
              "</table>\n",
              "</div>"
            ],
            "text/plain": [
              "         lr        l1        l2    newton       sag      saga\n",
              "0  0.999987  0.998999  1.000000  0.999987  0.999985  0.999983\n",
              "1  0.998361  0.999145  1.000000  0.998361  0.998398  0.997906\n",
              "2  0.996546  0.995110  0.999998  0.996546  0.996587  0.996071\n",
              "3  0.990812  0.999184  1.000000  0.990812  0.989892  0.987170\n",
              "4  0.998089  0.999920  1.000000  0.998089  0.998131  0.997810"
            ]
          },
          "metadata": {},
          "execution_count": 43
        }
      ]
    },
    {
      "cell_type": "markdown",
      "metadata": {
        "id": "ZDdHtIPcGZ99"
      },
      "source": [
        "## Question 7\n",
        "\n",
        "For each model, calculate the following error metrics: \n",
        "\n",
        "* accuracy\n",
        "* precision\n",
        "* recall\n",
        "* fscore\n",
        "* confusion matrix\n",
        "\n",
        "Decide how to combine the multi-class metrics into a single value for each model."
      ]
    },
    {
      "cell_type": "code",
      "metadata": {
        "collapsed": true,
        "id": "kXZORMksGZ99"
      },
      "source": [
        "from sklearn.metrics import precision_recall_fscore_support as score\n",
        "from sklearn.metrics import confusion_matrix, accuracy_score, roc_auc_score\n",
        "from sklearn.preprocessing import label_binarize\n",
        "\n",
        "metrics = list()\n",
        "cm = dict()\n",
        "\n",
        "for lab in coeff_labels:\n",
        "\n",
        "    # Preciision, recall, f-score from the multi-class support function\n",
        "    precision, recall, fscore, _ = score(y_test, y_pred[lab], average='weighted')\n",
        "    \n",
        "    # The usual way to calculate accuracy\n",
        "    accuracy = accuracy_score(y_test, y_pred[lab])\n",
        "    \n",
        "    # ROC-AUC scores can be calculated by binarizing the data\n",
        "    auc = roc_auc_score(label_binarize(y_test, classes=[0,1,2,3,4,5]),\n",
        "              label_binarize(y_pred[lab], classes=[0,1,2,3,4,5]), \n",
        "              average='weighted')\n",
        "    \n",
        "    # Last, the confusion matrix\n",
        "    cm[lab] = confusion_matrix(y_test, y_pred[lab])\n",
        "    \n",
        "    metrics.append(pd.Series({'precision':precision, 'recall':recall, \n",
        "                              'fscore':fscore, 'accuracy':accuracy,\n",
        "                              'auc':auc}, \n",
        "                             name=lab))\n",
        "\n",
        "metrics = pd.concat(metrics, axis=1)\n"
      ],
      "execution_count": 44,
      "outputs": []
    },
    {
      "cell_type": "code",
      "metadata": {
        "colab": {
          "base_uri": "https://localhost:8080/",
          "height": 203
        },
        "id": "ZmTpA217GZ9-",
        "outputId": "1e4404d2-8939-45fd-d57f-075049aa2f1e"
      },
      "source": [
        "#Run the metrics\n",
        "metrics"
      ],
      "execution_count": 45,
      "outputs": [
        {
          "output_type": "execute_result",
          "data": {
            "text/html": [
              "<div>\n",
              "<style scoped>\n",
              "    .dataframe tbody tr th:only-of-type {\n",
              "        vertical-align: middle;\n",
              "    }\n",
              "\n",
              "    .dataframe tbody tr th {\n",
              "        vertical-align: top;\n",
              "    }\n",
              "\n",
              "    .dataframe thead th {\n",
              "        text-align: right;\n",
              "    }\n",
              "</style>\n",
              "<table border=\"1\" class=\"dataframe\">\n",
              "  <thead>\n",
              "    <tr style=\"text-align: right;\">\n",
              "      <th></th>\n",
              "      <th>lr</th>\n",
              "      <th>l1</th>\n",
              "      <th>l2</th>\n",
              "      <th>newton</th>\n",
              "      <th>sag</th>\n",
              "      <th>saga</th>\n",
              "    </tr>\n",
              "  </thead>\n",
              "  <tbody>\n",
              "    <tr>\n",
              "      <th>precision</th>\n",
              "      <td>0.983811</td>\n",
              "      <td>0.984153</td>\n",
              "      <td>0.986090</td>\n",
              "      <td>0.983811</td>\n",
              "      <td>0.984133</td>\n",
              "      <td>0.982518</td>\n",
              "    </tr>\n",
              "    <tr>\n",
              "      <th>recall</th>\n",
              "      <td>0.983819</td>\n",
              "      <td>0.984142</td>\n",
              "      <td>0.986084</td>\n",
              "      <td>0.983819</td>\n",
              "      <td>0.984142</td>\n",
              "      <td>0.982524</td>\n",
              "    </tr>\n",
              "    <tr>\n",
              "      <th>fscore</th>\n",
              "      <td>0.983811</td>\n",
              "      <td>0.984140</td>\n",
              "      <td>0.986085</td>\n",
              "      <td>0.983811</td>\n",
              "      <td>0.984136</td>\n",
              "      <td>0.982519</td>\n",
              "    </tr>\n",
              "    <tr>\n",
              "      <th>accuracy</th>\n",
              "      <td>0.983819</td>\n",
              "      <td>0.984142</td>\n",
              "      <td>0.986084</td>\n",
              "      <td>0.983819</td>\n",
              "      <td>0.984142</td>\n",
              "      <td>0.982524</td>\n",
              "    </tr>\n",
              "    <tr>\n",
              "      <th>auc</th>\n",
              "      <td>0.990184</td>\n",
              "      <td>0.990342</td>\n",
              "      <td>0.991545</td>\n",
              "      <td>0.990184</td>\n",
              "      <td>0.990393</td>\n",
              "      <td>0.989421</td>\n",
              "    </tr>\n",
              "  </tbody>\n",
              "</table>\n",
              "</div>"
            ],
            "text/plain": [
              "                 lr        l1        l2    newton       sag      saga\n",
              "precision  0.983811  0.984153  0.986090  0.983811  0.984133  0.982518\n",
              "recall     0.983819  0.984142  0.986084  0.983819  0.984142  0.982524\n",
              "fscore     0.983811  0.984140  0.986085  0.983811  0.984136  0.982519\n",
              "accuracy   0.983819  0.984142  0.986084  0.983819  0.984142  0.982524\n",
              "auc        0.990184  0.990342  0.991545  0.990184  0.990393  0.989421"
            ]
          },
          "metadata": {},
          "execution_count": 45
        }
      ]
    },
    {
      "cell_type": "markdown",
      "metadata": {
        "id": "hP8nzloJGZ9-"
      },
      "source": [
        "## Question 8\n",
        "\n",
        "Display or plot the confusion matrix for each model."
      ]
    },
    {
      "cell_type": "code",
      "metadata": {
        "colab": {
          "base_uri": "https://localhost:8080/",
          "height": 712
        },
        "id": "DeATsNKLGZ9-",
        "outputId": "904f5671-7e2f-48a8-f381-08e6d557ca36"
      },
      "source": [
        "\n",
        "fig, axList = plt.subplots(nrows=2, ncols=2)\n",
        "axList = axList.flatten()\n",
        "fig.set_size_inches(12, 10)\n",
        "\n",
        "axList[-1].axis('off')\n",
        "\n",
        "for ax,lab in zip(axList[:-1], coeff_labels):\n",
        "    sns.heatmap(cm[lab], ax=ax, annot=True, fmt='d');\n",
        "    ax.set(title=lab);\n",
        "    \n",
        "plt.tight_layout()\n"
      ],
      "execution_count": 46,
      "outputs": [
        {
          "output_type": "display_data",
          "data": {
            "image/png": "[encoded data removed]",
            "text/plain": [
              "<Figure size 864x720 with 7 Axes>"
            ]
          },
          "metadata": {}
        }
      ]
    },
    {
      "cell_type": "markdown",
      "metadata": {
        "collapsed": true,
        "id": "5FbtbOhbGZ9-"
      },
      "source": [
        "## Question 9\n",
        " Identify highly correlated columns and drop those columns before building models"
      ]
    },
    {
      "cell_type": "code",
      "metadata": {
        "collapsed": true,
        "id": "cprDJ9_tGZ9-"
      },
      "source": [
        "from sklearn.feature_selection import SelectKBest\n",
        "from sklearn.feature_selection import chi2\n",
        "from sklearn.feature_selection import VarianceThreshold\n",
        "\n",
        "#threshold with .7\n",
        "\n",
        "sel = VarianceThreshold(threshold=(.7 * (1 - .7)))\n",
        "\n",
        "\n",
        "data2 = pd.concat([X_train,X_test])\n",
        "data_new = pd.DataFrame(sel.fit_transform(data2))\n",
        "\n",
        "data_y = pd.concat([y_train,y_test])\n",
        "\n",
        "from sklearn.model_selection import train_test_split\n",
        "\n",
        "X_new,X_test_new = train_test_split(data_new)\n",
        "Y_new,Y_test_new = train_test_split(data_y)"
      ],
      "execution_count": 7,
      "outputs": []
    },
    {
      "cell_type": "markdown",
      "metadata": {
        "id": "n3DjzeTyGZ9_"
      },
      "source": [
        " Repeat Model building with new training data after removing higly correlated columns"
      ]
    },
    {
      "cell_type": "code",
      "metadata": {
        "collapsed": true,
        "id": "4kBmQNwsGZ9_",
        "colab": {
          "base_uri": "https://localhost:8080/"
        },
        "outputId": "0aeececb-aefa-49ff-d46d-354ff58db2a9"
      },
      "source": [
        "from sklearn.linear_model import LogisticRegression\n",
        "new_lr = LogisticRegression().fit(X_new, Y_new)"
      ],
      "execution_count": 9,
      "outputs": [
        {
          "output_type": "stream",
          "name": "stderr",
          "text": [
            "/usr/local/lib/python3.7/dist-packages/sklearn/linear_model/_logistic.py:940: ConvergenceWarning: lbfgs failed to converge (status=1):\n",
            "STOP: TOTAL NO. of ITERATIONS REACHED LIMIT.\n",
            "\n",
            "Increase the number of iterations (max_iter) or scale the data as shown in:\n",
            "    https://scikit-learn.org/stable/modules/preprocessing.html\n",
            "Please also refer to the documentation for alternative solver options:\n",
            "    https://scikit-learn.org/stable/modules/linear_model.html#logistic-regression\n",
            "  extra_warning_msg=_LOGISTIC_SOLVER_CONVERGENCE_MSG)\n"
          ]
        }
      ]
    },
    {
      "cell_type": "code",
      "metadata": {
        "id": "ycyBed-G5Ac9"
      },
      "source": [
        "from sklearn.linear_model import LogisticRegressionCV\n",
        "new_lr_l1 = LogisticRegressionCV(Cs=10, cv=4, penalty='l1', solver='liblinear').fit(X_new, Y_new)"
      ],
      "execution_count": 10,
      "outputs": []
    },
    {
      "cell_type": "code",
      "metadata": {
        "colab": {
          "base_uri": "https://localhost:8080/"
        },
        "id": "EHiaPHuV5AHn",
        "outputId": "b73bb411-2f43-480c-8980-e48f8b0f216f"
      },
      "source": [
        "new_lr_l2 = LogisticRegressionCV(Cs=10, cv=4, penalty='l2').fit(X_new, Y_new)"
      ],
      "execution_count": 11,
      "outputs": [
        {
          "output_type": "stream",
          "name": "stderr",
          "text": [
            "/usr/local/lib/python3.7/dist-packages/sklearn/linear_model/_logistic.py:940: ConvergenceWarning: lbfgs failed to converge (status=1):\n",
            "STOP: TOTAL NO. of ITERATIONS REACHED LIMIT.\n",
            "\n",
            "Increase the number of iterations (max_iter) or scale the data as shown in:\n",
            "    https://scikit-learn.org/stable/modules/preprocessing.html\n",
            "Please also refer to the documentation for alternative solver options:\n",
            "    https://scikit-learn.org/stable/modules/linear_model.html#logistic-regression\n",
            "  extra_warning_msg=_LOGISTIC_SOLVER_CONVERGENCE_MSG)\n",
            "/usr/local/lib/python3.7/dist-packages/sklearn/linear_model/_logistic.py:940: ConvergenceWarning: lbfgs failed to converge (status=1):\n",
            "STOP: TOTAL NO. of ITERATIONS REACHED LIMIT.\n",
            "\n",
            "Increase the number of iterations (max_iter) or scale the data as shown in:\n",
            "    https://scikit-learn.org/stable/modules/preprocessing.html\n",
            "Please also refer to the documentation for alternative solver options:\n",
            "    https://scikit-learn.org/stable/modules/linear_model.html#logistic-regression\n",
            "  extra_warning_msg=_LOGISTIC_SOLVER_CONVERGENCE_MSG)\n",
            "/usr/local/lib/python3.7/dist-packages/sklearn/linear_model/_logistic.py:940: ConvergenceWarning: lbfgs failed to converge (status=1):\n",
            "STOP: TOTAL NO. of ITERATIONS REACHED LIMIT.\n",
            "\n",
            "Increase the number of iterations (max_iter) or scale the data as shown in:\n",
            "    https://scikit-learn.org/stable/modules/preprocessing.html\n",
            "Please also refer to the documentation for alternative solver options:\n",
            "    https://scikit-learn.org/stable/modules/linear_model.html#logistic-regression\n",
            "  extra_warning_msg=_LOGISTIC_SOLVER_CONVERGENCE_MSG)\n",
            "/usr/local/lib/python3.7/dist-packages/sklearn/linear_model/_logistic.py:940: ConvergenceWarning: lbfgs failed to converge (status=1):\n",
            "STOP: TOTAL NO. of ITERATIONS REACHED LIMIT.\n",
            "\n",
            "Increase the number of iterations (max_iter) or scale the data as shown in:\n",
            "    https://scikit-learn.org/stable/modules/preprocessing.html\n",
            "Please also refer to the documentation for alternative solver options:\n",
            "    https://scikit-learn.org/stable/modules/linear_model.html#logistic-regression\n",
            "  extra_warning_msg=_LOGISTIC_SOLVER_CONVERGENCE_MSG)\n"
          ]
        }
      ]
    },
    {
      "cell_type": "code",
      "metadata": {
        "colab": {
          "base_uri": "https://localhost:8080/"
        },
        "id": "4NJioHvX5mRE",
        "outputId": "6ddf1cd2-6ba5-4948-dc0a-a263a8ccb39f"
      },
      "source": [
        "#Try with different solvers like ‘newton-cg’, ‘lbfgs’, ‘sag’, ‘saga’ and give your observations\n",
        "# The default is 'lbfgs'. So, I didn't create a test for this solver because we calculate it with \"new_lr\"\n",
        "new_lr_newton = LogisticRegression(solver=\"newton-cg\").fit(X_new, Y_new)\n",
        "\n",
        "new_lr_sag = LogisticRegression(solver=\"sag\").fit(X_new, Y_new)\n",
        "\n",
        "new_lr_saga = LogisticRegression(solver=\"saga\").fit(X_new, Y_new)"
      ],
      "execution_count": 13,
      "outputs": [
        {
          "output_type": "stream",
          "name": "stderr",
          "text": [
            "/usr/local/lib/python3.7/dist-packages/sklearn/linear_model/_sag.py:330: ConvergenceWarning: The max_iter was reached which means the coef_ did not converge\n",
            "  \"the coef_ did not converge\", ConvergenceWarning)\n"
          ]
        }
      ]
    },
    {
      "cell_type": "markdown",
      "metadata": {
        "id": "1p1WuAWgGZ9_"
      },
      "source": [
        "## Question 10\n",
        "\n",
        "Compare the magnitudes of the coefficients for each of the models. If one-vs-rest fitting was used, each set of coefficients can be plotted separately. "
      ]
    },
    {
      "cell_type": "code",
      "metadata": {
        "collapsed": true,
        "id": "0WNNBR9jGZ9_",
        "colab": {
          "base_uri": "https://localhost:8080/",
          "height": 408
        },
        "outputId": "556d9a5a-8988-470a-b194-23db4f7e2eec"
      },
      "source": [
        "# Combine all the coefficients into a dataframe\n",
        "coefficients = list()\n",
        "\n",
        "coeff_labels = ['lr', 'l1', 'l2', 'newton', 'sag', 'saga']\n",
        "coeff_models = [new_lr, new_lr_l1, new_lr_l2, new_lr_newton, new_lr_sag, new_lr_saga]\n",
        "\n",
        "for lab,mod in zip(coeff_labels, coeff_models):\n",
        "    coeffs = mod.coef_ # stimated coefficients for the linear regression problem\n",
        "    coeff_label = pd.MultiIndex(levels=[[lab], [0,1,2,3,4,5]], codes=[[0,0,0,0,0,0], [0,1,2,3,4,5]])\n",
        "    coefficients.append(pd.DataFrame(coeffs.T, columns=coeff_label))\n",
        "\n",
        "coefficients = pd.concat(coefficients, axis=1)\n",
        "\n",
        "coefficients.sample(10)"
      ],
      "execution_count": 14,
      "outputs": [
        {
          "output_type": "execute_result",
          "data": {
            "text/html": [
              "<div>\n",
              "<style scoped>\n",
              "    .dataframe tbody tr th:only-of-type {\n",
              "        vertical-align: middle;\n",
              "    }\n",
              "\n",
              "    .dataframe tbody tr th {\n",
              "        vertical-align: top;\n",
              "    }\n",
              "\n",
              "    .dataframe thead tr th {\n",
              "        text-align: left;\n",
              "    }\n",
              "</style>\n",
              "<table border=\"1\" class=\"dataframe\">\n",
              "  <thead>\n",
              "    <tr>\n",
              "      <th></th>\n",
              "      <th colspan=\"6\" halign=\"left\">lr</th>\n",
              "      <th colspan=\"6\" halign=\"left\">l1</th>\n",
              "      <th colspan=\"6\" halign=\"left\">l2</th>\n",
              "      <th colspan=\"6\" halign=\"left\">newton</th>\n",
              "      <th colspan=\"6\" halign=\"left\">sag</th>\n",
              "      <th colspan=\"6\" halign=\"left\">saga</th>\n",
              "    </tr>\n",
              "    <tr>\n",
              "      <th></th>\n",
              "      <th>0</th>\n",
              "      <th>1</th>\n",
              "      <th>2</th>\n",
              "      <th>3</th>\n",
              "      <th>4</th>\n",
              "      <th>5</th>\n",
              "      <th>0</th>\n",
              "      <th>1</th>\n",
              "      <th>2</th>\n",
              "      <th>3</th>\n",
              "      <th>4</th>\n",
              "      <th>5</th>\n",
              "      <th>0</th>\n",
              "      <th>1</th>\n",
              "      <th>2</th>\n",
              "      <th>3</th>\n",
              "      <th>4</th>\n",
              "      <th>5</th>\n",
              "      <th>0</th>\n",
              "      <th>1</th>\n",
              "      <th>2</th>\n",
              "      <th>3</th>\n",
              "      <th>4</th>\n",
              "      <th>5</th>\n",
              "      <th>0</th>\n",
              "      <th>1</th>\n",
              "      <th>2</th>\n",
              "      <th>3</th>\n",
              "      <th>4</th>\n",
              "      <th>5</th>\n",
              "      <th>0</th>\n",
              "      <th>1</th>\n",
              "      <th>2</th>\n",
              "      <th>3</th>\n",
              "      <th>4</th>\n",
              "      <th>5</th>\n",
              "    </tr>\n",
              "  </thead>\n",
              "  <tbody>\n",
              "    <tr>\n",
              "      <th>47</th>\n",
              "      <td>0.014326</td>\n",
              "      <td>-0.032938</td>\n",
              "      <td>0.011557</td>\n",
              "      <td>0.034505</td>\n",
              "      <td>-0.008874</td>\n",
              "      <td>-0.018576</td>\n",
              "      <td>0.0</td>\n",
              "      <td>0.0</td>\n",
              "      <td>0.0</td>\n",
              "      <td>0.0</td>\n",
              "      <td>0.0</td>\n",
              "      <td>0.0</td>\n",
              "      <td>0.014560</td>\n",
              "      <td>-0.030191</td>\n",
              "      <td>0.010890</td>\n",
              "      <td>0.033347</td>\n",
              "      <td>-0.012121</td>\n",
              "      <td>-0.016486</td>\n",
              "      <td>0.016959</td>\n",
              "      <td>-0.032613</td>\n",
              "      <td>0.013072</td>\n",
              "      <td>0.032632</td>\n",
              "      <td>-0.010870</td>\n",
              "      <td>-0.019181</td>\n",
              "      <td>0.016959</td>\n",
              "      <td>-0.032613</td>\n",
              "      <td>0.013072</td>\n",
              "      <td>0.032632</td>\n",
              "      <td>-0.010870</td>\n",
              "      <td>-0.019181</td>\n",
              "      <td>0.016957</td>\n",
              "      <td>-0.032612</td>\n",
              "      <td>0.013072</td>\n",
              "      <td>0.032633</td>\n",
              "      <td>-0.010871</td>\n",
              "      <td>-0.019181</td>\n",
              "    </tr>\n",
              "    <tr>\n",
              "      <th>3</th>\n",
              "      <td>0.072496</td>\n",
              "      <td>0.102868</td>\n",
              "      <td>-0.154758</td>\n",
              "      <td>-0.102757</td>\n",
              "      <td>0.173396</td>\n",
              "      <td>-0.091245</td>\n",
              "      <td>0.0</td>\n",
              "      <td>0.0</td>\n",
              "      <td>0.0</td>\n",
              "      <td>0.0</td>\n",
              "      <td>0.0</td>\n",
              "      <td>0.0</td>\n",
              "      <td>0.040967</td>\n",
              "      <td>0.023449</td>\n",
              "      <td>-0.050029</td>\n",
              "      <td>-0.043445</td>\n",
              "      <td>0.021419</td>\n",
              "      <td>0.007640</td>\n",
              "      <td>0.294356</td>\n",
              "      <td>0.205618</td>\n",
              "      <td>-0.390884</td>\n",
              "      <td>-0.277361</td>\n",
              "      <td>0.383188</td>\n",
              "      <td>-0.214917</td>\n",
              "      <td>0.293777</td>\n",
              "      <td>0.205716</td>\n",
              "      <td>-0.390497</td>\n",
              "      <td>-0.276870</td>\n",
              "      <td>0.382522</td>\n",
              "      <td>-0.214649</td>\n",
              "      <td>0.292121</td>\n",
              "      <td>0.205261</td>\n",
              "      <td>-0.388675</td>\n",
              "      <td>-0.274596</td>\n",
              "      <td>0.379411</td>\n",
              "      <td>-0.213522</td>\n",
              "    </tr>\n",
              "    <tr>\n",
              "      <th>36</th>\n",
              "      <td>0.038781</td>\n",
              "      <td>0.194473</td>\n",
              "      <td>0.161736</td>\n",
              "      <td>0.022674</td>\n",
              "      <td>-0.076272</td>\n",
              "      <td>-0.341394</td>\n",
              "      <td>0.0</td>\n",
              "      <td>0.0</td>\n",
              "      <td>0.0</td>\n",
              "      <td>0.0</td>\n",
              "      <td>0.0</td>\n",
              "      <td>0.0</td>\n",
              "      <td>-0.067249</td>\n",
              "      <td>0.104629</td>\n",
              "      <td>0.020799</td>\n",
              "      <td>0.004292</td>\n",
              "      <td>0.038068</td>\n",
              "      <td>-0.100539</td>\n",
              "      <td>-0.016158</td>\n",
              "      <td>0.165007</td>\n",
              "      <td>0.122660</td>\n",
              "      <td>0.054816</td>\n",
              "      <td>-0.048224</td>\n",
              "      <td>-0.278101</td>\n",
              "      <td>-0.016175</td>\n",
              "      <td>0.165008</td>\n",
              "      <td>0.122675</td>\n",
              "      <td>0.054833</td>\n",
              "      <td>-0.048253</td>\n",
              "      <td>-0.278088</td>\n",
              "      <td>-0.016222</td>\n",
              "      <td>0.165019</td>\n",
              "      <td>0.122733</td>\n",
              "      <td>0.054927</td>\n",
              "      <td>-0.048412</td>\n",
              "      <td>-0.278045</td>\n",
              "    </tr>\n",
              "    <tr>\n",
              "      <th>33</th>\n",
              "      <td>-0.264810</td>\n",
              "      <td>1.000158</td>\n",
              "      <td>-0.095905</td>\n",
              "      <td>-0.173004</td>\n",
              "      <td>-0.391162</td>\n",
              "      <td>-0.075276</td>\n",
              "      <td>0.0</td>\n",
              "      <td>0.0</td>\n",
              "      <td>0.0</td>\n",
              "      <td>0.0</td>\n",
              "      <td>0.0</td>\n",
              "      <td>0.0</td>\n",
              "      <td>-0.100868</td>\n",
              "      <td>0.207261</td>\n",
              "      <td>0.003340</td>\n",
              "      <td>-0.014939</td>\n",
              "      <td>-0.051574</td>\n",
              "      <td>-0.043220</td>\n",
              "      <td>-0.264444</td>\n",
              "      <td>1.001164</td>\n",
              "      <td>-0.146646</td>\n",
              "      <td>-0.095955</td>\n",
              "      <td>-0.479084</td>\n",
              "      <td>-0.015036</td>\n",
              "      <td>-0.264464</td>\n",
              "      <td>1.001181</td>\n",
              "      <td>-0.146645</td>\n",
              "      <td>-0.095942</td>\n",
              "      <td>-0.479087</td>\n",
              "      <td>-0.015043</td>\n",
              "      <td>-0.264534</td>\n",
              "      <td>1.001186</td>\n",
              "      <td>-0.146611</td>\n",
              "      <td>-0.095922</td>\n",
              "      <td>-0.479067</td>\n",
              "      <td>-0.015052</td>\n",
              "    </tr>\n",
              "    <tr>\n",
              "      <th>29</th>\n",
              "      <td>0.061836</td>\n",
              "      <td>-0.178680</td>\n",
              "      <td>0.130582</td>\n",
              "      <td>0.118288</td>\n",
              "      <td>0.001884</td>\n",
              "      <td>-0.133911</td>\n",
              "      <td>0.0</td>\n",
              "      <td>0.0</td>\n",
              "      <td>0.0</td>\n",
              "      <td>0.0</td>\n",
              "      <td>0.0</td>\n",
              "      <td>0.0</td>\n",
              "      <td>0.016761</td>\n",
              "      <td>-0.041998</td>\n",
              "      <td>0.047646</td>\n",
              "      <td>0.019904</td>\n",
              "      <td>-0.000229</td>\n",
              "      <td>-0.042085</td>\n",
              "      <td>0.140640</td>\n",
              "      <td>-0.449987</td>\n",
              "      <td>0.159385</td>\n",
              "      <td>0.138679</td>\n",
              "      <td>0.167604</td>\n",
              "      <td>-0.156321</td>\n",
              "      <td>0.140469</td>\n",
              "      <td>-0.450068</td>\n",
              "      <td>0.159511</td>\n",
              "      <td>0.138805</td>\n",
              "      <td>0.167525</td>\n",
              "      <td>-0.156242</td>\n",
              "      <td>0.140071</td>\n",
              "      <td>-0.450155</td>\n",
              "      <td>0.159851</td>\n",
              "      <td>0.139285</td>\n",
              "      <td>0.167097</td>\n",
              "      <td>-0.156149</td>\n",
              "    </tr>\n",
              "    <tr>\n",
              "      <th>41</th>\n",
              "      <td>0.162075</td>\n",
              "      <td>0.084360</td>\n",
              "      <td>-0.220266</td>\n",
              "      <td>0.066578</td>\n",
              "      <td>0.231216</td>\n",
              "      <td>-0.323964</td>\n",
              "      <td>0.0</td>\n",
              "      <td>0.0</td>\n",
              "      <td>0.0</td>\n",
              "      <td>0.0</td>\n",
              "      <td>0.0</td>\n",
              "      <td>0.0</td>\n",
              "      <td>0.036715</td>\n",
              "      <td>0.089071</td>\n",
              "      <td>-0.095983</td>\n",
              "      <td>0.031336</td>\n",
              "      <td>0.040841</td>\n",
              "      <td>-0.101981</td>\n",
              "      <td>0.133782</td>\n",
              "      <td>0.067023</td>\n",
              "      <td>-0.194835</td>\n",
              "      <td>0.084947</td>\n",
              "      <td>0.244315</td>\n",
              "      <td>-0.335231</td>\n",
              "      <td>0.133793</td>\n",
              "      <td>0.067022</td>\n",
              "      <td>-0.194842</td>\n",
              "      <td>0.084937</td>\n",
              "      <td>0.244326</td>\n",
              "      <td>-0.335237</td>\n",
              "      <td>0.133828</td>\n",
              "      <td>0.067028</td>\n",
              "      <td>-0.194873</td>\n",
              "      <td>0.084891</td>\n",
              "      <td>0.244382</td>\n",
              "      <td>-0.335256</td>\n",
              "    </tr>\n",
              "    <tr>\n",
              "      <th>23</th>\n",
              "      <td>0.067588</td>\n",
              "      <td>0.132297</td>\n",
              "      <td>0.312838</td>\n",
              "      <td>-0.138171</td>\n",
              "      <td>-0.316801</td>\n",
              "      <td>-0.057750</td>\n",
              "      <td>0.0</td>\n",
              "      <td>0.0</td>\n",
              "      <td>0.0</td>\n",
              "      <td>0.0</td>\n",
              "      <td>0.0</td>\n",
              "      <td>0.0</td>\n",
              "      <td>0.006011</td>\n",
              "      <td>0.077038</td>\n",
              "      <td>0.074197</td>\n",
              "      <td>-0.047483</td>\n",
              "      <td>-0.081320</td>\n",
              "      <td>-0.028442</td>\n",
              "      <td>0.079725</td>\n",
              "      <td>0.111891</td>\n",
              "      <td>0.245494</td>\n",
              "      <td>-0.069706</td>\n",
              "      <td>-0.328944</td>\n",
              "      <td>-0.038460</td>\n",
              "      <td>0.079740</td>\n",
              "      <td>0.111884</td>\n",
              "      <td>0.245481</td>\n",
              "      <td>-0.069723</td>\n",
              "      <td>-0.328913</td>\n",
              "      <td>-0.038470</td>\n",
              "      <td>0.079789</td>\n",
              "      <td>0.111877</td>\n",
              "      <td>0.245436</td>\n",
              "      <td>-0.069851</td>\n",
              "      <td>-0.328741</td>\n",
              "      <td>-0.038511</td>\n",
              "    </tr>\n",
              "    <tr>\n",
              "      <th>27</th>\n",
              "      <td>-0.130493</td>\n",
              "      <td>0.106775</td>\n",
              "      <td>0.094997</td>\n",
              "      <td>0.124633</td>\n",
              "      <td>-0.010529</td>\n",
              "      <td>-0.185384</td>\n",
              "      <td>0.0</td>\n",
              "      <td>0.0</td>\n",
              "      <td>0.0</td>\n",
              "      <td>0.0</td>\n",
              "      <td>0.0</td>\n",
              "      <td>0.0</td>\n",
              "      <td>-0.108927</td>\n",
              "      <td>0.029880</td>\n",
              "      <td>0.083349</td>\n",
              "      <td>0.077430</td>\n",
              "      <td>0.002537</td>\n",
              "      <td>-0.084270</td>\n",
              "      <td>-0.113759</td>\n",
              "      <td>0.114367</td>\n",
              "      <td>0.087268</td>\n",
              "      <td>0.095425</td>\n",
              "      <td>-0.016682</td>\n",
              "      <td>-0.166618</td>\n",
              "      <td>-0.113766</td>\n",
              "      <td>0.114368</td>\n",
              "      <td>0.087271</td>\n",
              "      <td>0.095431</td>\n",
              "      <td>-0.016688</td>\n",
              "      <td>-0.166616</td>\n",
              "      <td>-0.113787</td>\n",
              "      <td>0.114361</td>\n",
              "      <td>0.087288</td>\n",
              "      <td>0.095461</td>\n",
              "      <td>-0.016718</td>\n",
              "      <td>-0.166605</td>\n",
              "    </tr>\n",
              "    <tr>\n",
              "      <th>0</th>\n",
              "      <td>0.229982</td>\n",
              "      <td>-0.094482</td>\n",
              "      <td>0.044814</td>\n",
              "      <td>-0.169990</td>\n",
              "      <td>0.022948</td>\n",
              "      <td>-0.033272</td>\n",
              "      <td>0.0</td>\n",
              "      <td>0.0</td>\n",
              "      <td>0.0</td>\n",
              "      <td>0.0</td>\n",
              "      <td>0.0</td>\n",
              "      <td>0.0</td>\n",
              "      <td>0.091298</td>\n",
              "      <td>-0.044057</td>\n",
              "      <td>0.020878</td>\n",
              "      <td>-0.041406</td>\n",
              "      <td>-0.012301</td>\n",
              "      <td>-0.014412</td>\n",
              "      <td>0.304304</td>\n",
              "      <td>-0.223225</td>\n",
              "      <td>0.085032</td>\n",
              "      <td>-0.313653</td>\n",
              "      <td>0.218400</td>\n",
              "      <td>-0.070859</td>\n",
              "      <td>0.304573</td>\n",
              "      <td>-0.222911</td>\n",
              "      <td>0.084822</td>\n",
              "      <td>-0.313766</td>\n",
              "      <td>0.218241</td>\n",
              "      <td>-0.070960</td>\n",
              "      <td>0.304826</td>\n",
              "      <td>-0.222179</td>\n",
              "      <td>0.084437</td>\n",
              "      <td>-0.313528</td>\n",
              "      <td>0.217301</td>\n",
              "      <td>-0.070856</td>\n",
              "    </tr>\n",
              "    <tr>\n",
              "      <th>11</th>\n",
              "      <td>0.027595</td>\n",
              "      <td>-0.009162</td>\n",
              "      <td>-0.036530</td>\n",
              "      <td>-0.055758</td>\n",
              "      <td>0.030438</td>\n",
              "      <td>0.043417</td>\n",
              "      <td>0.0</td>\n",
              "      <td>0.0</td>\n",
              "      <td>0.0</td>\n",
              "      <td>0.0</td>\n",
              "      <td>0.0</td>\n",
              "      <td>0.0</td>\n",
              "      <td>0.018572</td>\n",
              "      <td>-0.001991</td>\n",
              "      <td>-0.032939</td>\n",
              "      <td>-0.048881</td>\n",
              "      <td>0.028765</td>\n",
              "      <td>0.036473</td>\n",
              "      <td>0.029182</td>\n",
              "      <td>-0.007457</td>\n",
              "      <td>-0.038932</td>\n",
              "      <td>-0.055507</td>\n",
              "      <td>0.028044</td>\n",
              "      <td>0.044671</td>\n",
              "      <td>0.029181</td>\n",
              "      <td>-0.007457</td>\n",
              "      <td>-0.038932</td>\n",
              "      <td>-0.055507</td>\n",
              "      <td>0.028043</td>\n",
              "      <td>0.044671</td>\n",
              "      <td>0.029179</td>\n",
              "      <td>-0.007457</td>\n",
              "      <td>-0.038931</td>\n",
              "      <td>-0.055504</td>\n",
              "      <td>0.028041</td>\n",
              "      <td>0.044671</td>\n",
              "    </tr>\n",
              "  </tbody>\n",
              "</table>\n",
              "</div>"
            ],
            "text/plain": [
              "          lr                      ...      saga                    \n",
              "           0         1         2  ...         3         4         5\n",
              "47  0.014326 -0.032938  0.011557  ...  0.032633 -0.010871 -0.019181\n",
              "3   0.072496  0.102868 -0.154758  ... -0.274596  0.379411 -0.213522\n",
              "36  0.038781  0.194473  0.161736  ...  0.054927 -0.048412 -0.278045\n",
              "33 -0.264810  1.000158 -0.095905  ... -0.095922 -0.479067 -0.015052\n",
              "29  0.061836 -0.178680  0.130582  ...  0.139285  0.167097 -0.156149\n",
              "41  0.162075  0.084360 -0.220266  ...  0.084891  0.244382 -0.335256\n",
              "23  0.067588  0.132297  0.312838  ... -0.069851 -0.328741 -0.038511\n",
              "27 -0.130493  0.106775  0.094997  ...  0.095461 -0.016718 -0.166605\n",
              "0   0.229982 -0.094482  0.044814  ... -0.313528  0.217301 -0.070856\n",
              "11  0.027595 -0.009162 -0.036530  ... -0.055504  0.028041  0.044671\n",
              "\n",
              "[10 rows x 36 columns]"
            ]
          },
          "metadata": {},
          "execution_count": 14
        }
      ]
    },
    {
      "cell_type": "markdown",
      "metadata": {
        "id": "iQmX8A0ZGZ9_"
      },
      "source": [
        "Prepare six separate plots for each of the multi-class coefficients."
      ]
    },
    {
      "cell_type": "code",
      "metadata": {
        "collapsed": true,
        "id": "Pojz2IPCGZ9_",
        "colab": {
          "base_uri": "https://localhost:8080/",
          "height": 729
        },
        "outputId": "55676c0e-c8f0-4999-9761-96c358a2a7b5"
      },
      "source": [
        "# try the plots\n",
        "\n",
        "fig, axList = plt.subplots(nrows=3, ncols=2)\n",
        "axList = axList.flatten()\n",
        "fig.set_size_inches(10,10)\n",
        "\n",
        "\n",
        "for ax in enumerate(axList):\n",
        "    loc = ax[0]\n",
        "    ax = ax[1]\n",
        "    \n",
        "    data = coefficients.xs(loc, level=1, axis=1)\n",
        "    data.plot(marker='o', ls='', ms=1.0, ax=ax, legend=False)\n",
        "    \n",
        "    if ax is axList[0]:\n",
        "        ax.legend(loc=4)\n",
        "        \n",
        "    ax.set(title='Coefficient Set '+str(loc))\n",
        "\n",
        "plt.tight_layout()"
      ],
      "execution_count": 17,
      "outputs": [
        {
          "output_type": "display_data",
          "data": {
            "image/png": "[encoded data removed]",
            "text/plain": [
              "<Figure size 720x720 with 6 Axes>"
            ]
          },
          "metadata": {
            "needs_background": "light"
          }
        }
      ]
    },
    {
      "cell_type": "markdown",
      "metadata": {
        "id": "toID6jn3GZ-A"
      },
      "source": [
        "## Question 11\n",
        "\n",
        "* Predict and store the class for each model.\n",
        "* Also store the probability for the predicted class for each model. "
      ]
    },
    {
      "cell_type": "code",
      "metadata": {
        "collapsed": true,
        "id": "1NdjAUwOGZ-A",
        "colab": {
          "base_uri": "https://localhost:8080/",
          "height": 203
        },
        "outputId": "acf3ef5a-4382-4c29-f25e-99ec396025ba"
      },
      "source": [
        "# Predict the class and the probability for each\n",
        "\n",
        "y_pred = list()\n",
        "y_prob = list()\n",
        "\n",
        "coeff_labels = ['lr', 'l1', 'l2', 'newton', 'sag', 'saga']\n",
        "coeff_models = [new_lr, new_lr_l1, new_lr_l2, new_lr_newton, new_lr_sag, new_lr_saga]\n",
        "\n",
        "for lab,mod in zip(coeff_labels, coeff_models):\n",
        "    y_pred.append(pd.Series(mod.predict(X_test_new), name=lab))\n",
        "    y_prob.append(pd.Series(mod.predict_proba(X_test_new).max(axis=1), name=lab))\n",
        "    \n",
        "y_pred = pd.concat(y_pred, axis=1)\n",
        "y_prob = pd.concat(y_prob, axis=1)\n",
        "\n",
        "y_pred.head()\n"
      ],
      "execution_count": 19,
      "outputs": [
        {
          "output_type": "execute_result",
          "data": {
            "text/html": [
              "<div>\n",
              "<style scoped>\n",
              "    .dataframe tbody tr th:only-of-type {\n",
              "        vertical-align: middle;\n",
              "    }\n",
              "\n",
              "    .dataframe tbody tr th {\n",
              "        vertical-align: top;\n",
              "    }\n",
              "\n",
              "    .dataframe thead th {\n",
              "        text-align: right;\n",
              "    }\n",
              "</style>\n",
              "<table border=\"1\" class=\"dataframe\">\n",
              "  <thead>\n",
              "    <tr style=\"text-align: right;\">\n",
              "      <th></th>\n",
              "      <th>lr</th>\n",
              "      <th>l1</th>\n",
              "      <th>l2</th>\n",
              "      <th>newton</th>\n",
              "      <th>sag</th>\n",
              "      <th>saga</th>\n",
              "    </tr>\n",
              "  </thead>\n",
              "  <tbody>\n",
              "    <tr>\n",
              "      <th>0</th>\n",
              "      <td>0</td>\n",
              "      <td>0</td>\n",
              "      <td>0</td>\n",
              "      <td>0</td>\n",
              "      <td>0</td>\n",
              "      <td>0</td>\n",
              "    </tr>\n",
              "    <tr>\n",
              "      <th>1</th>\n",
              "      <td>0</td>\n",
              "      <td>0</td>\n",
              "      <td>0</td>\n",
              "      <td>0</td>\n",
              "      <td>0</td>\n",
              "      <td>0</td>\n",
              "    </tr>\n",
              "    <tr>\n",
              "      <th>2</th>\n",
              "      <td>0</td>\n",
              "      <td>0</td>\n",
              "      <td>0</td>\n",
              "      <td>0</td>\n",
              "      <td>0</td>\n",
              "      <td>0</td>\n",
              "    </tr>\n",
              "    <tr>\n",
              "      <th>3</th>\n",
              "      <td>0</td>\n",
              "      <td>0</td>\n",
              "      <td>2</td>\n",
              "      <td>0</td>\n",
              "      <td>0</td>\n",
              "      <td>0</td>\n",
              "    </tr>\n",
              "    <tr>\n",
              "      <th>4</th>\n",
              "      <td>0</td>\n",
              "      <td>0</td>\n",
              "      <td>0</td>\n",
              "      <td>0</td>\n",
              "      <td>0</td>\n",
              "      <td>0</td>\n",
              "    </tr>\n",
              "  </tbody>\n",
              "</table>\n",
              "</div>"
            ],
            "text/plain": [
              "   lr  l1  l2  newton  sag  saga\n",
              "0   0   0   0       0    0     0\n",
              "1   0   0   0       0    0     0\n",
              "2   0   0   0       0    0     0\n",
              "3   0   0   2       0    0     0\n",
              "4   0   0   0       0    0     0"
            ]
          },
          "metadata": {},
          "execution_count": 19
        }
      ]
    },
    {
      "cell_type": "code",
      "metadata": {
        "colab": {
          "base_uri": "https://localhost:8080/",
          "height": 203
        },
        "id": "wQfM2kvp6OKs",
        "outputId": "42223c79-6eda-4c67-b6d1-be80da079105"
      },
      "source": [
        "y_prob.head()"
      ],
      "execution_count": 20,
      "outputs": [
        {
          "output_type": "execute_result",
          "data": {
            "text/html": [
              "<div>\n",
              "<style scoped>\n",
              "    .dataframe tbody tr th:only-of-type {\n",
              "        vertical-align: middle;\n",
              "    }\n",
              "\n",
              "    .dataframe tbody tr th {\n",
              "        vertical-align: top;\n",
              "    }\n",
              "\n",
              "    .dataframe thead th {\n",
              "        text-align: right;\n",
              "    }\n",
              "</style>\n",
              "<table border=\"1\" class=\"dataframe\">\n",
              "  <thead>\n",
              "    <tr style=\"text-align: right;\">\n",
              "      <th></th>\n",
              "      <th>lr</th>\n",
              "      <th>l1</th>\n",
              "      <th>l2</th>\n",
              "      <th>newton</th>\n",
              "      <th>sag</th>\n",
              "      <th>saga</th>\n",
              "    </tr>\n",
              "  </thead>\n",
              "  <tbody>\n",
              "    <tr>\n",
              "      <th>0</th>\n",
              "      <td>0.196136</td>\n",
              "      <td>0.166667</td>\n",
              "      <td>0.193135</td>\n",
              "      <td>0.197444</td>\n",
              "      <td>0.197444</td>\n",
              "      <td>0.197442</td>\n",
              "    </tr>\n",
              "    <tr>\n",
              "      <th>1</th>\n",
              "      <td>0.215623</td>\n",
              "      <td>0.166667</td>\n",
              "      <td>0.212304</td>\n",
              "      <td>0.215660</td>\n",
              "      <td>0.215662</td>\n",
              "      <td>0.215664</td>\n",
              "    </tr>\n",
              "    <tr>\n",
              "      <th>2</th>\n",
              "      <td>0.196483</td>\n",
              "      <td>0.166667</td>\n",
              "      <td>0.187974</td>\n",
              "      <td>0.191999</td>\n",
              "      <td>0.191997</td>\n",
              "      <td>0.191993</td>\n",
              "    </tr>\n",
              "    <tr>\n",
              "      <th>3</th>\n",
              "      <td>0.188105</td>\n",
              "      <td>0.166667</td>\n",
              "      <td>0.193703</td>\n",
              "      <td>0.191346</td>\n",
              "      <td>0.191343</td>\n",
              "      <td>0.191334</td>\n",
              "    </tr>\n",
              "    <tr>\n",
              "      <th>4</th>\n",
              "      <td>0.236671</td>\n",
              "      <td>0.166667</td>\n",
              "      <td>0.227707</td>\n",
              "      <td>0.234211</td>\n",
              "      <td>0.234212</td>\n",
              "      <td>0.234214</td>\n",
              "    </tr>\n",
              "  </tbody>\n",
              "</table>\n",
              "</div>"
            ],
            "text/plain": [
              "         lr        l1        l2    newton       sag      saga\n",
              "0  0.196136  0.166667  0.193135  0.197444  0.197444  0.197442\n",
              "1  0.215623  0.166667  0.212304  0.215660  0.215662  0.215664\n",
              "2  0.196483  0.166667  0.187974  0.191999  0.191997  0.191993\n",
              "3  0.188105  0.166667  0.193703  0.191346  0.191343  0.191334\n",
              "4  0.236671  0.166667  0.227707  0.234211  0.234212  0.234214"
            ]
          },
          "metadata": {},
          "execution_count": 20
        }
      ]
    },
    {
      "cell_type": "markdown",
      "metadata": {
        "id": "ySxYy_FBGZ-A"
      },
      "source": [
        "## Question 12\n",
        "\n",
        "For each model, calculate the following error metrics: \n",
        "\n",
        "* accuracy\n",
        "* precision\n",
        "* recall\n",
        "* fscore\n",
        "* confusion matrix\n",
        "\n",
        "Decide how to combine the multi-class metrics into a single value for each model."
      ]
    },
    {
      "cell_type": "code",
      "metadata": {
        "collapsed": true,
        "id": "l8T73UXMGZ-A",
        "colab": {
          "base_uri": "https://localhost:8080/"
        },
        "outputId": "2f7d5c98-d39f-4f7c-d0f6-7e2e6bd16bd1"
      },
      "source": [
        "# Calculate the error metrics as listed above\n",
        "from sklearn.metrics import precision_recall_fscore_support as score\n",
        "from sklearn.metrics import confusion_matrix, accuracy_score, roc_auc_score\n",
        "from sklearn.preprocessing import label_binarize\n",
        "\n",
        "metrics = list()\n",
        "cm = dict()\n",
        "\n",
        "for lab in coeff_labels:\n",
        "\n",
        "    # Preciision, recall, f-score from the multi-class support function\n",
        "    precision, recall, fscore, _ = score(Y_test_new, y_pred[lab], average='weighted')\n",
        "    \n",
        "    # The usual way to calculate accuracy\n",
        "    accuracy = accuracy_score(Y_test_new, y_pred[lab])\n",
        "    \n",
        "    # ROC-AUC scores can be calculated by binarizing the data\n",
        "    auc = roc_auc_score(label_binarize(Y_test_new, classes=[0,1,2,3,4,5]),\n",
        "              label_binarize(y_pred[lab], classes=[0,1,2,3,4,5]), \n",
        "              average='weighted')\n",
        "    \n",
        "    # Last, the confusion matrix\n",
        "    cm[lab] = confusion_matrix(Y_test_new, y_pred[lab])\n",
        "    \n",
        "    metrics.append(pd.Series({'precision':precision, 'recall':recall, \n",
        "                              'fscore':fscore, 'accuracy':accuracy,\n",
        "                              'auc':auc}, \n",
        "                             name=lab))\n",
        "\n",
        "metrics = pd.concat(metrics, axis=1)"
      ],
      "execution_count": 23,
      "outputs": [
        {
          "output_type": "stream",
          "name": "stderr",
          "text": [
            "/usr/local/lib/python3.7/dist-packages/sklearn/metrics/_classification.py:1272: UndefinedMetricWarning: Precision and F-score are ill-defined and being set to 0.0 in labels with no predicted samples. Use `zero_division` parameter to control this behavior.\n",
            "  _warn_prf(average, modifier, msg_start, len(result))\n"
          ]
        }
      ]
    },
    {
      "cell_type": "code",
      "metadata": {
        "collapsed": true,
        "id": "WuZ1IuNSGZ-A",
        "colab": {
          "base_uri": "https://localhost:8080/",
          "height": 203
        },
        "outputId": "089f0e75-b170-4626-9fbc-048ce56790a1"
      },
      "source": [
        "#Run the metrics\n",
        "metrics"
      ],
      "execution_count": 24,
      "outputs": [
        {
          "output_type": "execute_result",
          "data": {
            "text/html": [
              "<div>\n",
              "<style scoped>\n",
              "    .dataframe tbody tr th:only-of-type {\n",
              "        vertical-align: middle;\n",
              "    }\n",
              "\n",
              "    .dataframe tbody tr th {\n",
              "        vertical-align: top;\n",
              "    }\n",
              "\n",
              "    .dataframe thead th {\n",
              "        text-align: right;\n",
              "    }\n",
              "</style>\n",
              "<table border=\"1\" class=\"dataframe\">\n",
              "  <thead>\n",
              "    <tr style=\"text-align: right;\">\n",
              "      <th></th>\n",
              "      <th>lr</th>\n",
              "      <th>l1</th>\n",
              "      <th>l2</th>\n",
              "      <th>newton</th>\n",
              "      <th>sag</th>\n",
              "      <th>saga</th>\n",
              "    </tr>\n",
              "  </thead>\n",
              "  <tbody>\n",
              "    <tr>\n",
              "      <th>precision</th>\n",
              "      <td>0.182088</td>\n",
              "      <td>0.035038</td>\n",
              "      <td>0.142032</td>\n",
              "      <td>0.169923</td>\n",
              "      <td>0.169923</td>\n",
              "      <td>0.169923</td>\n",
              "    </tr>\n",
              "    <tr>\n",
              "      <th>recall</th>\n",
              "      <td>0.179029</td>\n",
              "      <td>0.187184</td>\n",
              "      <td>0.186796</td>\n",
              "      <td>0.179029</td>\n",
              "      <td>0.179029</td>\n",
              "      <td>0.179029</td>\n",
              "    </tr>\n",
              "    <tr>\n",
              "      <th>fscore</th>\n",
              "      <td>0.149766</td>\n",
              "      <td>0.059027</td>\n",
              "      <td>0.139922</td>\n",
              "      <td>0.147844</td>\n",
              "      <td>0.147844</td>\n",
              "      <td>0.147844</td>\n",
              "    </tr>\n",
              "    <tr>\n",
              "      <th>accuracy</th>\n",
              "      <td>0.179029</td>\n",
              "      <td>0.187184</td>\n",
              "      <td>0.186796</td>\n",
              "      <td>0.179029</td>\n",
              "      <td>0.179029</td>\n",
              "      <td>0.179029</td>\n",
              "    </tr>\n",
              "    <tr>\n",
              "      <th>auc</th>\n",
              "      <td>0.499016</td>\n",
              "      <td>0.500000</td>\n",
              "      <td>0.502112</td>\n",
              "      <td>0.499046</td>\n",
              "      <td>0.499046</td>\n",
              "      <td>0.499046</td>\n",
              "    </tr>\n",
              "  </tbody>\n",
              "</table>\n",
              "</div>"
            ],
            "text/plain": [
              "                 lr        l1        l2    newton       sag      saga\n",
              "precision  0.182088  0.035038  0.142032  0.169923  0.169923  0.169923\n",
              "recall     0.179029  0.187184  0.186796  0.179029  0.179029  0.179029\n",
              "fscore     0.149766  0.059027  0.139922  0.147844  0.147844  0.147844\n",
              "accuracy   0.179029  0.187184  0.186796  0.179029  0.179029  0.179029\n",
              "auc        0.499016  0.500000  0.502112  0.499046  0.499046  0.499046"
            ]
          },
          "metadata": {},
          "execution_count": 24
        }
      ]
    },
    {
      "cell_type": "markdown",
      "metadata": {
        "id": "B7e3WZTYGZ-A"
      },
      "source": [
        "## Question 13\n",
        "\n",
        "Display or plot the confusion matrix for each model."
      ]
    },
    {
      "cell_type": "code",
      "metadata": {
        "collapsed": true,
        "id": "mD-ThxzpGZ-A",
        "colab": {
          "base_uri": "https://localhost:8080/",
          "height": 729
        },
        "outputId": "ff993b53-6921-4586-ef52-0f3c1d1f770c"
      },
      "source": [
        "#plot the confusion matrix\n",
        "fig, axList = plt.subplots(nrows=2, ncols=2)\n",
        "axList = axList.flatten()\n",
        "fig.set_size_inches(12, 10)\n",
        "\n",
        "axList[-1].axis('off')\n",
        "\n",
        "for ax,lab in zip(axList[:-1], coeff_labels):\n",
        "    sns.heatmap(cm[lab], ax=ax, annot=True, fmt='d');\n",
        "    ax.set(title=lab);\n",
        "    \n",
        "plt.tight_layout()"
      ],
      "execution_count": 25,
      "outputs": [
        {
          "output_type": "display_data",
          "data": {
            "image/png": "[encoded data removed]",
            "text/plain": [
              "<Figure size 864x720 with 7 Axes>"
            ]
          },
          "metadata": {
            "needs_background": "light"
          }
        }
      ]
    },
    {
      "cell_type": "code",
      "metadata": {
        "collapsed": true,
        "id": "J7wf_y-5GZ-B"
      },
      "source": [
        "# Perform a comparison of the outputs between Question 7 and 12 and give your observation"
      ],
      "execution_count": null,
      "outputs": []
    },
    {
      "cell_type": "code",
      "metadata": {
        "collapsed": true,
        "id": "fb1jxzLOGZ-B"
      },
      "source": [
        "# Perform a comparison of the outputs between Question 8 and 13 and give your observation"
      ],
      "execution_count": null,
      "outputs": []
    },
    {
      "cell_type": "code",
      "metadata": {
        "collapsed": true,
        "id": "lNDUiRibGZ-B"
      },
      "source": [
        ""
      ],
      "execution_count": null,
      "outputs": []
    }
  ]
}